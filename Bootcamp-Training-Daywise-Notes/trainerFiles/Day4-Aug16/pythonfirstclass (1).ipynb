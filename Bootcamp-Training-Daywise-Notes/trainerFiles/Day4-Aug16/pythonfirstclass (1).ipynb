{
 "cells": [
  {
   "cell_type": "markdown",
   "id": "ec139235-e572-4e23-9be5-e55f8d2e6bf8",
   "metadata": {},
   "source": [
    "variable declaration"
   ]
  },
  {
   "cell_type": "code",
   "execution_count": 1,
   "id": "056c8a1b-6326-41b0-8e66-bb009293a215",
   "metadata": {},
   "outputs": [
    {
     "name": "stdout",
     "output_type": "stream",
     "text": [
      "34\n"
     ]
    }
   ],
   "source": [
    "a=34\n",
    "print(a)"
   ]
  },
  {
   "cell_type": "code",
   "execution_count": 5,
   "id": "f3aeeb5a-22ca-4816-9f75-63f1c04f398d",
   "metadata": {},
   "outputs": [
    {
     "name": "stdout",
     "output_type": "stream",
     "text": [
      "12\n",
      "23\n",
      "34\n",
      "45\n"
     ]
    }
   ],
   "source": [
    "a=12\n",
    "b=23\n",
    "c=34\n",
    "d=45\n",
    "\n",
    "print(a)\n",
    "print(b)\n",
    "print(c)\n",
    "print(d)"
   ]
  },
  {
   "cell_type": "code",
   "execution_count": 7,
   "id": "8a23fb41-7a7d-49c3-a16b-775f8af6beb8",
   "metadata": {},
   "outputs": [
    {
     "name": "stdout",
     "output_type": "stream",
     "text": [
      "hello elseveir\n"
     ]
    }
   ],
   "source": [
    "\n",
    "name='elseveir'\n",
    "print('hello',name)  # , is concatenation"
   ]
  },
  {
   "cell_type": "code",
   "execution_count": 8,
   "id": "4288a7e2-7821-4fe6-a95e-87eabb8ba048",
   "metadata": {},
   "outputs": [
    {
     "name": "stdout",
     "output_type": "stream",
     "text": [
      "hello elseveir\n"
     ]
    }
   ],
   "source": [
    "print('hello'+ ' '+name) # here am printing the value\n",
    "\n",
    "'''dfjsgfhjghj\n",
    "gfhkjdsfdsfkdsf\n",
    "fkjsydfkjdsgfdsg'''"
   ]
  },
  {
   "cell_type": "code",
   "execution_count": 9,
   "id": "8d13ced9-9d7d-41cb-8327-2c90ac58497d",
   "metadata": {},
   "outputs": [
    {
     "name": "stdout",
     "output_type": "stream",
     "text": [
      "10\n",
      "2.3\n",
      "hello\n",
      "hi\n"
     ]
    }
   ],
   "source": [
    "a=10\n",
    "b=2.3\n",
    "c='hello'\n",
    "d=\"hi\"\n",
    "\n",
    "print(a)\n",
    "print(b)\n",
    "print(c)\n",
    "print(d)"
   ]
  },
  {
   "cell_type": "code",
   "execution_count": null,
   "id": "2560a770-0552-439b-a487-fc43d862007b",
   "metadata": {},
   "outputs": [],
   "source": [
    "datatypes :\n",
    "\n",
    "number - int , decimal or float\n",
    "string = '' or \"\"\n",
    "boolena"
   ]
  },
  {
   "cell_type": "code",
   "execution_count": null,
   "id": "fba71236-4b5d-4ffa-bf0f-aa848d30d2b3",
   "metadata": {},
   "outputs": [],
   "source": [
    "single line comment - #\n",
    "multi line comment  = ''' ''' or \"\"\" \"\"\""
   ]
  },
  {
   "cell_type": "code",
   "execution_count": 15,
   "id": "e33ca232-ebfd-439e-aff1-6e1dfc76f400",
   "metadata": {},
   "outputs": [
    {
     "data": {
      "text/plain": [
       "str"
      ]
     },
     "execution_count": 15,
     "metadata": {},
     "output_type": "execute_result"
    }
   ],
   "source": [
    "a=223\n",
    "b=34.4\n",
    "c='hi'\n",
    "d=\"hello\"\n",
    "\n",
    "\n",
    "#typeof\n",
    "\n",
    "a1=type(d)\n",
    "a1"
   ]
  },
  {
   "cell_type": "code",
   "execution_count": 16,
   "id": "19e995c9-1a94-4e49-9496-ef8a5126f6af",
   "metadata": {},
   "outputs": [
    {
     "name": "stdout",
     "output_type": "stream",
     "text": [
      "<class 'int'>\n"
     ]
    }
   ],
   "source": [
    "print(type(a))"
   ]
  },
  {
   "cell_type": "markdown",
   "id": "d2086909-34c6-4cd0-9ebf-67f80d680e5e",
   "metadata": {},
   "source": [
    "multiple variable declaration"
   ]
  },
  {
   "cell_type": "code",
   "execution_count": 17,
   "id": "3be8e42f-58d4-4270-a6fa-b71c57958868",
   "metadata": {},
   "outputs": [
    {
     "name": "stdout",
     "output_type": "stream",
     "text": [
      "10\n",
      "20\n",
      "30\n"
     ]
    }
   ],
   "source": [
    "a,b,c=10,20,30\n",
    "\n",
    "print(a)\n",
    "print(b)\n",
    "print(c)"
   ]
  },
  {
   "cell_type": "code",
   "execution_count": null,
   "id": "4973d919-6519-4918-96a3-a00c15165a7a",
   "metadata": {},
   "outputs": [],
   "source": [
    "a=23\n",
    "declaration\n",
    "assign\n",
    "definition\n",
    "\n"
   ]
  },
  {
   "cell_type": "code",
   "execution_count": 18,
   "id": "d43515fd-fbe2-499d-be5a-1dff5aa3f1b0",
   "metadata": {},
   "outputs": [
    {
     "ename": "NameError",
     "evalue": "name 'z' is not defined",
     "output_type": "error",
     "traceback": [
      "\u001b[1;31m---------------------------------------------------------------------------\u001b[0m",
      "\u001b[1;31mNameError\u001b[0m                                 Traceback (most recent call last)",
      "Cell \u001b[1;32mIn[18], line 1\u001b[0m\n\u001b[1;32m----> 1\u001b[0m z\n\u001b[0;32m      2\u001b[0m \u001b[38;5;28mprint\u001b[39m(z)\n",
      "\u001b[1;31mNameError\u001b[0m: name 'z' is not defined"
     ]
    }
   ],
   "source": [
    "z\n",
    "print(z)"
   ]
  },
  {
   "cell_type": "code",
   "execution_count": 19,
   "id": "d2705e68-4867-47ce-8b5b-2914e0f9a06e",
   "metadata": {},
   "outputs": [
    {
     "name": "stdout",
     "output_type": "stream",
     "text": [
      "10 10 10\n"
     ]
    }
   ],
   "source": [
    "a=b=c=10\n",
    "print(a,b,c)"
   ]
  },
  {
   "cell_type": "markdown",
   "id": "41330934-909c-4b57-9d78-958be93a3349",
   "metadata": {},
   "source": [
    "type casting"
   ]
  },
  {
   "cell_type": "code",
   "execution_count": 21,
   "id": "2c45cc59-8b58-4fd0-ab3b-fd7743c57bda",
   "metadata": {},
   "outputs": [
    {
     "name": "stdout",
     "output_type": "stream",
     "text": [
      "23\n",
      "23.0\n",
      "<class 'float'>\n"
     ]
    }
   ],
   "source": [
    "a=23\n",
    "\n",
    "print(a)\n",
    "\n",
    "b=float(a)\n",
    "\n",
    "print(b)\n",
    "print(type(b))"
   ]
  },
  {
   "cell_type": "code",
   "execution_count": 24,
   "id": "ad78d3ed-13e1-4089-999b-cb53af1196b7",
   "metadata": {},
   "outputs": [
    {
     "name": "stdout",
     "output_type": "stream",
     "text": [
      "<class 'float'>\n",
      "4\n",
      "<class 'int'>\n"
     ]
    }
   ],
   "source": [
    "a=4.6\n",
    "print(type(a))\n",
    "\n",
    "b=int(a)\n",
    "print(b)\n",
    "print(type(b))"
   ]
  },
  {
   "cell_type": "code",
   "execution_count": 28,
   "id": "b2359746-c8bb-42bf-8c3c-bd4e101a0fa3",
   "metadata": {},
   "outputs": [
    {
     "name": "stdout",
     "output_type": "stream",
     "text": [
      "<class 'str'>\n",
      "<class 'int'>\n",
      "10\n"
     ]
    }
   ],
   "source": [
    "a=\"10\"\n",
    "\n",
    "print(type(a))\n",
    "\n",
    "\n",
    "b=int(a)\n",
    "\n",
    "print(type(b))\n",
    "print(b)\n"
   ]
  },
  {
   "cell_type": "markdown",
   "id": "96f39923-d5a2-4e81-8be7-bd075639f8f6",
   "metadata": {},
   "source": [
    "printing in python"
   ]
  },
  {
   "cell_type": "code",
   "execution_count": 30,
   "id": "57142947-1bce-41ed-aa46-26070686469c",
   "metadata": {},
   "outputs": [
    {
     "name": "stdout",
     "output_type": "stream",
     "text": [
      "sachin studied python and got 1 rank\n"
     ]
    }
   ],
   "source": [
    "name = 'sachin'\n",
    "course='python'\n",
    "rank = 1\n",
    "\n",
    "# sachin studied python and got 1 rank \n",
    "\n",
    "print(name,'studied',course,'and got',rank,'rank')"
   ]
  },
  {
   "cell_type": "code",
   "execution_count": null,
   "id": "d2fbe32c-674a-4d15-abc3-1a09d4414588",
   "metadata": {},
   "outputs": [],
   "source": [
    "operators"
   ]
  },
  {
   "cell_type": "code",
   "execution_count": 35,
   "id": "9caf5b7b-63c3-4e20-97cb-2f55470346d8",
   "metadata": {},
   "outputs": [
    {
     "name": "stdout",
     "output_type": "stream",
     "text": [
      "5.0\n"
     ]
    }
   ],
   "source": [
    "a=10\n",
    "b=2\n",
    "\n",
    "c=a/b\n",
    "print(c)"
   ]
  },
  {
   "cell_type": "code",
   "execution_count": 36,
   "id": "57af13c7-b9a7-4061-ba9e-f58a7e246539",
   "metadata": {},
   "outputs": [
    {
     "name": "stdout",
     "output_type": "stream",
     "text": [
      "1\n"
     ]
    }
   ],
   "source": [
    "a=10\n",
    "b=3\n",
    "\n",
    "\n",
    "c=a%b # modulo operator\n",
    "\n",
    "print(c)"
   ]
  },
  {
   "cell_type": "code",
   "execution_count": 40,
   "id": "745f06cb-3621-4495-9a2d-090cbda877bd",
   "metadata": {},
   "outputs": [
    {
     "name": "stdout",
     "output_type": "stream",
     "text": [
      "4.0\n"
     ]
    }
   ],
   "source": [
    "a=9\n",
    "b=2\n",
    "c=a//b\n",
    "print(float(c)) # floor operator"
   ]
  },
  {
   "cell_type": "code",
   "execution_count": 41,
   "id": "70d28155-7ebb-4792-94b4-8e5098e09f52",
   "metadata": {},
   "outputs": [
    {
     "name": "stdout",
     "output_type": "stream",
     "text": [
      "1000\n"
     ]
    }
   ],
   "source": [
    "a=10\n",
    "b=3\n",
    "c=a**b\n",
    "print(c) # exponenial\n"
   ]
  },
  {
   "cell_type": "code",
   "execution_count": null,
   "id": "9962e608-a33f-49f0-b11d-563f77e15180",
   "metadata": {},
   "outputs": [],
   "source": [
    "a=10\n",
    "b=3\n",
    "a==b\n"
   ]
  },
  {
   "cell_type": "code",
   "execution_count": null,
   "id": "7a6fb352-73ae-4181-bcb1-c8fcdfaf143b",
   "metadata": {},
   "outputs": [],
   "source": [
    "assignment operator "
   ]
  },
  {
   "cell_type": "code",
   "execution_count": 42,
   "id": "3e5be8dd-481c-4df8-aac2-a1a03ff7cede",
   "metadata": {},
   "outputs": [
    {
     "name": "stdout",
     "output_type": "stream",
     "text": [
      "14\n"
     ]
    }
   ],
   "source": [
    "a=10\n",
    "b=a+4\n",
    "print(b)"
   ]
  },
  {
   "cell_type": "code",
   "execution_count": 43,
   "id": "281179f4-e659-4185-a462-48095944a2e3",
   "metadata": {},
   "outputs": [
    {
     "name": "stdout",
     "output_type": "stream",
     "text": [
      "14\n"
     ]
    }
   ],
   "source": [
    "a=10\n",
    "a+=4\n",
    "print(a)"
   ]
  },
  {
   "cell_type": "code",
   "execution_count": 48,
   "id": "de494282-7fd5-431d-8623-25d67e08c0b2",
   "metadata": {},
   "outputs": [
    {
     "name": "stdout",
     "output_type": "stream",
     "text": [
      "a and b are equal\n"
     ]
    }
   ],
   "source": [
    "a=200\n",
    "b=200\n",
    "\n",
    "if a>b:\n",
    "    print('a is bigger')\n",
    "elif a==b:\n",
    "    print('a and b are equal')\n",
    "else:\n",
    "    print('b is bigger')"
   ]
  },
  {
   "cell_type": "code",
   "execution_count": null,
   "id": "c62a7396-d1f8-42e0-bd7b-7c11b6747146",
   "metadata": {},
   "outputs": [],
   "source": [
    "nested if"
   ]
  },
  {
   "cell_type": "code",
   "execution_count": 51,
   "id": "54d71326-a3ce-4714-be6a-f651f790c563",
   "metadata": {},
   "outputs": [
    {
     "name": "stdout",
     "output_type": "stream",
     "text": [
      "negative number\n"
     ]
    }
   ],
   "source": [
    "num = -34\n",
    "\n",
    "if num>=0:\n",
    "    if num==0:\n",
    "        print('zero numer')\n",
    "    else:\n",
    "        print('positive number')\n",
    "else:\n",
    "    print('negative number')"
   ]
  },
  {
   "cell_type": "code",
   "execution_count": null,
   "id": "17909985-7b24-413d-8b60-779ad2a3931d",
   "metadata": {},
   "outputs": [],
   "source": [
    "# input reading"
   ]
  },
  {
   "cell_type": "code",
   "execution_count": 54,
   "id": "af582f63-57d3-4d94-a434-1c48b0b15011",
   "metadata": {},
   "outputs": [
    {
     "name": "stdin",
     "output_type": "stream",
     "text": [
      "enter your name: vishnu priya\n"
     ]
    },
    {
     "name": "stdout",
     "output_type": "stream",
     "text": [
      "mrs vishnu priya\n"
     ]
    }
   ],
   "source": [
    "a= input('enter your name:')\n",
    "print('mrs',a)"
   ]
  },
  {
   "cell_type": "code",
   "execution_count": 59,
   "id": "49cce57c-6dd6-4815-ac21-5871eda038d7",
   "metadata": {},
   "outputs": [
    {
     "name": "stdin",
     "output_type": "stream",
     "text": [
      "enter a value: 4.5\n",
      "enter b value: 5\n"
     ]
    },
    {
     "name": "stdout",
     "output_type": "stream",
     "text": [
      "9.5\n"
     ]
    }
   ],
   "source": [
    "a= float(input('enter a value:'))\n",
    "b=int(input('enter b value:'))\n",
    "c=a+b\n",
    "print(c)\n"
   ]
  },
  {
   "cell_type": "code",
   "execution_count": 56,
   "id": "e3d95af0-73e7-4c51-abda-2ce7dcbd8156",
   "metadata": {},
   "outputs": [
    {
     "data": {
      "text/plain": [
       "str"
      ]
     },
     "execution_count": 56,
     "metadata": {},
     "output_type": "execute_result"
    }
   ],
   "source": [
    "type(a)"
   ]
  },
  {
   "cell_type": "code",
   "execution_count": null,
   "id": "9c4d9b59-3e0b-4094-a79d-0eb9cde37b5e",
   "metadata": {},
   "outputs": [],
   "source": [
    "int - accept int\n",
    "float - int , float both will be accepted\n"
   ]
  },
  {
   "cell_type": "code",
   "execution_count": 62,
   "id": "0a3161d0-ab4e-4d80-826b-639b90cd6516",
   "metadata": {},
   "outputs": [
    {
     "name": "stdout",
     "output_type": "stream",
     "text": [
      "a is bigger\n"
     ]
    }
   ],
   "source": [
    "a=210\n",
    "b=34\n",
    "c=45\n",
    "\n",
    "if a>b and a>c:\n",
    "    print('a is bigger')"
   ]
  },
  {
   "cell_type": "code",
   "execution_count": null,
   "id": "2e89ce87-960d-414a-a1d1-2ad23e1a294c",
   "metadata": {},
   "outputs": [],
   "source": []
  },
  {
   "cell_type": "code",
   "execution_count": null,
   "id": "a24c66f6-3555-4f41-bd3b-64f0070356ff",
   "metadata": {},
   "outputs": [],
   "source": []
  }
 ],
 "metadata": {
  "kernelspec": {
   "display_name": "Python 3 (ipykernel)",
   "language": "python",
   "name": "python3"
  },
  "language_info": {
   "codemirror_mode": {
    "name": "ipython",
    "version": 3
   },
   "file_extension": ".py",
   "mimetype": "text/x-python",
   "name": "python",
   "nbconvert_exporter": "python",
   "pygments_lexer": "ipython3",
   "version": "3.12.4"
  }
 },
 "nbformat": 4,
 "nbformat_minor": 5
}
