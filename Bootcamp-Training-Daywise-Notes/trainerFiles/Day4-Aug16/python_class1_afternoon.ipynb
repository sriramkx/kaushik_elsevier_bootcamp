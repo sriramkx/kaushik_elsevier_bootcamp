{
 "cells": [
  {
   "cell_type": "code",
   "execution_count": 2,
   "id": "9bbf4a33-e1cb-4da7-9797-c6cb6d906e77",
   "metadata": {},
   "outputs": [
    {
     "name": "stdout",
     "output_type": "stream",
     "text": [
      "hello-world!"
     ]
    }
   ],
   "source": [
    "print(\"hello\",\"world\",sep=\"-\",end=\"!\")"
   ]
  },
  {
   "cell_type": "code",
   "execution_count": null,
   "id": "59aee2e4-189d-497c-8002-b53c7c5221e2",
   "metadata": {},
   "outputs": [],
   "source": [
    "escape character"
   ]
  },
  {
   "cell_type": "code",
   "execution_count": 3,
   "id": "0074bb81-8d08-4bb0-8225-8d9c2a9f8b56",
   "metadata": {},
   "outputs": [
    {
     "name": "stdout",
     "output_type": "stream",
     "text": [
      "hello\n"
     ]
    }
   ],
   "source": [
    "print('hello')"
   ]
  },
  {
   "cell_type": "code",
   "execution_count": 5,
   "id": "97e2653b-7907-4502-8f5b-0f8f197031b1",
   "metadata": {},
   "outputs": [
    {
     "name": "stdout",
     "output_type": "stream",
     "text": [
      "'hello'\n"
     ]
    }
   ],
   "source": [
    "print('\\'hello\\'')"
   ]
  },
  {
   "cell_type": "code",
   "execution_count": 6,
   "id": "5a44773a-8c2e-4c80-8553-3689bcf391d9",
   "metadata": {},
   "outputs": [
    {
     "name": "stdout",
     "output_type": "stream",
     "text": [
      "'hello'\n"
     ]
    }
   ],
   "source": [
    "print(\"'hello'\")"
   ]
  },
  {
   "cell_type": "code",
   "execution_count": 8,
   "id": "791581bd-e557-4fac-926e-a3b18f42007d",
   "metadata": {},
   "outputs": [
    {
     "name": "stdout",
     "output_type": "stream",
     "text": [
      "\n",
      " hello\n"
     ]
    }
   ],
   "source": [
    "print('\\n hello')"
   ]
  },
  {
   "cell_type": "code",
   "execution_count": 10,
   "id": "5fd83dc1-a2af-4fb2-ac7b-f20df5d4c437",
   "metadata": {},
   "outputs": [
    {
     "name": "stdout",
     "output_type": "stream",
     "text": [
      "\\hello\n"
     ]
    }
   ],
   "source": [
    "print('\\\\hello')"
   ]
  },
  {
   "cell_type": "markdown",
   "id": "352db33e-d515-4699-b63c-e2ec07ec87bb",
   "metadata": {},
   "source": [
    "string handling"
   ]
  },
  {
   "cell_type": "code",
   "execution_count": 16,
   "id": "56ae41ed-efa8-427c-a19b-c418f28d8515",
   "metadata": {},
   "outputs": [
    {
     "name": "stdout",
     "output_type": "stream",
     "text": [
      "12\n",
      "hon\n",
      "hon class\n",
      "pytho\n",
      "\n"
     ]
    }
   ],
   "source": [
    "s= \"python class\"\n",
    "#   012345678910\n",
    "print(len(s))\n",
    "print(s[3:6])\n",
    "\n",
    "print(s[3:])\n",
    "\n",
    "\n",
    "print(s[:5])\n",
    "\n",
    "print(s[5:3])"
   ]
  },
  {
   "cell_type": "code",
   "execution_count": 18,
   "id": "105d2149-d3dc-48bf-989a-3cbaeb243c4b",
   "metadata": {},
   "outputs": [
    {
     "name": "stdout",
     "output_type": "stream",
     "text": [
      "p y t h o n "
     ]
    }
   ],
   "source": [
    "s=\"python\"\n",
    "\n",
    "for i in s:\n",
    "    print(i,end= \" \" )"
   ]
  },
  {
   "cell_type": "code",
   "execution_count": 19,
   "id": "336e5c2b-e481-48ee-91ba-9bf0c932b596",
   "metadata": {},
   "outputs": [
    {
     "data": {
      "text/plain": [
       "['__add__',\n",
       " '__class__',\n",
       " '__contains__',\n",
       " '__delattr__',\n",
       " '__dir__',\n",
       " '__doc__',\n",
       " '__eq__',\n",
       " '__format__',\n",
       " '__ge__',\n",
       " '__getattribute__',\n",
       " '__getitem__',\n",
       " '__getnewargs__',\n",
       " '__getstate__',\n",
       " '__gt__',\n",
       " '__hash__',\n",
       " '__init__',\n",
       " '__init_subclass__',\n",
       " '__iter__',\n",
       " '__le__',\n",
       " '__len__',\n",
       " '__lt__',\n",
       " '__mod__',\n",
       " '__mul__',\n",
       " '__ne__',\n",
       " '__new__',\n",
       " '__reduce__',\n",
       " '__reduce_ex__',\n",
       " '__repr__',\n",
       " '__rmod__',\n",
       " '__rmul__',\n",
       " '__setattr__',\n",
       " '__sizeof__',\n",
       " '__str__',\n",
       " '__subclasshook__',\n",
       " 'capitalize',\n",
       " 'casefold',\n",
       " 'center',\n",
       " 'count',\n",
       " 'encode',\n",
       " 'endswith',\n",
       " 'expandtabs',\n",
       " 'find',\n",
       " 'format',\n",
       " 'format_map',\n",
       " 'index',\n",
       " 'isalnum',\n",
       " 'isalpha',\n",
       " 'isascii',\n",
       " 'isdecimal',\n",
       " 'isdigit',\n",
       " 'isidentifier',\n",
       " 'islower',\n",
       " 'isnumeric',\n",
       " 'isprintable',\n",
       " 'isspace',\n",
       " 'istitle',\n",
       " 'isupper',\n",
       " 'join',\n",
       " 'ljust',\n",
       " 'lower',\n",
       " 'lstrip',\n",
       " 'maketrans',\n",
       " 'partition',\n",
       " 'removeprefix',\n",
       " 'removesuffix',\n",
       " 'replace',\n",
       " 'rfind',\n",
       " 'rindex',\n",
       " 'rjust',\n",
       " 'rpartition',\n",
       " 'rsplit',\n",
       " 'rstrip',\n",
       " 'split',\n",
       " 'splitlines',\n",
       " 'startswith',\n",
       " 'strip',\n",
       " 'swapcase',\n",
       " 'title',\n",
       " 'translate',\n",
       " 'upper',\n",
       " 'zfill']"
      ]
     },
     "execution_count": 19,
     "metadata": {},
     "output_type": "execute_result"
    }
   ],
   "source": [
    "dir(str)"
   ]
  },
  {
   "cell_type": "code",
   "execution_count": 20,
   "id": "22984010-6873-4e2b-868b-1e4125c23929",
   "metadata": {},
   "outputs": [
    {
     "data": {
      "text/plain": [
       "'PYTHON'"
      ]
     },
     "execution_count": 20,
     "metadata": {},
     "output_type": "execute_result"
    }
   ],
   "source": [
    "s=\"python\"\n",
    "s1=s.upper()\n",
    "s1"
   ]
  },
  {
   "cell_type": "code",
   "execution_count": 23,
   "id": "a70d2b34-5281-4cb8-956e-7c4072ae983c",
   "metadata": {},
   "outputs": [
    {
     "name": "stdout",
     "output_type": "stream",
     "text": [
      "it is not in uppercase\n"
     ]
    }
   ],
   "source": [
    "s= \"python\"\n",
    "\n",
    "s.isupper()\n",
    "\n",
    "if s.isupper():\n",
    "    print('it is in uppercase')\n",
    "else:\n",
    "    print('it is not in uppercase')"
   ]
  },
  {
   "cell_type": "code",
   "execution_count": 24,
   "id": "e4e1f22d-2c6f-462a-a5a0-7a2294936e91",
   "metadata": {},
   "outputs": [
    {
     "data": {
      "text/plain": [
       "['__add__',\n",
       " '__class__',\n",
       " '__class_getitem__',\n",
       " '__contains__',\n",
       " '__delattr__',\n",
       " '__delitem__',\n",
       " '__dir__',\n",
       " '__doc__',\n",
       " '__eq__',\n",
       " '__format__',\n",
       " '__ge__',\n",
       " '__getattribute__',\n",
       " '__getitem__',\n",
       " '__getstate__',\n",
       " '__gt__',\n",
       " '__hash__',\n",
       " '__iadd__',\n",
       " '__imul__',\n",
       " '__init__',\n",
       " '__init_subclass__',\n",
       " '__iter__',\n",
       " '__le__',\n",
       " '__len__',\n",
       " '__lt__',\n",
       " '__mul__',\n",
       " '__ne__',\n",
       " '__new__',\n",
       " '__reduce__',\n",
       " '__reduce_ex__',\n",
       " '__repr__',\n",
       " '__reversed__',\n",
       " '__rmul__',\n",
       " '__setattr__',\n",
       " '__setitem__',\n",
       " '__sizeof__',\n",
       " '__str__',\n",
       " '__subclasshook__',\n",
       " 'append',\n",
       " 'clear',\n",
       " 'copy',\n",
       " 'count',\n",
       " 'extend',\n",
       " 'index',\n",
       " 'insert',\n",
       " 'pop',\n",
       " 'remove',\n",
       " 'reverse',\n",
       " 'sort']"
      ]
     },
     "execution_count": 24,
     "metadata": {},
     "output_type": "execute_result"
    }
   ],
   "source": [
    "dir(list)"
   ]
  },
  {
   "cell_type": "code",
   "execution_count": null,
   "id": "54cfd862-874c-4132-a065-a9cf3cc38f3c",
   "metadata": {},
   "outputs": [],
   "source": [
    "function - block of code\n",
    "\n",
    "named \n",
    "anonymous function\n",
    "\n",
    "\n",
    "funtion\n",
    "function with arguments\n",
    "function with return \n",
    "\n",
    "\n"
   ]
  },
  {
   "cell_type": "code",
   "execution_count": 27,
   "id": "194bb371-304b-42a5-8506-b074c66239aa",
   "metadata": {},
   "outputs": [
    {
     "name": "stdin",
     "output_type": "stream",
     "text": [
      "enter a value 45\n",
      "enter b value 45\n"
     ]
    },
    {
     "name": "stdout",
     "output_type": "stream",
     "text": [
      "90\n"
     ]
    }
   ],
   "source": [
    "a=int(input('enter a value'))\n",
    "b=int(input('enter b value'))\n",
    "\n",
    "def sum():\n",
    "    c=a+b\n",
    "    print(c)\n",
    "sum()"
   ]
  },
  {
   "cell_type": "code",
   "execution_count": 31,
   "id": "061e7c70-9b3f-4d62-ac11-9dd1935dce4c",
   "metadata": {},
   "outputs": [
    {
     "name": "stdin",
     "output_type": "stream",
     "text": [
      "enter a value: 56\n",
      "enter b value 68\n"
     ]
    },
    {
     "name": "stdout",
     "output_type": "stream",
     "text": [
      "124\n",
      "56\n",
      "68\n"
     ]
    }
   ],
   "source": [
    "a=int(input('enter a value:'))\n",
    "b=int(input('enter b value'))\n",
    "\n",
    "def sum(y,x):\n",
    "    c=x+y\n",
    "    print(c)\n",
    "sum(a,b)\n",
    "\n",
    "print(a)\n",
    "print(b)"
   ]
  },
  {
   "cell_type": "code",
   "execution_count": 34,
   "id": "ccb3d79e-c9df-4975-9336-f9388d84f365",
   "metadata": {},
   "outputs": [
    {
     "name": "stdin",
     "output_type": "stream",
     "text": [
      "enter a value 45\n",
      "enter b value 67\n"
     ]
    },
    {
     "name": "stdout",
     "output_type": "stream",
     "text": [
      "112\n"
     ]
    }
   ],
   "source": [
    "a=int(input('enter a value'))\n",
    "b=int(input('enter b value'))\n",
    "\n",
    "def sum():\n",
    "    c=a+b\n",
    "    return c\n",
    "e=sum()\n",
    "print(e)"
   ]
  },
  {
   "cell_type": "code",
   "execution_count": 33,
   "id": "1477db00-83da-4fc3-b6e2-25cd818f65c7",
   "metadata": {},
   "outputs": [
    {
     "name": "stdout",
     "output_type": "stream",
     "text": [
      "\n",
      "None\n"
     ]
    }
   ],
   "source": [
    "print(print())"
   ]
  },
  {
   "cell_type": "code",
   "execution_count": 42,
   "id": "0cc76761-f394-43e5-badb-dfdf4154e8a3",
   "metadata": {},
   "outputs": [
    {
     "name": "stdin",
     "output_type": "stream",
     "text": [
      "enter principal value: 100000\n",
      "enter no of years: 2\n",
      "enter rate of interest: 2.5\n",
      "enter your choice either si or emi: 1\n"
     ]
    },
    {
     "name": "stdout",
     "output_type": "stream",
     "text": [
      "5000.0\n"
     ]
    }
   ],
   "source": [
    "\n",
    "def sicalc(p,n,r):\n",
    "    si=p*n*r/100\n",
    "    return si\n",
    "\n",
    "def emicalc(p,n,r):\n",
    "    emi=p*n*r/200\n",
    "    print(emi)\n",
    "\n",
    "\n",
    "p = int(input('enter principal value:'))\n",
    "n=int(input('enter no of years:'))\n",
    "r=float(input('enter rate of interest:'))\n",
    "\n",
    "\n",
    "choice = input('enter your choice either si or emi:')\n",
    "\n",
    "\n",
    "if choice == '1':\n",
    "    e=sicalc(p,n,r)\n",
    "    print(e)\n",
    "elif choice =='2':\n",
    "    emicalc(p,n,r)\n",
    "\n",
    "    \n",
    "               "
   ]
  },
  {
   "cell_type": "code",
   "execution_count": 43,
   "id": "b8b19623-a4fe-42bc-9a29-3d85bf21bd09",
   "metadata": {},
   "outputs": [
    {
     "name": "stdin",
     "output_type": "stream",
     "text": [
      "enter a value 10\n",
      "enter b value 2\n"
     ]
    },
    {
     "data": {
      "text/plain": [
       "100"
      ]
     },
     "execution_count": 43,
     "metadata": {},
     "output_type": "execute_result"
    }
   ],
   "source": [
    "a=int(input('enter a value'))\n",
    "b=int(input('enter b value'))\n",
    "\n",
    "\n",
    "def square(x,y):\n",
    "    e=x**y\n",
    "    return e\n",
    "square(a,b)"
   ]
  },
  {
   "cell_type": "code",
   "execution_count": 44,
   "id": "0cce4ecd-03a2-413d-bb79-1e43261027b1",
   "metadata": {},
   "outputs": [
    {
     "name": "stdout",
     "output_type": "stream",
     "text": [
      "20 10\n"
     ]
    }
   ],
   "source": [
    "a,b = 10,20\n",
    "\n",
    "c=a\n",
    "a=b\n",
    "b=c\n",
    "\n",
    "print(a,b)"
   ]
  },
  {
   "cell_type": "code",
   "execution_count": 45,
   "id": "51dd243a-b212-4b42-b01c-f173efe31275",
   "metadata": {},
   "outputs": [
    {
     "name": "stdout",
     "output_type": "stream",
     "text": [
      "20\n",
      "10\n"
     ]
    }
   ],
   "source": [
    "a=10\n",
    "b=20\n",
    "\n",
    "a,b = b,a\n",
    "\n",
    "print(a)\n",
    "print(b)"
   ]
  },
  {
   "cell_type": "markdown",
   "id": "caf609e4-12fe-4420-9158-8ccd0c9fa0a4",
   "metadata": {},
   "source": [
    "for loop "
   ]
  },
  {
   "cell_type": "code",
   "execution_count": null,
   "id": "9d367e39-5dfe-41bd-a9e0-13d3d4a6b7a6",
   "metadata": {},
   "outputs": [],
   "source": [
    "a=10\n",
    "a>=11\n",
    "a++"
   ]
  },
  {
   "cell_type": "code",
   "execution_count": 46,
   "id": "97372bb1-ccb4-49be-9d48-acf0b04ba40d",
   "metadata": {},
   "outputs": [
    {
     "name": "stdout",
     "output_type": "stream",
     "text": [
      "0\n",
      "1\n",
      "2\n",
      "3\n",
      "4\n",
      "5\n",
      "6\n",
      "7\n",
      "8\n",
      "9\n",
      "10\n"
     ]
    }
   ],
   "source": [
    "for i in range(0,11):\n",
    "    print(i)"
   ]
  },
  {
   "cell_type": "code",
   "execution_count": 47,
   "id": "60bd9dbe-5463-47e4-9ad8-472a99a28435",
   "metadata": {},
   "outputs": [
    {
     "name": "stdout",
     "output_type": "stream",
     "text": [
      "p\n",
      "y\n",
      "t\n",
      "h\n",
      "o\n",
      "n\n"
     ]
    }
   ],
   "source": [
    "a=\"python\"\n",
    "\n",
    "for i in a:\n",
    "    print(i)"
   ]
  },
  {
   "cell_type": "code",
   "execution_count": 48,
   "id": "75e17730-4e3b-4dfe-8595-65e63cad5253",
   "metadata": {},
   "outputs": [
    {
     "name": "stdout",
     "output_type": "stream",
     "text": [
      "10\n",
      "20\n",
      "30\n",
      "40\n",
      "50\n",
      "60\n"
     ]
    }
   ],
   "source": [
    "a=[10,20,30,40,50,60]\n",
    "\n",
    "for i in a:\n",
    "    print(i)"
   ]
  },
  {
   "cell_type": "code",
   "execution_count": 49,
   "id": "45b137de-e3ba-48bf-ad46-f9f3825b443a",
   "metadata": {},
   "outputs": [
    {
     "name": "stdout",
     "output_type": "stream",
     "text": [
      "0\n",
      "1\n",
      "2\n",
      "3\n",
      "4\n"
     ]
    }
   ],
   "source": [
    "for i in range(5):\n",
    "    print(i)"
   ]
  },
  {
   "cell_type": "code",
   "execution_count": 50,
   "id": "5b05a9f9-6e45-4158-9cda-27b6c1815d37",
   "metadata": {},
   "outputs": [
    {
     "name": "stdout",
     "output_type": "stream",
     "text": [
      "1\n",
      "3\n",
      "5\n",
      "7\n",
      "9\n"
     ]
    }
   ],
   "source": [
    "for i in range(1,10,2):\n",
    "    print(i)"
   ]
  },
  {
   "cell_type": "code",
   "execution_count": 56,
   "id": "d16e354c-8939-4d13-9178-9241e918ac5a",
   "metadata": {},
   "outputs": [
    {
     "name": "stdout",
     "output_type": "stream",
     "text": [
      "****"
     ]
    }
   ],
   "source": [
    "for i in range(1,5):\n",
    "    print('*',end=\"\")"
   ]
  },
  {
   "cell_type": "code",
   "execution_count": 57,
   "id": "71941e6b-bc9d-4dec-8bd5-49013597ab49",
   "metadata": {},
   "outputs": [
    {
     "name": "stdout",
     "output_type": "stream",
     "text": [
      "* * * * "
     ]
    }
   ],
   "source": [
    "for i in range(1,5):\n",
    "    print('*',end=\" \")"
   ]
  },
  {
   "cell_type": "code",
   "execution_count": 59,
   "id": "920c1fb6-f0d4-4b4c-b3b4-4118630529d6",
   "metadata": {},
   "outputs": [
    {
     "name": "stdout",
     "output_type": "stream",
     "text": [
      "* * * * \n",
      "\n",
      "* * * * \n",
      "\n",
      "* * * * \n",
      "\n",
      "* * * * \n",
      "\n"
     ]
    }
   ],
   "source": [
    "for i in range(1,5): # R\n",
    "    for j in range(1,5): # C\n",
    "        print('*',end=\" \")\n",
    "    print('\\n')"
   ]
  },
  {
   "cell_type": "code",
   "execution_count": 60,
   "id": "75c0718e-9956-4f36-a05e-4389cb892568",
   "metadata": {},
   "outputs": [
    {
     "name": "stdout",
     "output_type": "stream",
     "text": [
      "(1, 1) (1, 2) (1, 3) (1, 4) \n",
      "\n",
      "(2, 1) (2, 2) (2, 3) (2, 4) \n",
      "\n",
      "(3, 1) (3, 2) (3, 3) (3, 4) \n",
      "\n",
      "(4, 1) (4, 2) (4, 3) (4, 4) \n",
      "\n"
     ]
    }
   ],
   "source": [
    "for i in range(1,5): # R\n",
    "    for j in range(1,5): # C\n",
    "        print((i,j),end=\" \")\n",
    "    print('\\n')"
   ]
  },
  {
   "cell_type": "code",
   "execution_count": 62,
   "id": "6da1b66d-7f52-42f4-8162-704ccd2104b1",
   "metadata": {},
   "outputs": [
    {
     "name": "stdout",
     "output_type": "stream",
     "text": [
      "* \n",
      " \n",
      " \n",
      "\n",
      "\n",
      "** \n",
      " \n",
      "\n",
      "\n",
      "*** \n",
      "\n",
      "\n",
      "****\n",
      "\n"
     ]
    }
   ],
   "source": [
    "for i in range(1,5):\n",
    "    for j in range(1,5):\n",
    "        if i>=j:\n",
    "            print('*',end=\"\")\n",
    "        else:\n",
    "            print(' ')\n",
    "    print('\\n')"
   ]
  },
  {
   "cell_type": "code",
   "execution_count": null,
   "id": "5ee0185f-86d8-44f0-8b3f-54825eeee90e",
   "metadata": {},
   "outputs": [],
   "source": [
    "while loop"
   ]
  },
  {
   "cell_type": "code",
   "execution_count": 64,
   "id": "837c39d7-f7c8-45b9-93ae-00f9614cfefe",
   "metadata": {
    "scrolled": true
   },
   "outputs": [
    {
     "name": "stdout",
     "output_type": "stream",
     "text": [
      "1\n",
      "2\n",
      "3\n",
      "4\n",
      "5\n",
      "6\n",
      "7\n",
      "8\n",
      "9\n",
      "10\n",
      "11\n"
     ]
    }
   ],
   "source": [
    "i=0\n",
    "\n",
    "while i<=10:\n",
    "    i=i+1\n",
    "    print(i)"
   ]
  },
  {
   "cell_type": "code",
   "execution_count": null,
   "id": "97e5ef0d-df7a-45e3-b81d-087a270154eb",
   "metadata": {},
   "outputs": [],
   "source": [
    "num = 145\n",
    "\n",
    "count = 0\n",
    "\n",
    "while num>=0:\n",
    "    num = num//10\n",
    "    count =count+1\n",
    "print(count)"
   ]
  },
  {
   "cell_type": "code",
   "execution_count": null,
   "id": "0c3b26aa-6333-4f74-96a5-92ac262ea37f",
   "metadata": {},
   "outputs": [],
   "source": []
  },
  {
   "cell_type": "code",
   "execution_count": null,
   "id": "ef87879b-90b1-4e31-92e8-98c340771bf5",
   "metadata": {},
   "outputs": [],
   "source": []
  }
 ],
 "metadata": {
  "kernelspec": {
   "display_name": "Python 3 (ipykernel)",
   "language": "python",
   "name": "python3"
  },
  "language_info": {
   "codemirror_mode": {
    "name": "ipython",
    "version": 3
   },
   "file_extension": ".py",
   "mimetype": "text/x-python",
   "name": "python",
   "nbconvert_exporter": "python",
   "pygments_lexer": "ipython3",
   "version": "3.12.4"
  }
 },
 "nbformat": 4,
 "nbformat_minor": 5
}
