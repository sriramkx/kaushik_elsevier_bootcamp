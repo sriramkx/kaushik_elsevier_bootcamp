{
 "cells": [
  {
   "cell_type": "code",
   "execution_count": null,
   "id": "f25aaf38-94ba-4293-9901-1a67bc39512b",
   "metadata": {},
   "outputs": [],
   "source": [
    "# list comprehension\n",
    "# dictionary comprehension"
   ]
  },
  {
   "cell_type": "code",
   "execution_count": 2,
   "id": "493a65d4-9bc9-4f83-b399-2dccf7598922",
   "metadata": {},
   "outputs": [
    {
     "name": "stdout",
     "output_type": "stream",
     "text": [
      "1\n",
      "4\n",
      "16\n",
      "25\n",
      "36\n"
     ]
    }
   ],
   "source": [
    "numbers=[1,2,4,5,6]\n",
    "\n",
    "for i in numbers:\n",
    "    i=i**2\n",
    "    print(i)"
   ]
  },
  {
   "cell_type": "code",
   "execution_count": null,
   "id": "ca3dff84-6bba-4c88-813e-91a986363659",
   "metadata": {},
   "outputs": [],
   "source": [
    "[operation list iteration ]\n",
    "[operation list iteration condition]"
   ]
  },
  {
   "cell_type": "code",
   "execution_count": null,
   "id": "02ea04f9-437f-42e1-b616-c9e952c3df7f",
   "metadata": {},
   "outputs": [],
   "source": [
    "# iterables - list /tuple / set / dict / string \n",
    "# iteration - for while dowhile iter"
   ]
  },
  {
   "cell_type": "code",
   "execution_count": 4,
   "id": "9c8612fc-d775-4ded-b1a1-1d6813b7d0e5",
   "metadata": {},
   "outputs": [
    {
     "data": {
      "text/plain": [
       "[9, 16, 25]"
      ]
     },
     "execution_count": 4,
     "metadata": {},
     "output_type": "execute_result"
    }
   ],
   "source": [
    "numbers =[1,2,3,4,5]\n",
    "\n",
    "list1 =[a**2 for a in numbers if a>2]\n",
    "\n",
    "list1"
   ]
  },
  {
   "cell_type": "code",
   "execution_count": 5,
   "id": "3a653202-da77-401a-a29d-902cd87c1a85",
   "metadata": {},
   "outputs": [
    {
     "name": "stdout",
     "output_type": "stream",
     "text": [
      "[2, 3]\n"
     ]
    }
   ],
   "source": [
    "list1 = [1,2,3,45,67]\n",
    "list2=[2,3,56,567]\n",
    "\n",
    "commun_num =[]\n",
    "\n",
    "for i in list1:\n",
    "    for j in list2:\n",
    "        if i==j:\n",
    "            commun_num.append(i)\n",
    "print(commun_num)"
   ]
  },
  {
   "cell_type": "code",
   "execution_count": 8,
   "id": "1da23a04-1933-4a1f-a18d-1c7f5aa653ed",
   "metadata": {},
   "outputs": [
    {
     "data": {
      "text/plain": [
       "[2, 3]"
      ]
     },
     "execution_count": 8,
     "metadata": {},
     "output_type": "execute_result"
    }
   ],
   "source": [
    "list1 = [1,2,3,45,67]\n",
    "list2=[2,3,56,567]\n",
    "\n",
    "commun_num=[j for i in list1 for j in list2 if i==j]\n",
    "commun_num\n"
   ]
  },
  {
   "cell_type": "code",
   "execution_count": null,
   "id": "fc5dad64-b97a-4bf1-9709-c13bf475a5a0",
   "metadata": {},
   "outputs": [],
   "source": [
    "exceptional handling"
   ]
  },
  {
   "cell_type": "code",
   "execution_count": 11,
   "id": "6dbcf3cd-c869-4f82-b79b-2275ae1bd663",
   "metadata": {},
   "outputs": [
    {
     "name": "stdin",
     "output_type": "stream",
     "text": [
      "enter a value: 3.4\n"
     ]
    },
    {
     "ename": "ValueError",
     "evalue": "invalid literal for int() with base 10: '3.4'",
     "output_type": "error",
     "traceback": [
      "\u001b[1;31m---------------------------------------------------------------------------\u001b[0m",
      "\u001b[1;31mValueError\u001b[0m                                Traceback (most recent call last)",
      "Cell \u001b[1;32mIn[11], line 1\u001b[0m\n\u001b[1;32m----> 1\u001b[0m a\u001b[38;5;241m=\u001b[39m\u001b[38;5;28mint\u001b[39m(\u001b[38;5;28minput\u001b[39m(\u001b[38;5;124m'\u001b[39m\u001b[38;5;124menter a value:\u001b[39m\u001b[38;5;124m'\u001b[39m))\n\u001b[0;32m      2\u001b[0m b\u001b[38;5;241m=\u001b[39m\u001b[38;5;28mint\u001b[39m(\u001b[38;5;28minput\u001b[39m(\u001b[38;5;124m'\u001b[39m\u001b[38;5;124menter b value:\u001b[39m\u001b[38;5;124m'\u001b[39m))\n\u001b[0;32m      3\u001b[0m c\u001b[38;5;241m=\u001b[39ma\u001b[38;5;241m+\u001b[39mb\n",
      "\u001b[1;31mValueError\u001b[0m: invalid literal for int() with base 10: '3.4'"
     ]
    }
   ],
   "source": [
    "a=int(input('enter a value:'))\n",
    "b=int(input('enter b value:'))\n",
    "c=a+b\n",
    "print(c)"
   ]
  },
  {
   "cell_type": "code",
   "execution_count": null,
   "id": "1b46b2e2-138c-43dd-a998-5ecd0b3e9c10",
   "metadata": {},
   "outputs": [],
   "source": [
    "try \n",
    "except \n",
    "\n",
    "else\n",
    "\n",
    "finally"
   ]
  },
  {
   "cell_type": "code",
   "execution_count": 12,
   "id": "7a8ce4cf-c767-4b66-bb67-0d8037ee8117",
   "metadata": {},
   "outputs": [
    {
     "name": "stdin",
     "output_type": "stream",
     "text": [
      "enter a value: 33.4\n"
     ]
    },
    {
     "name": "stdout",
     "output_type": "stream",
     "text": [
      "please enter whole numbers:\n"
     ]
    }
   ],
   "source": [
    "try:\n",
    "    a=int(input('enter a value:'))\n",
    "    b=int(input('enter b value:'))\n",
    "    c=a+b\n",
    "    print(c)\n",
    "except ValueError:\n",
    "    print('please enter whole numbers:')"
   ]
  },
  {
   "cell_type": "code",
   "execution_count": 13,
   "id": "e7fb0700-d7d1-4136-9c87-7367447f812f",
   "metadata": {},
   "outputs": [
    {
     "ename": "ZeroDivisionError",
     "evalue": "division by zero",
     "output_type": "error",
     "traceback": [
      "\u001b[1;31m---------------------------------------------------------------------------\u001b[0m",
      "\u001b[1;31mZeroDivisionError\u001b[0m                         Traceback (most recent call last)",
      "Cell \u001b[1;32mIn[13], line 3\u001b[0m\n\u001b[0;32m      1\u001b[0m a\u001b[38;5;241m=\u001b[39m\u001b[38;5;241m10\u001b[39m\n\u001b[0;32m      2\u001b[0m b\u001b[38;5;241m=\u001b[39m\u001b[38;5;241m0\u001b[39m\n\u001b[1;32m----> 3\u001b[0m c\u001b[38;5;241m=\u001b[39ma\u001b[38;5;241m/\u001b[39mb\n\u001b[0;32m      4\u001b[0m c\n",
      "\u001b[1;31mZeroDivisionError\u001b[0m: division by zero"
     ]
    }
   ],
   "source": [
    "a=10\n",
    "b=0\n",
    "c=a/b\n",
    "c"
   ]
  },
  {
   "cell_type": "code",
   "execution_count": 22,
   "id": "d512c7e0-3e4e-4091-a830-84d1dd49fa85",
   "metadata": {},
   "outputs": [
    {
     "name": "stdin",
     "output_type": "stream",
     "text": [
      "enter a value: 340\n",
      "enter b value: 0\n"
     ]
    },
    {
     "name": "stdout",
     "output_type": "stream",
     "text": [
      "division by zero\n",
      "pleas enter proper value for b value:\n",
      "thank you , visit again\n"
     ]
    }
   ],
   "source": [
    "try:\n",
    "    a=int(input('enter a value:'))\n",
    "    b=int(input('enter b value:'))\n",
    "    c=a/b\n",
    "    \n",
    "except ZeroDivisionError as ve:\n",
    "    print(ve)\n",
    "    print('pleas enter proper value for b value:')\n",
    "else:\n",
    "    print(c)\n",
    "finally:\n",
    "    print('thank you , visit again')"
   ]
  },
  {
   "cell_type": "code",
   "execution_count": 19,
   "id": "b8c51a53-7e52-4891-b18b-544c41b5f515",
   "metadata": {},
   "outputs": [
    {
     "ename": "IndexError",
     "evalue": "list index out of range",
     "output_type": "error",
     "traceback": [
      "\u001b[1;31m---------------------------------------------------------------------------\u001b[0m",
      "\u001b[1;31mIndexError\u001b[0m                                Traceback (most recent call last)",
      "Cell \u001b[1;32mIn[19], line 3\u001b[0m\n\u001b[0;32m      1\u001b[0m a\u001b[38;5;241m=\u001b[39m[\u001b[38;5;241m1\u001b[39m,\u001b[38;5;241m2\u001b[39m,\u001b[38;5;241m3\u001b[39m]\n\u001b[1;32m----> 3\u001b[0m a[\u001b[38;5;241m4\u001b[39m]\n",
      "\u001b[1;31mIndexError\u001b[0m: list index out of range"
     ]
    }
   ],
   "source": [
    "a=[1,2,3]\n",
    "\n",
    "a[4]"
   ]
  },
  {
   "cell_type": "code",
   "execution_count": 20,
   "id": "d03c1855-2deb-4574-a7dd-8e78b2ce30c1",
   "metadata": {},
   "outputs": [
    {
     "ename": "IndentationError",
     "evalue": "expected an indented block after 'for' statement on line 1 (3695896917.py, line 2)",
     "output_type": "error",
     "traceback": [
      "\u001b[1;36m  Cell \u001b[1;32mIn[20], line 2\u001b[1;36m\u001b[0m\n\u001b[1;33m    print(i)\u001b[0m\n\u001b[1;37m    ^\u001b[0m\n\u001b[1;31mIndentationError\u001b[0m\u001b[1;31m:\u001b[0m expected an indented block after 'for' statement on line 1\n"
     ]
    }
   ],
   "source": [
    "for i in range(5):\n",
    "print(i)"
   ]
  },
  {
   "cell_type": "code",
   "execution_count": null,
   "id": "8c8d89ff-c15a-4619-a594-656d15655c36",
   "metadata": {},
   "outputs": [],
   "source": [
    "file handling"
   ]
  },
  {
   "cell_type": "code",
   "execution_count": 23,
   "id": "816e6970-d292-4686-b07b-3bb992c07242",
   "metadata": {},
   "outputs": [
    {
     "ename": "FileNotFoundError",
     "evalue": "[Errno 2] No such file or directory: 'new.txt'",
     "output_type": "error",
     "traceback": [
      "\u001b[1;31m---------------------------------------------------------------------------\u001b[0m",
      "\u001b[1;31mFileNotFoundError\u001b[0m                         Traceback (most recent call last)",
      "Cell \u001b[1;32mIn[23], line 1\u001b[0m\n\u001b[1;32m----> 1\u001b[0m a\u001b[38;5;241m=\u001b[39m\u001b[38;5;28mopen\u001b[39m(\u001b[38;5;124m'\u001b[39m\u001b[38;5;124mnew.txt\u001b[39m\u001b[38;5;124m'\u001b[39m,\u001b[38;5;124m'\u001b[39m\u001b[38;5;124mrt\u001b[39m\u001b[38;5;124m'\u001b[39m)\n",
      "File \u001b[1;32m~\\anaconda3\\Lib\\site-packages\\IPython\\core\\interactiveshell.py:324\u001b[0m, in \u001b[0;36m_modified_open\u001b[1;34m(file, *args, **kwargs)\u001b[0m\n\u001b[0;32m    317\u001b[0m \u001b[38;5;28;01mif\u001b[39;00m file \u001b[38;5;129;01min\u001b[39;00m {\u001b[38;5;241m0\u001b[39m, \u001b[38;5;241m1\u001b[39m, \u001b[38;5;241m2\u001b[39m}:\n\u001b[0;32m    318\u001b[0m     \u001b[38;5;28;01mraise\u001b[39;00m \u001b[38;5;167;01mValueError\u001b[39;00m(\n\u001b[0;32m    319\u001b[0m         \u001b[38;5;124mf\u001b[39m\u001b[38;5;124m\"\u001b[39m\u001b[38;5;124mIPython won\u001b[39m\u001b[38;5;124m'\u001b[39m\u001b[38;5;124mt let you open fd=\u001b[39m\u001b[38;5;132;01m{\u001b[39;00mfile\u001b[38;5;132;01m}\u001b[39;00m\u001b[38;5;124m by default \u001b[39m\u001b[38;5;124m\"\u001b[39m\n\u001b[0;32m    320\u001b[0m         \u001b[38;5;124m\"\u001b[39m\u001b[38;5;124mas it is likely to crash IPython. If you know what you are doing, \u001b[39m\u001b[38;5;124m\"\u001b[39m\n\u001b[0;32m    321\u001b[0m         \u001b[38;5;124m\"\u001b[39m\u001b[38;5;124myou can use builtins\u001b[39m\u001b[38;5;124m'\u001b[39m\u001b[38;5;124m open.\u001b[39m\u001b[38;5;124m\"\u001b[39m\n\u001b[0;32m    322\u001b[0m     )\n\u001b[1;32m--> 324\u001b[0m \u001b[38;5;28;01mreturn\u001b[39;00m io_open(file, \u001b[38;5;241m*\u001b[39margs, \u001b[38;5;241m*\u001b[39m\u001b[38;5;241m*\u001b[39mkwargs)\n",
      "\u001b[1;31mFileNotFoundError\u001b[0m: [Errno 2] No such file or directory: 'new.txt'"
     ]
    }
   ],
   "source": [
    "a=open('new.txt','rt')\n"
   ]
  },
  {
   "cell_type": "code",
   "execution_count": 37,
   "id": "492076ed-1889-4be9-8f72-ad4089957331",
   "metadata": {},
   "outputs": [],
   "source": [
    "try:\n",
    "    f = open(\"C:\\\\Users\\\\Lenovo\\\\Desktop\\\\new.txt\",\"a\") # a - > appending at the end of the file \n",
    "    f.write(\" additional content\")\n",
    "except FileNotFoundError:\n",
    "    print('file doesnt exist')"
   ]
  },
  {
   "cell_type": "code",
   "execution_count": 38,
   "id": "94a24036-43e2-41e9-975c-47aaf1f8d711",
   "metadata": {},
   "outputs": [
    {
     "name": "stdout",
     "output_type": "stream",
     "text": [
      "['hello welcomedjangodjangodjangodjango additional content']\n"
     ]
    }
   ],
   "source": [
    "try:\n",
    "    f = open(\"C:\\\\Users\\\\Lenovo\\\\Desktop\\\\new.txt\",\"rt\") # rt - > read text\n",
    "    print(f.readlines())\n",
    "   \n",
    "    \n",
    "except FileNotFoundError:\n",
    "    print(\"seems this file is missing\")"
   ]
  },
  {
   "cell_type": "code",
   "execution_count": null,
   "id": "c9b5d5c4-23eb-4971-8ab3-bbb983d270f4",
   "metadata": {},
   "outputs": [],
   "source": [
    "zip "
   ]
  },
  {
   "cell_type": "code",
   "execution_count": 47,
   "id": "0d827f95-d8f8-42cc-82d5-85e356a73f26",
   "metadata": {},
   "outputs": [
    {
     "data": {
      "text/plain": [
       "{'john': 18, 'smith': 20, 'lucy': 34}"
      ]
     },
     "execution_count": 47,
     "metadata": {},
     "output_type": "execute_result"
    }
   ],
   "source": [
    "list1=['john','smith','lucy','sam']\n",
    "ages=[18,20,34]\n",
    "\n",
    "a=dict(zip(list1,ages))\n",
    "a"
   ]
  },
  {
   "cell_type": "code",
   "execution_count": null,
   "id": "c7ad4cd3-f7cc-4711-8e4a-2a7588dae75c",
   "metadata": {},
   "outputs": [],
   "source": [
    "map (function , iterables)"
   ]
  },
  {
   "cell_type": "code",
   "execution_count": 62,
   "id": "30bc4ef4-89d7-4bce-b248-c9033855f1c6",
   "metadata": {},
   "outputs": [
    {
     "name": "stdout",
     "output_type": "stream",
     "text": [
      "[1, 4, 9, 16, 25]\n"
     ]
    }
   ],
   "source": [
    "def square(x):\n",
    "    return x * x\n",
    "\n",
    "numbers = [1, 2, 3, 4, 5]\n",
    "\n",
    "# Apply the square function to each item in the list\n",
    "squared_numbers = map(square, numbers)\n",
    "\n",
    "# Convert the map object to a list to see the result\n",
    "print(list(squared_numbers))"
   ]
  }
 ],
 "metadata": {
  "kernelspec": {
   "display_name": "Python 3 (ipykernel)",
   "language": "python",
   "name": "python3"
  },
  "language_info": {
   "codemirror_mode": {
    "name": "ipython",
    "version": 3
   },
   "file_extension": ".py",
   "mimetype": "text/x-python",
   "name": "python",
   "nbconvert_exporter": "python",
   "pygments_lexer": "ipython3",
   "version": "3.12.4"
  }
 },
 "nbformat": 4,
 "nbformat_minor": 5
}
