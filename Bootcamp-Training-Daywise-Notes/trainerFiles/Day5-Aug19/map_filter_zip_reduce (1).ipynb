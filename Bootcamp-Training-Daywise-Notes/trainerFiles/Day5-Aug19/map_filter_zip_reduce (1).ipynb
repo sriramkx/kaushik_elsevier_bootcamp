{
 "cells": [
  {
   "cell_type": "markdown",
   "id": "52ae5f38-7b94-4060-b344-400e7a17056f",
   "metadata": {},
   "source": [
    "`map()`\n",
    "The `map()` function applies a given function to all the items in an iterable \n",
    "(like a list) and returns a map object (which is an iterator).\n"
   ]
  },
  {
   "cell_type": "code",
   "execution_count": 1,
   "id": "bc737622-eb9a-42df-9cf2-cd75f75800e4",
   "metadata": {},
   "outputs": [
    {
     "name": "stdout",
     "output_type": "stream",
     "text": [
      "[1, 4, 9, 16, 25]\n"
     ]
    }
   ],
   "source": [
    "def square(x):\n",
    "    return x * x\n",
    "\n",
    "numbers = [1, 2, 3, 4, 5]\n",
    "\n",
    "# Apply the square function to each item in the list\n",
    "squared_numbers = map(square, numbers)\n",
    "\n",
    "# Convert the map object to a list to see the result\n",
    "print(list(squared_numbers))"
   ]
  },
  {
   "cell_type": "markdown",
   "id": "9ede37da-1ef9-487d-9bf0-fa21ded6fa45",
   "metadata": {},
   "source": [
    "`filter()`\n",
    "The `filter()` function filters items in an iterable by applying \n",
    "a function that returns either `True` or `False`.\n",
    "Only the items that return `True` are included in the result.\n"
   ]
  },
  {
   "cell_type": "code",
   "execution_count": 2,
   "id": "33e125e4-8304-4377-bd97-2701e7750854",
   "metadata": {},
   "outputs": [
    {
     "name": "stdout",
     "output_type": "stream",
     "text": [
      "[2, 4, 6]\n"
     ]
    }
   ],
   "source": [
    "def is_even(x):\n",
    "    return x % 2 == 0\n",
    "\n",
    "numbers = [1, 2, 3, 4, 5, 6]\n",
    "\n",
    "# Filter out odd numbers, keeping only even ones\n",
    "even_numbers = filter(is_even, numbers)\n",
    "\n",
    "print(list(even_numbers))"
   ]
  },
  {
   "cell_type": "markdown",
   "id": "0fb3f278-05fa-44d5-9f23-0e80f367a64f",
   "metadata": {},
   "source": [
    " `sorted()`\n",
    "The `sorted()` function sorts the elements in an iterable.\n",
    "You can pass a function to determine the sorting order.\n"
   ]
  },
  {
   "cell_type": "code",
   "execution_count": 3,
   "id": "2000dfe2-fd41-4ba6-8db2-985b09c189f5",
   "metadata": {},
   "outputs": [
    {
     "name": "stdout",
     "output_type": "stream",
     "text": [
      "['date', 'apple', 'banana', 'cherry']\n"
     ]
    }
   ],
   "source": [
    "words = ['apple', 'banana', 'cherry', 'date']\n",
    "\n",
    "# Sort words by their length\n",
    "sorted_words = sorted(words, key=len)\n",
    "\n",
    "print(sorted_words) "
   ]
  },
  {
   "cell_type": "markdown",
   "id": "ac99b085-e609-4c32-b5a7-75e4ec45bebe",
   "metadata": {},
   "source": [
    "`reduce()`\n",
    "The `reduce()` function is used to apply a function cumulatively\n",
    "to the items of an iterable, from left to right, so as to reduce the iterable to a single value. It is part of the `functools` module.\n"
   ]
  },
  {
   "cell_type": "code",
   "execution_count": 4,
   "id": "db4eb0bc-db8f-45e5-aa3c-a8ab9b0e99a9",
   "metadata": {},
   "outputs": [
    {
     "name": "stdout",
     "output_type": "stream",
     "text": [
      "24\n"
     ]
    }
   ],
   "source": [
    "from functools import reduce\n",
    "\n",
    "def multiply(x, y):\n",
    "    return x * y\n",
    "\n",
    "numbers = [1, 2, 3, 4]\n",
    "\n",
    "# Multiply all numbers together\n",
    "product = reduce(multiply, numbers)\n",
    "\n",
    "print(product)"
   ]
  },
  {
   "cell_type": "code",
   "execution_count": null,
   "id": "10f0c654-cd2e-4e4b-ae0a-718ce6d382da",
   "metadata": {},
   "outputs": [],
   "source": [
    "- **`map()`**: Transforms each item in a list by applying a function.\n",
    "- **`filter()`**: Filters items in a list based on a condition.\n",
    "- **`sorted()`**: Sorts items in a list based on a specified criterion.\n",
    "- **`reduce()`**: Combines all items in a list into a single value by applying a function cumulatively.\n"
   ]
  }
 ],
 "metadata": {
  "kernelspec": {
   "display_name": "Python 3 (ipykernel)",
   "language": "python",
   "name": "python3"
  },
  "language_info": {
   "codemirror_mode": {
    "name": "ipython",
    "version": 3
   },
   "file_extension": ".py",
   "mimetype": "text/x-python",
   "name": "python",
   "nbconvert_exporter": "python",
   "pygments_lexer": "ipython3",
   "version": "3.12.4"
  }
 },
 "nbformat": 4,
 "nbformat_minor": 5
}
