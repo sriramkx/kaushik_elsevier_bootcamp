{
 "cells": [
  {
   "cell_type": "code",
   "execution_count": null,
   "id": "83d43d90-dc16-46a3-b9b4-eca471af34a3",
   "metadata": {},
   "outputs": [],
   "source": [
    "Functions (*args, **kwargs, yield, \n",
    "Generators, lambda, Global and Local \n",
    "variables, closures, decorators, iterators)"
   ]
  },
  {
   "cell_type": "markdown",
   "id": "7fb76b0a-bd88-4f31-80f9-678653af4171",
   "metadata": {},
   "source": [
    "iterators"
   ]
  },
  {
   "cell_type": "code",
   "execution_count": null,
   "id": "6093573f-9f2c-43e2-a5da-916de6b5fdd9",
   "metadata": {},
   "outputs": [],
   "source": [
    "\"\"\"set and dictionaries dont have index\n",
    "\n",
    "iterator , iterables\n",
    "\n",
    "#list\n",
    "#object\n",
    "\n",
    "\n",
    "\"\"\"\""
   ]
  },
  {
   "cell_type": "code",
   "execution_count": 7,
   "id": "80cae6b6-c688-4dbf-831a-05bc67d14968",
   "metadata": {},
   "outputs": [
    {
     "name": "stdout",
     "output_type": "stream",
     "text": [
      "<list_iterator object at 0x00000286B5065F90>\n"
     ]
    },
    {
     "ename": "StopIteration",
     "evalue": "",
     "output_type": "error",
     "traceback": [
      "\u001b[1;31m---------------------------------------------------------------------------\u001b[0m",
      "\u001b[1;31mStopIteration\u001b[0m                             Traceback (most recent call last)",
      "Cell \u001b[1;32mIn[7], line 11\u001b[0m\n\u001b[0;32m      9\u001b[0m \u001b[38;5;28mnext\u001b[39m(a)\n\u001b[0;32m     10\u001b[0m \u001b[38;5;28mnext\u001b[39m(a)\n\u001b[1;32m---> 11\u001b[0m \u001b[38;5;28mnext\u001b[39m(a)\n",
      "\u001b[1;31mStopIteration\u001b[0m: "
     ]
    }
   ],
   "source": [
    "# iterators\n",
    "\n",
    "list1 = [1,2,\"hello\",\"python\"]\n",
    "\n",
    "a= iter(list1)\n",
    "print(a)\n",
    "next(a)\n",
    "next(a)\n",
    "next(a)\n",
    "next(a)\n",
    "next(a)\n",
    "\n",
    "\n",
    "\n"
   ]
  },
  {
   "cell_type": "code",
   "execution_count": null,
   "id": "2942ac64-7c23-468c-898f-2f4fae188b1c",
   "metadata": {},
   "outputs": [],
   "source": [
    "#iterator -- for ,while , iter\n",
    "#iterables --  list tuple string\n",
    "#Generator and yield keyword\n",
    "#to replace the return statement in function with yield statement,\n",
    "#function is called generator"
   ]
  },
  {
   "cell_type": "code",
   "execution_count": 1,
   "id": "41576beb-53b0-4cd4-9cea-44098c04e14e",
   "metadata": {},
   "outputs": [
    {
     "name": "stdout",
     "output_type": "stream",
     "text": [
      "<class 'generator'>\n"
     ]
    }
   ],
   "source": [
    "def yieldstatements():\n",
    "    yield \"statement1\"\n",
    "    yield \"statement2\"\n",
    "    yield \"statement3\"\n",
    "s = yieldstatements()\n",
    "print(type(s))"
   ]
  },
  {
   "cell_type": "code",
   "execution_count": 2,
   "id": "9bb53304-bc9d-4c8f-8a4f-b63a0c1e4615",
   "metadata": {},
   "outputs": [
    {
     "name": "stdout",
     "output_type": "stream",
     "text": [
      "statement1\n",
      "statement2\n",
      "statement3\n"
     ]
    }
   ],
   "source": [
    "for i in s:\n",
    "    print(i)"
   ]
  },
  {
   "cell_type": "code",
   "execution_count": 5,
   "id": "d7e8d00d-6fca-4a2d-bb77-96f640bf886f",
   "metadata": {},
   "outputs": [
    {
     "name": "stdout",
     "output_type": "stream",
     "text": [
      "a\n",
      "e\n",
      "i\n",
      "o\n",
      "u\n"
     ]
    }
   ],
   "source": [
    "def vowels():\n",
    "    yield \"a\"\n",
    "    yield \"e\"\n",
    "    yield \"i\"\n",
    "    yield \"o\"\n",
    "    yield \"u\"\n",
    "\n",
    "s = vowels()\n",
    "\n",
    "for i in s:\n",
    "    print(i)"
   ]
  },
  {
   "cell_type": "markdown",
   "id": "7cad15e8-677c-41ed-94b4-d31faa3877a5",
   "metadata": {},
   "source": [
    "**`*args` and `**kwargs`**"
   ]
  },
  {
   "cell_type": "markdown",
   "id": "00eb3285-09af-4f6a-b7f2-87ab4344e5ce",
   "metadata": {},
   "source": [
    "**`*args`**: Allows a function to accept any number of positional arguments as a tuple. \n",
    "     ```python\n",
    "    "
   ]
  },
  {
   "cell_type": "code",
   "execution_count": 6,
   "id": "1ef323f0-039f-4028-87fd-96cfe141eb44",
   "metadata": {},
   "outputs": [
    {
     "name": "stdout",
     "output_type": "stream",
     "text": [
      "1\n",
      "2\n",
      "3\n"
     ]
    }
   ],
   "source": [
    "def example(*args):\n",
    "    for arg in args:\n",
    "        print(arg)\n",
    "example(1, 2, 3) "
   ]
  },
  {
   "cell_type": "markdown",
   "id": "3944c4b9-f3cb-4145-aba8-5ff2857526ca",
   "metadata": {},
   "source": [
    "**`**kwargs`**: Allows a function to accept any number of keyword arguments as a dictionary.\n",
    "     ```python\n",
    "    "
   ]
  },
  {
   "cell_type": "code",
   "execution_count": 10,
   "id": "fc59c446-eea8-4b29-86cb-3d0499681512",
   "metadata": {},
   "outputs": [
    {
     "name": "stdout",
     "output_type": "stream",
     "text": [
      "a = 1\n",
      "b = 2\n"
     ]
    }
   ],
   "source": [
    "def example(**kwargs):\n",
    "    for key, value in kwargs.items():\n",
    "        print(f\"{key} = {value}\")\n",
    "example(a=1, b=2) "
   ]
  },
  {
   "cell_type": "markdown",
   "id": "e9651bbc-f951-4f26-93c6-598798a12a75",
   "metadata": {},
   "source": [
    "**`yield`**\n",
    "   - `yield` is used to make a function a generator, allowing it to return values one at a time, suspending the function’s state between each return.\n",
    "     ```python\n",
    "    "
   ]
  },
  {
   "cell_type": "code",
   "execution_count": 14,
   "id": "14c24591-931a-420f-8863-202c7a43a1fc",
   "metadata": {},
   "outputs": [
    {
     "name": "stdout",
     "output_type": "stream",
     "text": [
      "1\n",
      "2\n",
      "3\n"
     ]
    }
   ],
   "source": [
    "def generator():\n",
    "    yield 1\n",
    "    yield 2\n",
    "    yield 3\n",
    "gen = generator()\n",
    "for value in gen:\n",
    "    print(value) "
   ]
  },
  {
   "cell_type": "markdown",
   "id": "68d4821b-eb1f-477d-8dea-0b5b51853e42",
   "metadata": {},
   "source": [
    "**Global and Local Variables**\n",
    "   - **Global variables**: Declared outside a function and accessible anywhere in the code.\n",
    "   - **Local variables**: Declared inside a function and accessible only within that function.\n",
    "   "
   ]
  },
  {
   "cell_type": "code",
   "execution_count": 15,
   "id": "ae89c027-6975-44fb-8540-8dcbfa774b4a",
   "metadata": {},
   "outputs": [
    {
     "name": "stdout",
     "output_type": "stream",
     "text": [
      "local\n",
      "global\n"
     ]
    }
   ],
   "source": [
    "x = \"global\"\n",
    "def example():\n",
    "    x = \"local\"\n",
    "    print(x)  # Outputs: local\n",
    "example()\n",
    "print(x)  # Outputs: global"
   ]
  },
  {
   "cell_type": "markdown",
   "id": "344c88fd-a744-47ea-a123-9f3bd736cbdb",
   "metadata": {},
   "source": [
    "**Closures**\n",
    "   - A closure is a function defined inside another function that\n",
    "remembers the variables from the outer function’s scope even after\n",
    "the outer function has finished executing.\n",
    "     "
   ]
  },
  {
   "cell_type": "code",
   "execution_count": 16,
   "id": "9737bef3-2e87-453c-9734-6aea07a106f3",
   "metadata": {},
   "outputs": [
    {
     "name": "stdout",
     "output_type": "stream",
     "text": [
      "Hello!\n"
     ]
    }
   ],
   "source": [
    "def outer_function(text):\n",
    "    def inner_function():\n",
    "        print(text)\n",
    "    return inner_function\n",
    "my_function = outer_function(\"Hello!\")\n",
    "my_function()  # Outputs: Hello!"
   ]
  },
  {
   "cell_type": "code",
   "execution_count": null,
   "id": "1caf3459-19a8-4a6a-ada9-ec6523319a02",
   "metadata": {},
   "outputs": [],
   "source": [
    "**Decorators**\n",
    "   - Decorators are a way to modify the \n",
    "behavior of a function or class. \n",
    "They are functions that take another function and \n",
    "extend its behavior without explicitly modifying it.\n",
    "   "
   ]
  },
  {
   "cell_type": "code",
   "execution_count": 19,
   "id": "6e37eabc-1e1e-4371-9216-dd6dabd32036",
   "metadata": {},
   "outputs": [
    {
     "name": "stdout",
     "output_type": "stream",
     "text": [
      "Something is happening before the function is called.\n",
      "Hello!\n",
      "Something is happening after the function is called.\n"
     ]
    }
   ],
   "source": [
    "def decorator(func):\n",
    "    def wrapper():\n",
    "        print(\"Something is happening before the function is called.\")\n",
    "        func()\n",
    "        print(\"Something is happening after the function is called.\")\n",
    "    return wrapper\n",
    "\n",
    "@decorator\n",
    "def say_hello():\n",
    "    print(\"Hello!\")\n",
    "say_hello()"
   ]
  },
  {
   "cell_type": "code",
   "execution_count": null,
   "id": "fb1ac3d0-a68c-4da2-9b36-af009d0bbf0f",
   "metadata": {},
   "outputs": [],
   "source": [
    "**Iterators**\n",
    "   - Iterators are objects that can be iterated upon, \n",
    "meaning you can traverse through all the values. \n",
    "They implement two methods: `__iter__()` and `__next__()`.\n",
    "     "
   ]
  },
  {
   "cell_type": "code",
   "execution_count": 21,
   "id": "e1146479-940d-4787-ae21-3be68dec24b3",
   "metadata": {},
   "outputs": [
    {
     "name": "stdout",
     "output_type": "stream",
     "text": [
      "1\n",
      "2\n",
      "3\n"
     ]
    }
   ],
   "source": [
    "my_list = [1, 2, 3]\n",
    "my_iterator = iter(my_list)\n",
    "print(next(my_iterator)) \n",
    "print(next(my_iterator))  \n",
    "print(next(my_iterator)) "
   ]
  }
 ],
 "metadata": {
  "kernelspec": {
   "display_name": "Python 3 (ipykernel)",
   "language": "python",
   "name": "python3"
  },
  "language_info": {
   "codemirror_mode": {
    "name": "ipython",
    "version": 3
   },
   "file_extension": ".py",
   "mimetype": "text/x-python",
   "name": "python",
   "nbconvert_exporter": "python",
   "pygments_lexer": "ipython3",
   "version": "3.12.4"
  }
 },
 "nbformat": 4,
 "nbformat_minor": 5
}
