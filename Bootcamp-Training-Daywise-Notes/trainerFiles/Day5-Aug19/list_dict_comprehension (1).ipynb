{
 "cells": [
  {
   "cell_type": "code",
   "execution_count": null,
   "id": "45b037f9-cdd1-4257-8c3a-9d1cadb2487f",
   "metadata": {},
   "outputs": [],
   "source": [
    "list comprehension"
   ]
  },
  {
   "cell_type": "code",
   "execution_count": 1,
   "id": "e8db94cb-5fc6-41ad-ba1a-74a464992543",
   "metadata": {},
   "outputs": [
    {
     "name": "stdout",
     "output_type": "stream",
     "text": [
      "[1, 4, 9, 16, 25]\n",
      "[1, 4, 9, 16, 25]\n",
      "['a', 'b', 'c']\n"
     ]
    }
   ],
   "source": [
    "numbers = [1,2,3,4,5]\n",
    "\n",
    "\"\"\"[operation , list iteration ]\"\"\"\n",
    "\n",
    "squares = [ i**2 for i in numbers]                       \n",
    "print(squares)\n",
    "\n",
    " \n",
    "multiplied = [i**2 for i in numbers] \n",
    "print(multiplied)\n",
    "\n",
    "\n",
    "k = [\"A\",\"B\",\"C\"]\n",
    "k1 = [i.lower() for i in k]\n",
    "print(k1)"
   ]
  },
  {
   "cell_type": "code",
   "execution_count": 2,
   "id": "57f99d03-3e43-4edc-80fd-1a59b3e8d650",
   "metadata": {},
   "outputs": [
    {
     "name": "stdout",
     "output_type": "stream",
     "text": [
      "[9, 16, 25]\n"
     ]
    }
   ],
   "source": [
    "#List Comprehension with if Condition\n",
    "numbers = [1,2,3,4,5]\n",
    "\n",
    "\n",
    "\"\"\"[operation list iteration condition]\"\"\"\n",
    "\n",
    "\n",
    "squares = [i**2 for i in numbers if i>2] \n",
    "print(squares)\n"
   ]
  },
  {
   "cell_type": "code",
   "execution_count": 3,
   "id": "3e899bb9-cfcc-4eb0-b1a5-5195398f4c72",
   "metadata": {},
   "outputs": [
    {
     "name": "stdout",
     "output_type": "stream",
     "text": [
      "[0, 4, 16, 36, 64]\n"
     ]
    }
   ],
   "source": [
    "number_list = [x ** 2 for x in range(10) if x % 2 == 0]\n",
    "print(number_list)"
   ]
  },
  {
   "cell_type": "code",
   "execution_count": 4,
   "id": "6aea735b-db78-438f-908f-06afc1669717",
   "metadata": {},
   "outputs": [
    {
     "name": "stdout",
     "output_type": "stream",
     "text": [
      "[0, 15, 30, 45, 60, 75, 90]\n"
     ]
    }
   ],
   "source": [
    "number_list = [x for x in range(100) if x % 3 == 0 if x % 5 == 0]\n",
    "print(number_list)"
   ]
  },
  {
   "cell_type": "code",
   "execution_count": 5,
   "id": "186f7656-f8d9-496e-8d6b-3b3ab9fb84db",
   "metadata": {},
   "outputs": [
    {
     "name": "stdout",
     "output_type": "stream",
     "text": [
      "['1', '2', '3', '4', '5']\n"
     ]
    }
   ],
   "source": [
    "s = \"Hello 12345 World\"\n",
    "\n",
    "\"\"\"\n",
    "for i in s:\n",
    "    if i.isdigit():\n",
    "        print(i)\n",
    "\n",
    "\"\"\"\n",
    "numbers = [i for i in s if i.isdigit()]\n",
    "print(numbers)"
   ]
  },
  {
   "cell_type": "markdown",
   "id": "e94a9604-bca3-4f74-afa9-34bdd6aa2262",
   "metadata": {},
   "source": [
    "Nested List Comprhension"
   ]
  },
  {
   "cell_type": "code",
   "execution_count": 6,
   "id": "deb4b746-0ee8-458b-bb89-21583a320df9",
   "metadata": {},
   "outputs": [
    {
     "name": "stdout",
     "output_type": "stream",
     "text": [
      "[2, 3, 4]\n"
     ]
    }
   ],
   "source": [
    "\n",
    "list_a = [1, 2, 3, 4]\n",
    "list_b = [2, 3, 4, 5]\n",
    "\n",
    "common_num = []\n",
    "\n",
    "for a in list_a: # 1\n",
    "  for b in list_b: # 3\n",
    "    if a == b:\n",
    "      common_num.append(a)\n",
    "      \n",
    "print(common_num)  # Output [2, 3, 4]\n"
   ]
  },
  {
   "cell_type": "code",
   "execution_count": 7,
   "id": "5dc6bb04-690e-41fc-b48c-42b1c77451f9",
   "metadata": {},
   "outputs": [
    {
     "name": "stdout",
     "output_type": "stream",
     "text": [
      "[2, 3, 4]\n"
     ]
    }
   ],
   "source": [
    "list_a = [1, 2, 3, 4]\n",
    "list_b = [2, 3, 4, 5]\n",
    "\n",
    "common_num = [a for a in list_a for b in list_b if a == b ]\n",
    "\n",
    "print(common_num) # Output: [2, 3, 4]"
   ]
  },
  {
   "cell_type": "markdown",
   "id": "5ad19296-b6a3-4a71-928f-81487bafcafa",
   "metadata": {},
   "source": [
    "dictionary comprehension"
   ]
  },
  {
   "cell_type": "code",
   "execution_count": 9,
   "id": "688a0c16-3538-4a20-b9f1-77822a8498fd",
   "metadata": {},
   "outputs": [
    {
     "name": "stdout",
     "output_type": "stream",
     "text": [
      "{'x': 2, 'y': 4, 'z': 6}\n"
     ]
    },
    {
     "data": {
      "text/plain": [
       "{'x': 2, 'y': 4, 'z': 6}"
      ]
     },
     "execution_count": 9,
     "metadata": {},
     "output_type": "execute_result"
    }
   ],
   "source": [
    "#General Template for Dictionary Comprehension\n",
    "#dict_variable = {key:value for (key,value) in dictonary.items()}\n",
    "d = {\"x\":1,\"y\":2,\"z\":3}\n",
    "\n",
    "# Double each value in the dictionary\n",
    "doubles = {k:v*2 for (k,v) in d.items()}\n",
    "print(doubles)\n",
    "{'x': 2, 'y': 4, 'z': 6}"
   ]
  },
  {
   "cell_type": "code",
   "execution_count": 10,
   "id": "d23a6666-dda0-4f90-acf7-ede8e567bc1e",
   "metadata": {},
   "outputs": [
    {
     "name": "stdout",
     "output_type": "stream",
     "text": [
      "{'xx': 1, 'yy': 2, 'zz': 3}\n"
     ]
    }
   ],
   "source": [
    "d = {\"x\":1,\"y\":2,\"z\":3}\n",
    "\n",
    "# Double each key in the dictionary\n",
    "dict1_keys = {k*2:v for (k,v) in d.items()}\n",
    "print(dict1_keys)"
   ]
  },
  {
   "cell_type": "code",
   "execution_count": 12,
   "id": "dd2fc206-bab3-433d-b4c7-6540843ebf51",
   "metadata": {},
   "outputs": [
    {
     "name": "stdout",
     "output_type": "stream",
     "text": [
      "{'a': 1, 'b': 2, 'c': 3, 'd': 4, 'e': 5}\n"
     ]
    }
   ],
   "source": [
    "#dictionary comprehension\n",
    "keys = ['a','b','c','d','e']\n",
    "values = [1,2,3,4,5]  \n",
    "\n",
    "#{key: value for (key, value) in iterable}\n",
    "  \n",
    " \n",
    "myDict = { k:v for (k,v) in zip(keys, values)}  \n",
    "print (myDict)\n",
    "\n"
   ]
  },
  {
   "cell_type": "code",
   "execution_count": 13,
   "id": "102ced13-c76b-4af8-8521-1016f2192963",
   "metadata": {},
   "outputs": [
    {
     "name": "stdout",
     "output_type": "stream",
     "text": [
      "{1: 1, 2: 4, 3: 9, 4: 16, 5: 25}\n"
     ]
    }
   ],
   "source": [
    "myDict = {x: x**2 for x in [1,2,3,4,5]}\n",
    "print (myDict)"
   ]
  },
  {
   "cell_type": "code",
   "execution_count": 14,
   "id": "0994cfd7-c79b-4355-a290-1fa53baa7fb4",
   "metadata": {},
   "outputs": [
    {
     "name": "stdout",
     "output_type": "stream",
     "text": [
      "{0: 0, 2: 8, 4: 64, 6: 216, 8: 512}\n"
     ]
    }
   ],
   "source": [
    "newdict = {x: x**3 for x in range(10) if x**3 % 4 == 0}\n",
    "print(newdict)"
   ]
  },
  {
   "cell_type": "code",
   "execution_count": null,
   "id": "cdfd40db-ed70-4be4-9551-99b1d0099c6f",
   "metadata": {},
   "outputs": [],
   "source": []
  }
 ],
 "metadata": {
  "kernelspec": {
   "display_name": "Python 3 (ipykernel)",
   "language": "python",
   "name": "python3"
  },
  "language_info": {
   "codemirror_mode": {
    "name": "ipython",
    "version": 3
   },
   "file_extension": ".py",
   "mimetype": "text/x-python",
   "name": "python",
   "nbconvert_exporter": "python",
   "pygments_lexer": "ipython3",
   "version": "3.12.4"
  }
 },
 "nbformat": 4,
 "nbformat_minor": 5
}
