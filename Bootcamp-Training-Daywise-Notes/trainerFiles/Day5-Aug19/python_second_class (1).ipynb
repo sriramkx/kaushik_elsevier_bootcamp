{
 "cells": [
  {
   "cell_type": "raw",
   "id": "ef89fd51-dbeb-441f-883b-74514f76862e",
   "metadata": {},
   "source": [
    "Data structures : list , tuple , set , dictionary \n",
    "\n",
    "break, continue, \n",
    "pass), \n",
    "Functions (*args, **kwargs, yield, \n",
    "Generators, lambda, Global and Local \n",
    "variables, closures, decorators, iterators)\n"
   ]
  },
  {
   "cell_type": "code",
   "execution_count": null,
   "id": "88e60d8c-52fd-42fd-b1f8-203a82c39312",
   "metadata": {},
   "outputs": [],
   "source": [
    "List is a collection which is ordered and changeable. Allows duplicate members.\n",
    "Tuple is a collection which is ordered and unchangeable. Allows duplicate members.\n",
    "Set is a collection which is unordered, unchangeable*, and unindexed. No duplicate members.\n",
    "Dictionary is a collection which is ordered** and changeable. No duplicate members."
   ]
  },
  {
   "cell_type": "code",
   "execution_count": 4,
   "id": "ce661236-7e48-4ea0-9613-4ad0a7a75a7d",
   "metadata": {},
   "outputs": [
    {
     "name": "stdout",
     "output_type": "stream",
     "text": [
      "7\n",
      "20\n",
      "60\n",
      "[30, 40, 50, 60]\n"
     ]
    }
   ],
   "source": [
    "list1 = [10,20,30,40,50,60,70]\n",
    "\n",
    "print(len(list1))\n",
    "print(list1[1])\n",
    "print(list1[-2])\n",
    "\n",
    "print(list1[2:6])"
   ]
  },
  {
   "cell_type": "code",
   "execution_count": 5,
   "id": "4a8b40f0-6250-41bd-a030-c3c21422758c",
   "metadata": {},
   "outputs": [
    {
     "name": "stdout",
     "output_type": "stream",
     "text": [
      "10\n",
      "20\n",
      "30\n",
      "40\n",
      "50\n"
     ]
    }
   ],
   "source": [
    "list1 = [10,20,30,40,50]\n",
    "\n",
    "for i in list1:\n",
    "    print(i)"
   ]
  },
  {
   "cell_type": "code",
   "execution_count": 6,
   "id": "9c56f647-9b09-4591-a898-fd65f4d62181",
   "metadata": {},
   "outputs": [
    {
     "name": "stdout",
     "output_type": "stream",
     "text": [
      "yes , 50 is available in my list\n"
     ]
    }
   ],
   "source": [
    "list1 = [10,20,30,40,50]\n",
    "\n",
    "for i in list1:\n",
    "    if i==50:\n",
    "        print('yes , 50 is available in my list')"
   ]
  },
  {
   "cell_type": "code",
   "execution_count": 8,
   "id": "e76101bd-242c-44c5-a8fb-1982b747ca83",
   "metadata": {},
   "outputs": [
    {
     "name": "stdin",
     "output_type": "stream",
     "text": [
      "enter your name to check for username  lucy\n"
     ]
    },
    {
     "name": "stdout",
     "output_type": "stream",
     "text": [
      "congrats , username is available\n",
      "congrats , username is available\n",
      "congrats , username is available\n",
      "username alrady taken\n"
     ]
    }
   ],
   "source": [
    "names=['james','smith','john','lucy']\n",
    "\n",
    "name =input('enter your name to check for username ')\n",
    "\n",
    "\n",
    "for i in names:\n",
    "    if name==i:\n",
    "        print('username alrady taken')\n",
    "    else:\n",
    "        print('congrats , username is available')"
   ]
  },
  {
   "cell_type": "code",
   "execution_count": 9,
   "id": "36a470c0-ea31-476e-9de9-68fad913db17",
   "metadata": {},
   "outputs": [
    {
     "data": {
      "text/plain": [
       "['__add__',\n",
       " '__class__',\n",
       " '__class_getitem__',\n",
       " '__contains__',\n",
       " '__delattr__',\n",
       " '__delitem__',\n",
       " '__dir__',\n",
       " '__doc__',\n",
       " '__eq__',\n",
       " '__format__',\n",
       " '__ge__',\n",
       " '__getattribute__',\n",
       " '__getitem__',\n",
       " '__getstate__',\n",
       " '__gt__',\n",
       " '__hash__',\n",
       " '__iadd__',\n",
       " '__imul__',\n",
       " '__init__',\n",
       " '__init_subclass__',\n",
       " '__iter__',\n",
       " '__le__',\n",
       " '__len__',\n",
       " '__lt__',\n",
       " '__mul__',\n",
       " '__ne__',\n",
       " '__new__',\n",
       " '__reduce__',\n",
       " '__reduce_ex__',\n",
       " '__repr__',\n",
       " '__reversed__',\n",
       " '__rmul__',\n",
       " '__setattr__',\n",
       " '__setitem__',\n",
       " '__sizeof__',\n",
       " '__str__',\n",
       " '__subclasshook__',\n",
       " 'append',\n",
       " 'clear',\n",
       " 'copy',\n",
       " 'count',\n",
       " 'extend',\n",
       " 'index',\n",
       " 'insert',\n",
       " 'pop',\n",
       " 'remove',\n",
       " 'reverse',\n",
       " 'sort']"
      ]
     },
     "execution_count": 9,
     "metadata": {},
     "output_type": "execute_result"
    }
   ],
   "source": [
    "dir(list)"
   ]
  },
  {
   "cell_type": "code",
   "execution_count": 10,
   "id": "75a3968f-2bc6-405d-ae4b-c11a9a27db00",
   "metadata": {},
   "outputs": [
    {
     "name": "stdout",
     "output_type": "stream",
     "text": [
      "[1, 2, 3, 4, 5, 10]\n"
     ]
    }
   ],
   "source": [
    "a=[1,2,3,4,5]\n",
    "\n",
    "a.append(10)\n",
    "\n",
    "print(a)"
   ]
  },
  {
   "cell_type": "code",
   "execution_count": 11,
   "id": "4f1c17d2-0135-4e8a-a39d-c066c5682d30",
   "metadata": {},
   "outputs": [
    {
     "name": "stdout",
     "output_type": "stream",
     "text": [
      "[]\n"
     ]
    }
   ],
   "source": [
    "a=[1,2,3,4]\n",
    "\n",
    "a.clear()\n",
    "\n",
    "print(a)"
   ]
  },
  {
   "cell_type": "code",
   "execution_count": 12,
   "id": "867cebd7-218a-48a6-91c4-b159d5da1c71",
   "metadata": {},
   "outputs": [
    {
     "name": "stdout",
     "output_type": "stream",
     "text": [
      "[1, 2, 3, 4, 5]\n",
      "[1, 2, 3, 4, 5]\n"
     ]
    }
   ],
   "source": [
    "a=[1,2,3,4]\n",
    "b=a\n",
    "\n",
    "a.append(5)\n",
    "\n",
    "print(a)\n",
    "print(b)"
   ]
  },
  {
   "cell_type": "code",
   "execution_count": 13,
   "id": "6dc8cd42-e9e5-4833-ade0-3b83190c8c56",
   "metadata": {},
   "outputs": [
    {
     "name": "stdout",
     "output_type": "stream",
     "text": [
      "[1, 2, 3, 4, 5]\n",
      "[1, 2, 3, 4]\n"
     ]
    }
   ],
   "source": [
    "a=[1,2,3,4]\n",
    "b=a.copy()\n",
    "\n",
    "a.append(5)\n",
    "\n",
    "print(a)\n",
    "print(b)"
   ]
  },
  {
   "cell_type": "code",
   "execution_count": 17,
   "id": "5f7c249f-9a5e-4c92-9395-a848b5b50949",
   "metadata": {},
   "outputs": [
    {
     "name": "stdout",
     "output_type": "stream",
     "text": [
      "[1, 2, 3, 4, 5, 6, 7]\n"
     ]
    }
   ],
   "source": [
    "a=[1,2,3,4]\n",
    "b=[5,6,7]\n",
    "a.extend(b)\n",
    "print(a)\n"
   ]
  },
  {
   "cell_type": "code",
   "execution_count": 18,
   "id": "727dab8d-e931-4e67-aff9-ab678613f67c",
   "metadata": {},
   "outputs": [
    {
     "data": {
      "text/plain": [
       "2"
      ]
     },
     "execution_count": 18,
     "metadata": {},
     "output_type": "execute_result"
    }
   ],
   "source": [
    "a=[1,2,3,4]\n",
    " # 0 1 2 3\n",
    "\n",
    "a.index(3)"
   ]
  },
  {
   "cell_type": "code",
   "execution_count": 19,
   "id": "c2474dcc-0db5-4983-99d9-e675a9b0992a",
   "metadata": {},
   "outputs": [
    {
     "data": {
      "text/plain": [
       "[10, 20, 25, 30, 40, 50]"
      ]
     },
     "execution_count": 19,
     "metadata": {},
     "output_type": "execute_result"
    }
   ],
   "source": [
    "a=[10,20,30,40,50]\n",
    "#   0 1 2   3  4\n",
    "a.insert(2,25)\n",
    "a"
   ]
  },
  {
   "cell_type": "code",
   "execution_count": 20,
   "id": "4cddeb89-1b24-47a3-b8c5-0fa9f08da930",
   "metadata": {},
   "outputs": [
    {
     "data": {
      "text/plain": [
       "[2, 3, 4]"
      ]
     },
     "execution_count": 20,
     "metadata": {},
     "output_type": "execute_result"
    }
   ],
   "source": [
    "a=[2,3,4,5]\n",
    "a.pop()\n",
    "a"
   ]
  },
  {
   "cell_type": "code",
   "execution_count": 25,
   "id": "205ba4a5-9578-4949-8362-2d11ad8be1d7",
   "metadata": {},
   "outputs": [
    {
     "data": {
      "text/plain": [
       "[1, 2, 3, 4, 4, 5, 51]"
      ]
     },
     "execution_count": 25,
     "metadata": {},
     "output_type": "execute_result"
    }
   ],
   "source": [
    "a=[2,3,4,51,1,4,5]\n",
    "\n",
    "a.sort()\n",
    "a\n"
   ]
  },
  {
   "cell_type": "code",
   "execution_count": 24,
   "id": "9facfbc5-36ea-49f5-93eb-73297c34ea22",
   "metadata": {},
   "outputs": [
    {
     "data": {
      "text/plain": [
       "[51, 5, 4, 4, 3, 2, 1]"
      ]
     },
     "execution_count": 24,
     "metadata": {},
     "output_type": "execute_result"
    }
   ],
   "source": [
    "\n",
    "a=[2,3,4,51,1,4,5]\n",
    "\n",
    "a.sort(reverse=True)\n",
    "a"
   ]
  },
  {
   "cell_type": "code",
   "execution_count": 27,
   "id": "8a9448a2-b5c4-4d07-a6c9-37f06282ed32",
   "metadata": {},
   "outputs": [
    {
     "name": "stdin",
     "output_type": "stream",
     "text": [
      "enter a value 43\n"
     ]
    },
    {
     "name": "stdout",
     "output_type": "stream",
     "text": [
      "[43]\n"
     ]
    }
   ],
   "source": [
    "a=[]\n",
    "\n",
    "b=int(input('enter a value'))\n",
    "a.append(b)\n",
    "print(a)"
   ]
  },
  {
   "cell_type": "code",
   "execution_count": 28,
   "id": "454ab0ca-708b-4572-b183-b61f3b3b7d8f",
   "metadata": {},
   "outputs": [
    {
     "name": "stdin",
     "output_type": "stream",
     "text": [
      "enter value: 45\n",
      "enter value: 45\n",
      "enter value: 76\n",
      "enter value: 68\n",
      "enter value: 987\n"
     ]
    },
    {
     "name": "stdout",
     "output_type": "stream",
     "text": [
      "[45, 45, 76, 68, 987]\n"
     ]
    }
   ],
   "source": [
    "a=[]\n",
    "\n",
    "\n",
    "for i in range(5):\n",
    "    b=int(input('enter value:'))\n",
    "    a.append(b)\n",
    "print(a)"
   ]
  },
  {
   "cell_type": "code",
   "execution_count": 29,
   "id": "bc82ba0d-a3fe-4254-8bef-1304de23e54d",
   "metadata": {},
   "outputs": [
    {
     "name": "stdout",
     "output_type": "stream",
     "text": [
      "[12, 56]\n",
      "[23, 45, 67, 89]\n"
     ]
    }
   ],
   "source": [
    "numbers = [12,23,45,56,67,89]\n",
    "\n",
    "even=[]\n",
    "odd=[]\n",
    "\n",
    "for i in numbers:\n",
    "    if i%2==0:\n",
    "        even.append(i)\n",
    "    else:\n",
    "        odd.append(i)\n",
    "print(even)\n",
    "print(odd)"
   ]
  },
  {
   "cell_type": "code",
   "execution_count": null,
   "id": "2503454a-6806-4458-a79f-a59a4efa500f",
   "metadata": {},
   "outputs": [],
   "source": [
    "tuple - ()\n",
    "\n"
   ]
  },
  {
   "cell_type": "code",
   "execution_count": 33,
   "id": "0857c923-b08e-448c-a19d-d39d749e0f22",
   "metadata": {},
   "outputs": [
    {
     "name": "stdout",
     "output_type": "stream",
     "text": [
      "[1, 2, 3, 4, 5]\n"
     ]
    }
   ],
   "source": [
    "a=(1,2,3,4)\n",
    "\n",
    "# a.append(5)\n",
    "\n",
    "b=list(a)\n",
    "\n",
    "b.append(5)\n",
    "\n",
    "print(b)\n"
   ]
  },
  {
   "cell_type": "code",
   "execution_count": 34,
   "id": "4ae20cfe-6c62-4ba4-824d-3f3542e9933e",
   "metadata": {},
   "outputs": [
    {
     "data": {
      "text/plain": [
       "['__add__',\n",
       " '__class__',\n",
       " '__class_getitem__',\n",
       " '__contains__',\n",
       " '__delattr__',\n",
       " '__dir__',\n",
       " '__doc__',\n",
       " '__eq__',\n",
       " '__format__',\n",
       " '__ge__',\n",
       " '__getattribute__',\n",
       " '__getitem__',\n",
       " '__getnewargs__',\n",
       " '__getstate__',\n",
       " '__gt__',\n",
       " '__hash__',\n",
       " '__init__',\n",
       " '__init_subclass__',\n",
       " '__iter__',\n",
       " '__le__',\n",
       " '__len__',\n",
       " '__lt__',\n",
       " '__mul__',\n",
       " '__ne__',\n",
       " '__new__',\n",
       " '__reduce__',\n",
       " '__reduce_ex__',\n",
       " '__repr__',\n",
       " '__rmul__',\n",
       " '__setattr__',\n",
       " '__sizeof__',\n",
       " '__str__',\n",
       " '__subclasshook__',\n",
       " 'count',\n",
       " 'index']"
      ]
     },
     "execution_count": 34,
     "metadata": {},
     "output_type": "execute_result"
    }
   ],
   "source": [
    "dir(tuple)"
   ]
  },
  {
   "cell_type": "code",
   "execution_count": 35,
   "id": "6443d2e5-813e-4306-9268-dba536b1a255",
   "metadata": {},
   "outputs": [
    {
     "data": {
      "text/plain": [
       "3"
      ]
     },
     "execution_count": 35,
     "metadata": {},
     "output_type": "execute_result"
    }
   ],
   "source": [
    "a=(1,2,3,4)\n",
    "\n",
    "a.index(4)\n"
   ]
  },
  {
   "cell_type": "code",
   "execution_count": 36,
   "id": "9c3cfb61-2297-4e3c-a10b-fdb27dc2f320",
   "metadata": {},
   "outputs": [
    {
     "data": {
      "text/plain": [
       "3"
      ]
     },
     "execution_count": 36,
     "metadata": {},
     "output_type": "execute_result"
    }
   ],
   "source": [
    "a=(1,2,3,4,5,4,4,65)\n",
    "\n",
    "a.count(4)"
   ]
  },
  {
   "cell_type": "code",
   "execution_count": null,
   "id": "ddfae56c-b065-4994-aa08-c0b50af5f066",
   "metadata": {},
   "outputs": [],
   "source": [
    "nested list and tuple "
   ]
  },
  {
   "cell_type": "code",
   "execution_count": 45,
   "id": "614741f0-e951-459a-ad5d-170a7f011018",
   "metadata": {},
   "outputs": [
    {
     "name": "stdout",
     "output_type": "stream",
     "text": [
      "7\n"
     ]
    }
   ],
   "source": [
    "          #  0 1 2\n",
    "a=[1,2,3,4,[5,6,[7,8]]]\n",
    "#  0 1 2  3  4\n",
    "\n",
    "print(a[4][2][0])\n",
    "   "
   ]
  },
  {
   "cell_type": "code",
   "execution_count": null,
   "id": "55ab15bc-5bed-4b4a-b046-97484430689c",
   "metadata": {},
   "outputs": [],
   "source": [
    "set "
   ]
  },
  {
   "cell_type": "code",
   "execution_count": 48,
   "id": "ebdfc785-585e-4eb3-86ee-853450735116",
   "metadata": {},
   "outputs": [
    {
     "name": "stdout",
     "output_type": "stream",
     "text": [
      "{1, 2, 3, 4, 5}\n"
     ]
    },
    {
     "ename": "TypeError",
     "evalue": "'set' object is not subscriptable",
     "output_type": "error",
     "traceback": [
      "\u001b[1;31m---------------------------------------------------------------------------\u001b[0m",
      "\u001b[1;31mTypeError\u001b[0m                                 Traceback (most recent call last)",
      "Cell \u001b[1;32mIn[48], line 4\u001b[0m\n\u001b[0;32m      1\u001b[0m a\u001b[38;5;241m=\u001b[39m{\u001b[38;5;241m1\u001b[39m,\u001b[38;5;241m2\u001b[39m,\u001b[38;5;241m3\u001b[39m,\u001b[38;5;241m4\u001b[39m,\u001b[38;5;241m5\u001b[39m,\u001b[38;5;241m5\u001b[39m}\n\u001b[0;32m      3\u001b[0m \u001b[38;5;28mprint\u001b[39m(a)\n\u001b[1;32m----> 4\u001b[0m \u001b[38;5;28mprint\u001b[39m(a[\u001b[38;5;241m0\u001b[39m])\n",
      "\u001b[1;31mTypeError\u001b[0m: 'set' object is not subscriptable"
     ]
    }
   ],
   "source": [
    "a={1,2,3,4,5,5}\n",
    "\n",
    "print(a)\n",
    "print(a[0])\n"
   ]
  },
  {
   "cell_type": "code",
   "execution_count": 49,
   "id": "59139cd4-f093-4ca4-81a2-445c32e78668",
   "metadata": {},
   "outputs": [
    {
     "data": {
      "text/plain": [
       "['__and__',\n",
       " '__class__',\n",
       " '__class_getitem__',\n",
       " '__contains__',\n",
       " '__delattr__',\n",
       " '__dir__',\n",
       " '__doc__',\n",
       " '__eq__',\n",
       " '__format__',\n",
       " '__ge__',\n",
       " '__getattribute__',\n",
       " '__getstate__',\n",
       " '__gt__',\n",
       " '__hash__',\n",
       " '__iand__',\n",
       " '__init__',\n",
       " '__init_subclass__',\n",
       " '__ior__',\n",
       " '__isub__',\n",
       " '__iter__',\n",
       " '__ixor__',\n",
       " '__le__',\n",
       " '__len__',\n",
       " '__lt__',\n",
       " '__ne__',\n",
       " '__new__',\n",
       " '__or__',\n",
       " '__rand__',\n",
       " '__reduce__',\n",
       " '__reduce_ex__',\n",
       " '__repr__',\n",
       " '__ror__',\n",
       " '__rsub__',\n",
       " '__rxor__',\n",
       " '__setattr__',\n",
       " '__sizeof__',\n",
       " '__str__',\n",
       " '__sub__',\n",
       " '__subclasshook__',\n",
       " '__xor__',\n",
       " 'add',\n",
       " 'clear',\n",
       " 'copy',\n",
       " 'difference',\n",
       " 'difference_update',\n",
       " 'discard',\n",
       " 'intersection',\n",
       " 'intersection_update',\n",
       " 'isdisjoint',\n",
       " 'issubset',\n",
       " 'issuperset',\n",
       " 'pop',\n",
       " 'remove',\n",
       " 'symmetric_difference',\n",
       " 'symmetric_difference_update',\n",
       " 'union',\n",
       " 'update']"
      ]
     },
     "execution_count": 49,
     "metadata": {},
     "output_type": "execute_result"
    }
   ],
   "source": [
    "dir(set)"
   ]
  },
  {
   "cell_type": "code",
   "execution_count": 51,
   "id": "9aa20a47-10dd-4566-84d8-deba70540228",
   "metadata": {},
   "outputs": [
    {
     "name": "stdout",
     "output_type": "stream",
     "text": [
      "{'blue'}\n"
     ]
    }
   ],
   "source": [
    "a={'blue','yello','red'}\n",
    "\n",
    "b={'blue','yellow'}\n",
    "\n",
    "print(a.intersection(b))"
   ]
  },
  {
   "cell_type": "code",
   "execution_count": null,
   "id": "8665e4c1-d38f-4f58-8118-d98aa2e7301f",
   "metadata": {},
   "outputs": [],
   "source": [
    "dictionary"
   ]
  },
  {
   "cell_type": "code",
   "execution_count": 61,
   "id": "1fff3d70-6d52-4cea-8565-565afbff1fa5",
   "metadata": {},
   "outputs": [
    {
     "name": "stdout",
     "output_type": "stream",
     "text": [
      "india\n"
     ]
    },
    {
     "ename": "KeyError",
     "evalue": "'s'",
     "output_type": "error",
     "traceback": [
      "\u001b[1;31m---------------------------------------------------------------------------\u001b[0m",
      "\u001b[1;31mKeyError\u001b[0m                                  Traceback (most recent call last)",
      "Cell \u001b[1;32mIn[61], line 5\u001b[0m\n\u001b[0;32m      1\u001b[0m a\u001b[38;5;241m=\u001b[39m{\u001b[38;5;124m'\u001b[39m\u001b[38;5;124mteam\u001b[39m\u001b[38;5;124m'\u001b[39m:\u001b[38;5;124m'\u001b[39m\u001b[38;5;124mindia\u001b[39m\u001b[38;5;124m'\u001b[39m,\u001b[38;5;124m'\u001b[39m\u001b[38;5;124mcaptain\u001b[39m\u001b[38;5;124m'\u001b[39m:\u001b[38;5;124m'\u001b[39m\u001b[38;5;124mrohit\u001b[39m\u001b[38;5;124m'\u001b[39m,\u001b[38;5;124m'\u001b[39m\u001b[38;5;124mrank\u001b[39m\u001b[38;5;124m'\u001b[39m:\u001b[38;5;241m1\u001b[39m}\n\u001b[0;32m      3\u001b[0m \u001b[38;5;28mprint\u001b[39m(a[\u001b[38;5;124m'\u001b[39m\u001b[38;5;124mteam\u001b[39m\u001b[38;5;124m'\u001b[39m])\n\u001b[1;32m----> 5\u001b[0m \u001b[38;5;28mprint\u001b[39m(a[\u001b[38;5;124m'\u001b[39m\u001b[38;5;124ms\u001b[39m\u001b[38;5;124m'\u001b[39m])\n",
      "\u001b[1;31mKeyError\u001b[0m: 's'"
     ]
    }
   ],
   "source": [
    "a={'team':'india','captain':'rohit','rank':1}\n",
    "\n",
    "print(a['team'])\n",
    "\n",
    "print(a['s'])"
   ]
  },
  {
   "cell_type": "code",
   "execution_count": 62,
   "id": "63a42006-3790-4bf7-89d2-91b09d9c0ac0",
   "metadata": {},
   "outputs": [
    {
     "name": "stdout",
     "output_type": "stream",
     "text": [
      "None\n"
     ]
    }
   ],
   "source": [
    "print(a.get('s'))"
   ]
  },
  {
   "cell_type": "code",
   "execution_count": 63,
   "id": "059f72e7-20de-454f-acb7-c844740ada27",
   "metadata": {},
   "outputs": [
    {
     "data": {
      "text/plain": [
       "['__class__',\n",
       " '__class_getitem__',\n",
       " '__contains__',\n",
       " '__delattr__',\n",
       " '__delitem__',\n",
       " '__dir__',\n",
       " '__doc__',\n",
       " '__eq__',\n",
       " '__format__',\n",
       " '__ge__',\n",
       " '__getattribute__',\n",
       " '__getitem__',\n",
       " '__getstate__',\n",
       " '__gt__',\n",
       " '__hash__',\n",
       " '__init__',\n",
       " '__init_subclass__',\n",
       " '__ior__',\n",
       " '__iter__',\n",
       " '__le__',\n",
       " '__len__',\n",
       " '__lt__',\n",
       " '__ne__',\n",
       " '__new__',\n",
       " '__or__',\n",
       " '__reduce__',\n",
       " '__reduce_ex__',\n",
       " '__repr__',\n",
       " '__reversed__',\n",
       " '__ror__',\n",
       " '__setattr__',\n",
       " '__setitem__',\n",
       " '__sizeof__',\n",
       " '__str__',\n",
       " '__subclasshook__',\n",
       " 'clear',\n",
       " 'copy',\n",
       " 'fromkeys',\n",
       " 'get',\n",
       " 'items',\n",
       " 'keys',\n",
       " 'pop',\n",
       " 'popitem',\n",
       " 'setdefault',\n",
       " 'update',\n",
       " 'values']"
      ]
     },
     "execution_count": 63,
     "metadata": {},
     "output_type": "execute_result"
    }
   ],
   "source": [
    "dir(dict)"
   ]
  },
  {
   "cell_type": "code",
   "execution_count": 72,
   "id": "72bafc7e-c0ea-41b6-ad96-6e557eef1bf8",
   "metadata": {},
   "outputs": [
    {
     "name": "stdout",
     "output_type": "stream",
     "text": [
      "aus\n",
      "rohit\n",
      "1\n",
      "bcci\n",
      "{'team': 'aus', 'captain': 'rohit', 'rank': 1, 'board': 'bcci'}\n"
     ]
    }
   ],
   "source": [
    "a={'team':'india','captain':'rohit','rank':1}\n",
    "a['board']='bcci'\n",
    "a['team']='aus'\n",
    "for i in a.values():\n",
    "    print(i)\n",
    "print(a)\n"
   ]
  },
  {
   "cell_type": "code",
   "execution_count": 75,
   "id": "b48ce263-1fd7-4463-a9fa-c7d1a84df446",
   "metadata": {},
   "outputs": [
    {
     "data": {
      "text/plain": [
       "{'captain': 'rohit'}"
      ]
     },
     "execution_count": 75,
     "metadata": {},
     "output_type": "execute_result"
    }
   ],
   "source": [
    "a={'team':'india','captain':'rohit','rank':1}\n",
    "\n",
    "a.pop('team')\n",
    "\n",
    "a.popitem()\n",
    "\n",
    "a\n"
   ]
  },
  {
   "cell_type": "code",
   "execution_count": null,
   "id": "bbcf7e4b-414c-4add-8969-2c1475a70d2f",
   "metadata": {},
   "outputs": [],
   "source": [
    "break , continue , pass"
   ]
  },
  {
   "cell_type": "code",
   "execution_count": 78,
   "id": "021bbe88-3943-428b-9104-0a053f7d8e28",
   "metadata": {},
   "outputs": [
    {
     "name": "stdout",
     "output_type": "stream",
     "text": [
      "0\n",
      "1\n",
      "2\n",
      "3\n"
     ]
    }
   ],
   "source": [
    "for i in range(0,10):\n",
    "    if i==3:\n",
    "        break \n",
    "    print(i)\n",
    "print(i)"
   ]
  },
  {
   "cell_type": "code",
   "execution_count": 79,
   "id": "ea89b13e-8307-4297-83d8-eb1cec64d8da",
   "metadata": {},
   "outputs": [
    {
     "name": "stdout",
     "output_type": "stream",
     "text": [
      "0\n",
      "1\n",
      "2\n",
      "4\n",
      "5\n",
      "6\n",
      "7\n",
      "8\n",
      "9\n",
      "9\n"
     ]
    }
   ],
   "source": [
    "for i in range(0,10):\n",
    "    if i==3:\n",
    "        continue\n",
    "    print(i)\n",
    "print(i)"
   ]
  },
  {
   "cell_type": "code",
   "execution_count": 81,
   "id": "22a18188-0bc0-403a-a23b-168a318b6ae5",
   "metadata": {},
   "outputs": [
    {
     "name": "stdout",
     "output_type": "stream",
     "text": [
      "the end\n"
     ]
    }
   ],
   "source": [
    "a=10\n",
    "\n",
    "if a>15:\n",
    "    pass\n",
    "else:\n",
    "    print('the end')"
   ]
  },
  {
   "cell_type": "code",
   "execution_count": null,
   "id": "8022eea7-83b9-4c3d-83c4-264518d328d4",
   "metadata": {},
   "outputs": [],
   "source": [
    "# lambda  - anonymous function\n",
    "\n",
    "# lambda arguments : expression"
   ]
  },
  {
   "cell_type": "code",
   "execution_count": 82,
   "id": "1214117d-7688-4c5c-a730-b157386da5b4",
   "metadata": {},
   "outputs": [
    {
     "data": {
      "text/plain": [
       "30"
      ]
     },
     "execution_count": 82,
     "metadata": {},
     "output_type": "execute_result"
    }
   ],
   "source": [
    "add = lambda a,b:a+b\n",
    "\n",
    "add(10,20)"
   ]
  },
  {
   "cell_type": "code",
   "execution_count": 85,
   "id": "7dea58ef-fcdc-49dd-84e2-32410ef4ca4a",
   "metadata": {},
   "outputs": [
    {
     "name": "stdin",
     "output_type": "stream",
     "text": [
      "enter principal: 1000\n",
      "enter no of years: 2\n",
      "rate of interest: 2\n",
      "enter 1 for si and 2 for emi: 1\n"
     ]
    },
    {
     "name": "stdout",
     "output_type": "stream",
     "text": [
      "40.0\n"
     ]
    }
   ],
   "source": [
    "sicalc= lambda p,n,r :(p*n*r)/100\n",
    "emicalc=lambda p,n,r :(p*n*r)/200\n",
    "\n",
    "\n",
    "p= int(input('enter principal:'))\n",
    "n=int(input('enter no of years:'))\n",
    "r=int(input('rate of interest:'))\n",
    "\n",
    "choice = int(input('enter 1 for si and 2 for emi:'))\n",
    "\n",
    "if choice ==1:\n",
    "    e=sicalc(p,n,r)\n",
    "    print(e)\n",
    "if choice ==2:\n",
    "    d=emicalc(p,n,r)\n",
    "    print(d)\n"
   ]
  },
  {
   "cell_type": "code",
   "execution_count": null,
   "id": "eadf90be-9de6-4c51-914c-331365e933ef",
   "metadata": {},
   "outputs": [],
   "source": [
    "high order functions - zip , map , filter , reduce , sorted"
   ]
  },
  {
   "cell_type": "code",
   "execution_count": null,
   "id": "754de1b3-f3f1-4d95-8133-da7e4f72559a",
   "metadata": {},
   "outputs": [],
   "source": [
    "inbuilt functions - print(), input(), type(), sum(),min(),max() etc"
   ]
  },
  {
   "cell_type": "code",
   "execution_count": null,
   "id": "0af2c160-b449-4e4b-8275-028d638e65d7",
   "metadata": {},
   "outputs": [],
   "source": []
  },
  {
   "cell_type": "code",
   "execution_count": null,
   "id": "02e002d8-aa07-41f6-a0fd-039374cdc828",
   "metadata": {},
   "outputs": [],
   "source": []
  },
  {
   "cell_type": "code",
   "execution_count": null,
   "id": "1512c1db-1f67-4723-a269-e1b6a39ce9ea",
   "metadata": {},
   "outputs": [],
   "source": []
  },
  {
   "cell_type": "code",
   "execution_count": null,
   "id": "c135460c-365e-41b3-ba6e-a94eebc321e1",
   "metadata": {},
   "outputs": [],
   "source": []
  },
  {
   "cell_type": "code",
   "execution_count": null,
   "id": "4b8ae696-7f2c-404c-a546-02861f3270f0",
   "metadata": {},
   "outputs": [],
   "source": []
  }
 ],
 "metadata": {
  "kernelspec": {
   "display_name": "Python 3 (ipykernel)",
   "language": "python",
   "name": "python3"
  },
  "language_info": {
   "codemirror_mode": {
    "name": "ipython",
    "version": 3
   },
   "file_extension": ".py",
   "mimetype": "text/x-python",
   "name": "python",
   "nbconvert_exporter": "python",
   "pygments_lexer": "ipython3",
   "version": "3.12.4"
  }
 },
 "nbformat": 4,
 "nbformat_minor": 5
}
