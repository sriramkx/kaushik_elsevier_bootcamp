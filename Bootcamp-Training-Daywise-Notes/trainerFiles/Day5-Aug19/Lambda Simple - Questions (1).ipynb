{
 "cells": [
  {
   "cell_type": "markdown",
   "metadata": {},
   "source": [
    "# Lambda Simple Questions"
   ]
  },
  {
   "cell_type": "code",
   "execution_count": null,
   "metadata": {},
   "outputs": [],
   "source": [
    "1. Write a python lambda function to summarize arguments a, b, and c and return the result.\n",
    "Data:\n",
    "    5, 6, 2\n",
    "Expected outout:\n",
    "    13"
   ]
  },
  {
   "cell_type": "code",
   "execution_count": null,
   "metadata": {},
   "outputs": [],
   "source": [
    "2. write a python lambda function to multiply argument a with argument b and return the result.\n",
    "Data:\n",
    "    5, 6\n",
    "Expected output:\n",
    "    30"
   ]
  },
  {
   "cell_type": "code",
   "execution_count": null,
   "metadata": {},
   "outputs": [],
   "source": [
    "3. Write a python lambda function to add 10 to argument a, and return the result.\n",
    "Data:\n",
    "    a = 5\n",
    "Expected output:\n",
    "    15"
   ]
  },
  {
   "cell_type": "code",
   "execution_count": null,
   "metadata": {},
   "outputs": [],
   "source": [
    "4. Write a python lambda function to filter out only the even items from a list.\n",
    "Data:\n",
    "    my_list = [1, 5, 4, 6, 8, 11, 3, 12]\n",
    "Expected output:\n",
    "    [4, 6, 8, 12]"
   ]
  },
  {
   "cell_type": "code",
   "execution_count": null,
   "metadata": {},
   "outputs": [],
   "source": [
    "5.  Write a python lambda function to double each item in a list using map().\n",
    "Data:\n",
    "    my_list = [1, 5, 4, 6, 8, 11, 3, 12]\n",
    "Expected output:\n",
    "    [2, 10, 8, 12, 16, 22, 6, 24]"
   ]
  },
  {
   "cell_type": "code",
   "execution_count": null,
   "metadata": {},
   "outputs": [],
   "source": [
    "6. Write a python code to illustrate filter() with lambda() to return only the odd numbers from a given list.\n",
    "Data:\n",
    "    li = [5, 7, 22, 97, 54, 62, 77, 23, 73, 61]\n",
    "Expected output:\n",
    "    [5, 7, 97, 77, 23, 73, 61]"
   ]
  },
  {
   "cell_type": "code",
   "execution_count": null,
   "metadata": {},
   "outputs": [],
   "source": [
    "7. Write a python code to filter people above 18 years using lambda function.\n",
    "Data:\n",
    "    ages = [13, 90, 17, 59, 21, 60, 5]\n",
    "Expected output:\n",
    "    [90, 59, 21, 60]"
   ]
  },
  {
   "cell_type": "code",
   "execution_count": null,
   "metadata": {},
   "outputs": [],
   "source": [
    "8. Write a python function which has a lambda function to return double and triple of a given value.\n",
    "Data:\n",
    "    value = 5\n",
    "Expected output:\n",
    "    Value : 5\n",
    "    Double : 10\n",
    "    Triple : 15"
   ]
  },
  {
   "cell_type": "code",
   "execution_count": null,
   "metadata": {},
   "outputs": [],
   "source": [
    "9. Write a python code to illustrate map() with lambda() to get double of each items in a given list.\n",
    "Data:\n",
    "    li = [5, 7, 22, 97, 54, 62, 77, 23, 73, 61]\n",
    "Expected output:\n",
    "    [10, 14, 44, 194, 108, 124, 154, 46, 146, 122]"
   ]
  },
  {
   "cell_type": "code",
   "execution_count": null,
   "metadata": {},
   "outputs": [],
   "source": [
    "10. Write a python program to convert lower cases in a given list of strings into upper cases using lambda() and map() function.\n",
    "Data:\n",
    "    animals = ['dog', 'cat', 'parrot', 'rabbit']\n",
    "Expected output:\n",
    "    ['DOG', 'CAT', 'PARROT', 'RABBIT']"
   ]
  }
 ],
 "metadata": {
  "kernelspec": {
   "display_name": "Python 3",
   "language": "python",
   "name": "python3"
  },
  "language_info": {
   "codemirror_mode": {
    "name": "ipython",
    "version": 3
   },
   "file_extension": ".py",
   "mimetype": "text/x-python",
   "name": "python",
   "nbconvert_exporter": "python",
   "pygments_lexer": "ipython3",
   "version": "3.8.5"
  }
 },
 "nbformat": 4,
 "nbformat_minor": 4
}
