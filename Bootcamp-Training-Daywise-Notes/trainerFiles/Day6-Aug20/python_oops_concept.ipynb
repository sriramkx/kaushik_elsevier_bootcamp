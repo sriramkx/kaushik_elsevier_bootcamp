{
 "cells": [
  {
   "cell_type": "raw",
   "id": "a0bbf8de-9849-4b18-83ce-b016011f8d96",
   "metadata": {},
   "source": [
    "### 1. **Modules**\n",
    "#Modules in Python are files containing Python code, including functions, classes, or variables. A module can be imported and used in other programs.\n",
    "\n",
    "#### Example:\n",
    "**module_example.py** (Module File)\n",
    "```python\n",
    "def greet(name):\n",
    "    return f\"Hello, {name}!\"\n",
    "```\n",
    "\n",
    "**main.py** (Using the Module)\n",
    "```python\n",
    "import module_example\n",
    "\n",
    "message = module_example.greet(\"Alice\")\n",
    "print(message)\n",
    "```\n",
    "*Output:* \n",
    "```\n",
    "Hello, Alice!\n",
    "```"
   ]
  },
  {
   "cell_type": "code",
   "execution_count": 3,
   "id": "d4bff4b8-6292-41e4-9579-523a2d4fc15e",
   "metadata": {},
   "outputs": [
    {
     "name": "stdout",
     "output_type": "stream",
     "text": [
      "Buddy says Woof!\n",
      "Max says Woof!\n"
     ]
    }
   ],
   "source": [
    "### 2. **Classes and Objects in Python OOP**\n",
    "#A class is a blueprint for creating objects (instances). An object is an instance of a class.\n",
    "\n",
    "#### Example:\n",
    "\n",
    "class Dog:\n",
    "    def __init__(self, name, breed):\n",
    "        self.name = name\n",
    "        self.breed = breed\n",
    "\n",
    "    def bark(self):\n",
    "        return f\"{self.name} says Woof!\"\n",
    "\n",
    "# Creating objects\n",
    "dog1 = Dog(\"Buddy\", \"Golden Retriever\")\n",
    "dog2 = Dog(\"Max\", \"Bulldog\")\n",
    "\n",
    "print(dog1.bark())\n",
    "print(dog2.bark())\n"
   ]
  },
  {
   "cell_type": "code",
   "execution_count": 4,
   "id": "9a2d1ba8-e787-4dce-b710-9fcb226342de",
   "metadata": {},
   "outputs": [
    {
     "name": "stdout",
     "output_type": "stream",
     "text": [
      "Car: Toyota Corolla\n"
     ]
    }
   ],
   "source": [
    "\n",
    "### 3. **Constructors**\n",
    "#Constructors are special methods that are automatically called when an object is created. The `__init__` method is the constructor in Python.\n",
    "\n",
    "#### Example:\n",
    "\n",
    "class Car:\n",
    "    def __init__(self, brand, model):\n",
    "        self.brand = brand\n",
    "        self.model = model\n",
    "\n",
    "    def display_info(self):\n",
    "        return f\"Car: {self.brand} {self.model}\"\n",
    "\n",
    "# Creating an object\n",
    "car1 = Car(\"Toyota\", \"Corolla\")\n",
    "print(car1.display_info())\n"
   ]
  },
  {
   "cell_type": "code",
   "execution_count": 5,
   "id": "46153b20-5c07-4fdf-adf4-01ea34af8a38",
   "metadata": {},
   "outputs": [
    {
     "name": "stdout",
     "output_type": "stream",
     "text": [
      "Object1 is created\n",
      "Object1 is destroyed\n"
     ]
    }
   ],
   "source": [
    "### 4. **Destructors**\n",
    "#Destructors are methods that are called when an object is deleted or destroyed. The `__del__` method is the destructor in Python.\n",
    "\n",
    "#### Example:\n",
    "\n",
    "class Test:\n",
    "    def __init__(self, name):\n",
    "        self.name = name\n",
    "        print(f\"{self.name} is created\")\n",
    "\n",
    "    def __del__(self):\n",
    "        print(f\"{self.name} is destroyed\")\n",
    "\n",
    "# Creating and deleting objects\n",
    "test = Test(\"Object1\")\n",
    "del test\n"
   ]
  },
  {
   "cell_type": "code",
   "execution_count": 7,
   "id": "148d6fe1-8e4d-4d86-8b80-76b8f0da4a25",
   "metadata": {},
   "outputs": [
    {
     "name": "stdout",
     "output_type": "stream",
     "text": [
      "Generic Animal makes a sound\n",
      "Buddy barks\n"
     ]
    }
   ],
   "source": [
    "### 5. **Inheritance**\n",
    "#Inheritance allows a class to inherit attributes and methods from another class. This helps in code reusability.\n",
    "\n",
    "#### Example:\n",
    "\n",
    "class Animal:\n",
    "    def __init__(self, name):\n",
    "        self.name = name\n",
    "\n",
    "    def speak(self):\n",
    "        return f\"{self.name} makes a sound\"\n",
    "\n",
    "class Dog(Animal):\n",
    "    def speak(self):\n",
    "        return f\"{self.name} barks\"\n",
    "\n",
    "# Creating objects\n",
    "animal = Animal(\"Generic Animal\")\n",
    "dog = Dog(\"Buddy\")\n",
    "\n",
    "print(animal.speak())\n",
    "print(dog.speak())\n",
    "\n",
    "\n"
   ]
  },
  {
   "cell_type": "code",
   "execution_count": 9,
   "id": "ba4a0aa4-fb89-4d96-9637-bc227b6d7069",
   "metadata": {},
   "outputs": [
    {
     "name": "stdout",
     "output_type": "stream",
     "text": [
      "30\n",
      "35\n"
     ]
    }
   ],
   "source": [
    "### 6. **Encapsulation**\n",
    "#Encapsulation is the process of wrapping data and methods into a single unit (class). It also restricts access to some of the object's components, which means that only methods inside the class can access private attributes.\n",
    "\n",
    "#### Example:\n",
    "\n",
    "class Person:\n",
    "    def __init__(self, name, age):\n",
    "        self.name = name\n",
    "        self.__age = age  # Private attribute\n",
    "\n",
    "    def get_age(self):\n",
    "        return self.__age\n",
    "\n",
    "    def set_age(self, age):\n",
    "        if age > 0:\n",
    "            self.__age = age\n",
    "        else:\n",
    "            print(\"Invalid age\")\n",
    "\n",
    "# Creating an object\n",
    "person = Person(\"John\", 30)\n",
    "\n",
    "# Accessing private attribute through public methods\n",
    "print(person.get_age())  # Output: 30\n",
    "\n",
    "person.set_age(35)\n",
    "print(person.get_age())  # Output: 35\n"
   ]
  },
  {
   "cell_type": "code",
   "execution_count": 10,
   "id": "0f746ad0-de60-438b-a5c6-2db395942bf8",
   "metadata": {},
   "outputs": [
    {
     "name": "stdout",
     "output_type": "stream",
     "text": [
      "Sparrow chirps\n",
      "Parrot squawks\n"
     ]
    }
   ],
   "source": [
    "### 1. **Polymorphism**\n",
    "#Polymorphism allows objects of different classes to be treated as objects of a common superclass. It refers to the ability of different objects to respond, each in its own way, to identical messages (methods).\n",
    "\n",
    "#### Example:\n",
    "\n",
    "class Bird:\n",
    "    def sound(self):\n",
    "        return \"Birds make sound\"\n",
    "\n",
    "class Sparrow(Bird):\n",
    "    def sound(self):\n",
    "        return \"Sparrow chirps\"\n",
    "\n",
    "class Parrot(Bird):\n",
    "    def sound(self):\n",
    "        return \"Parrot squawks\"\n",
    "\n",
    "def make_sound(bird):\n",
    "    print(bird.sound())\n",
    "\n",
    "# Creating objects\n",
    "sparrow = Sparrow()\n",
    "parrot = Parrot()\n",
    "\n",
    "make_sound(sparrow)\n",
    "make_sound(parrot)\n",
    "\n"
   ]
  },
  {
   "cell_type": "code",
   "execution_count": 11,
   "id": "bd3a3435-e8ef-490e-9619-2768c0de6311",
   "metadata": {},
   "outputs": [
    {
     "name": "stdout",
     "output_type": "stream",
     "text": [
      "Car starts with a key\n",
      "Bike starts with a button\n"
     ]
    }
   ],
   "source": [
    "### 2. **Abstraction**\n",
    "#Abstraction is the concept of hiding the internal details and showing only the functionality. In Python, abstraction can be achieved using abstract classes and methods (using the `abc` module).\n",
    "\n",
    "#### Example:\n",
    "\n",
    "from abc import ABC, abstractmethod\n",
    "\n",
    "class Vehicle(ABC):\n",
    "    @abstractmethod\n",
    "    def start(self):\n",
    "        pass\n",
    "\n",
    "class Car(Vehicle):\n",
    "    def start(self):\n",
    "        return \"Car starts with a key\"\n",
    "\n",
    "class Bike(Vehicle):\n",
    "    def start(self):\n",
    "        return \"Bike starts with a button\"\n",
    "\n",
    "# Creating objects\n",
    "car = Car()\n",
    "bike = Bike()\n",
    "\n",
    "print(car.start())\n",
    "print(bike.start())\n"
   ]
  },
  {
   "cell_type": "code",
   "execution_count": 12,
   "id": "3a6fd0c8-7511-4f8c-afab-70cd316ec4b0",
   "metadata": {},
   "outputs": [
    {
     "name": "stdout",
     "output_type": "stream",
     "text": [
      "Alice, 30 years old, works at TechCorp\n",
      "Bob, 25 years old, works at TechCorp\n"
     ]
    }
   ],
   "source": [
    "### 3. **Static Variables**\n",
    "#Static variables are shared among all instances of a class. In Python, these are defined at the class level.\n",
    "\n",
    "#### Example:\n",
    "\n",
    "class Employee:\n",
    "    company_name = \"TechCorp\"  # Static variable\n",
    "\n",
    "    def __init__(self, name, age):\n",
    "        self.name = name\n",
    "        self.age = age\n",
    "\n",
    "    def display_info(self):\n",
    "        return f\"{self.name}, {self.age} years old, works at {Employee.company_name}\"\n",
    "\n",
    "# Creating objects\n",
    "emp1 = Employee(\"Alice\", 30)\n",
    "emp2 = Employee(\"Bob\", 25)\n",
    "\n",
    "print(emp1.display_info())\n",
    "print(emp2.display_info())\n"
   ]
  },
  {
   "cell_type": "code",
   "execution_count": 13,
   "id": "0fba8c17-7933-40e1-bfb9-5e6c3a20e06d",
   "metadata": {},
   "outputs": [
    {
     "name": "stdout",
     "output_type": "stream",
     "text": [
      "15\n",
      "5\n"
     ]
    }
   ],
   "source": [
    "### 4. **Static Methods**\n",
    "#Static methods in Python are methods that are bound to the class rather than its object. They can be called on the class itself and do not require a class instance.\n",
    "\n",
    "#### Example:\n",
    "\n",
    "class MathOperations:\n",
    "    @staticmethod\n",
    "    def add(a, b):\n",
    "        return a + b\n",
    "\n",
    "    @staticmethod\n",
    "    def subtract(a, b):\n",
    "        return a - b\n",
    "\n",
    "# Calling static methods\n",
    "print(MathOperations.add(10, 5))\n",
    "print(MathOperations.subtract(10, 5))\n",
    "\n",
    "\n"
   ]
  },
  {
   "cell_type": "markdown",
   "id": "2e13ed57-188a-476e-aeed-d0bfc1904d10",
   "metadata": {},
   "source": [
    "### Summary:\n",
    "- **Polymorphism**: Different classes can be treated through a common interface.\n",
    "- **Abstraction**: Hiding complex implementation details, showing only the essential features.\n",
    "- **Static Variables**: Class-level variables shared across all instances.\n",
    "- **Static Methods**: Methods that belong to the class rather than an instance, accessible directly from the class.\n",
    "\n"
   ]
  }
 ],
 "metadata": {
  "kernelspec": {
   "display_name": "Python 3 (ipykernel)",
   "language": "python",
   "name": "python3"
  },
  "language_info": {
   "codemirror_mode": {
    "name": "ipython",
    "version": 3
   },
   "file_extension": ".py",
   "mimetype": "text/x-python",
   "name": "python",
   "nbconvert_exporter": "python",
   "pygments_lexer": "ipython3",
   "version": "3.12.4"
  }
 },
 "nbformat": 4,
 "nbformat_minor": 5
}
