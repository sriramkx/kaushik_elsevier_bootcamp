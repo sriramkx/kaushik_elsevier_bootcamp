{
 "cells": [
  {
   "cell_type": "code",
   "execution_count": 1,
   "id": "fbb9c14e-417f-412b-a570-0b42ce60c5e2",
   "metadata": {},
   "outputs": [
    {
     "ename": "PermissionError",
     "evalue": "[WinError 5] Access is denied: 'D:\\\\elseveir\\\\materials' -> 'D:\\\\elseveir\\\\materials'",
     "output_type": "error",
     "traceback": [
      "\u001b[1;31m---------------------------------------------------------------------------\u001b[0m",
      "\u001b[1;31mPermissionError\u001b[0m                           Traceback (most recent call last)",
      "Cell \u001b[1;32mIn[1], line 28\u001b[0m\n\u001b[0;32m     26\u001b[0m \u001b[38;5;28;01mif\u001b[39;00m \u001b[38;5;18m__name__\u001b[39m \u001b[38;5;241m==\u001b[39m \u001b[38;5;124m\"\u001b[39m\u001b[38;5;124m__main__\u001b[39m\u001b[38;5;124m\"\u001b[39m:\n\u001b[0;32m     27\u001b[0m     path\u001b[38;5;241m=\u001b[39m\u001b[38;5;124m'\u001b[39m\u001b[38;5;124mD:\u001b[39m\u001b[38;5;130;01m\\\\\u001b[39;00m\u001b[38;5;124melseveir\u001b[39m\u001b[38;5;124m'\u001b[39m\n\u001b[1;32m---> 28\u001b[0m     Arrangefiles(path)\n",
      "Cell \u001b[1;32mIn[1], line 20\u001b[0m, in \u001b[0;36mArrangefiles\u001b[1;34m(path)\u001b[0m\n\u001b[0;32m     18\u001b[0m \u001b[38;5;28;01mfor\u001b[39;00m file \u001b[38;5;129;01min\u001b[39;00m files:\n\u001b[0;32m     19\u001b[0m     \u001b[38;5;28;01mif\u001b[39;00m os\u001b[38;5;241m.\u001b[39mpath\u001b[38;5;241m.\u001b[39msplit(folder)[\u001b[38;5;241m1\u001b[39m] \u001b[38;5;241m==\u001b[39m os\u001b[38;5;241m.\u001b[39mpath\u001b[38;5;241m.\u001b[39msplitext(file)[\u001b[38;5;241m1\u001b[39m][\u001b[38;5;241m1\u001b[39m:]:\n\u001b[1;32m---> 20\u001b[0m         os\u001b[38;5;241m.\u001b[39mrename(os\u001b[38;5;241m.\u001b[39mpath\u001b[38;5;241m.\u001b[39mjoin(path,file),os\u001b[38;5;241m.\u001b[39mpath\u001b[38;5;241m.\u001b[39mjoin(folder,file))\n",
      "\u001b[1;31mPermissionError\u001b[0m: [WinError 5] Access is denied: 'D:\\\\elseveir\\\\materials' -> 'D:\\\\elseveir\\\\materials'"
     ]
    }
   ],
   "source": [
    "import os\n",
    "\n",
    "def Arrangefiles(path):\n",
    "    files=os.listdir(path)\n",
    "    extension=[]\n",
    "\n",
    "    for file in files:\n",
    "        ext= os.path.join(path,os.path.splitext(file)[1][1:])\n",
    "\n",
    "        if ext not in extension:\n",
    "            extension.append(ext)\n",
    "\n",
    "    for folder in extension:\n",
    "        try:\n",
    "             os.mkdir(folder)\n",
    "        except:pass\n",
    "\n",
    "        for file in files:\n",
    "            if os.path.split(folder)[1] == os.path.splitext(file)[1][1:]:\n",
    "                os.rename(os.path.join(path,file),os.path.join(folder,file))\n",
    "       \n",
    "\n",
    "    # print(extension)\n",
    "\n",
    "\n",
    "if __name__ == \"__main__\":\n",
    "    path='Downloads'\n",
    "    Arrangefiles(path)"
   ]
  },
  {
   "cell_type": "code",
   "execution_count": null,
   "id": "260ccf9a-a9ac-4131-86e2-9ff395c4a591",
   "metadata": {},
   "outputs": [],
   "source": []
  }
 ],
 "metadata": {
  "kernelspec": {
   "display_name": "Python 3 (ipykernel)",
   "language": "python",
   "name": "python3"
  },
  "language_info": {
   "codemirror_mode": {
    "name": "ipython",
    "version": 3
   },
   "file_extension": ".py",
   "mimetype": "text/x-python",
   "name": "python",
   "nbconvert_exporter": "python",
   "pygments_lexer": "ipython3",
   "version": "3.12.4"
  }
 },
 "nbformat": 4,
 "nbformat_minor": 5
}
