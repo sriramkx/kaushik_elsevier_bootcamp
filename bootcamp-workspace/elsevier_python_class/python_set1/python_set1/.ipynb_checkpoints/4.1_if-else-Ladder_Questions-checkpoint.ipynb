{
 "cells": [
  {
   "cell_type": "raw",
   "metadata": {},
   "source": [
    "Read Five marks tamil,english,maths,science and social and if all marks are greater than 35 , print pass else print fail"
   ]
  },
  {
   "cell_type": "code",
   "execution_count": 4,
   "metadata": {},
   "outputs": [
    {
     "name": "stdin",
     "output_type": "stream",
     "text": [
      "Enter Tamil marks:  21\n",
      "Enter English marks:  12\n",
      "Enter Maths marks:  14\n",
      "Enter Science marks:  12\n",
      "Enter Social marks:  26\n"
     ]
    },
    {
     "name": "stdout",
     "output_type": "stream",
     "text": [
      "Fail in Tamil\n"
     ]
    }
   ],
   "source": [
    "tamil=float(input(\"Enter Tamil marks: \"))\n",
    "english=float(input(\"Enter English marks: \"))\n",
    "maths=float(input(\"Enter Maths marks: \"))\n",
    "science=float(input(\"Enter Science marks: \"))\n",
    "social=float(input(\"Enter Social marks: \"))\n",
    "if tamil>35:    \n",
    "    if english>35:        \n",
    "        if maths>35:            \n",
    "            if science>35:                \n",
    "                if social>35:\n",
    "                    print('Pass')        \n",
    "                else:\n",
    "                    print('Fail in Social')\n",
    "            else:\n",
    "                print('Fail in Science')\n",
    "        else:\n",
    "            print('Fail in Maths')\n",
    "    else:\n",
    "        print('Fail in English')\n",
    "else:\n",
    "    print('Fail in Tamil')\n",
    "            \n",
    "                \n",
    "             \n",
    "\n",
    "            \n"
   ]
  }
 ],
 "metadata": {
  "kernelspec": {
   "display_name": "Python 3 (ipykernel)",
   "language": "python",
   "name": "python3"
  },
  "language_info": {
   "codemirror_mode": {
    "name": "ipython",
    "version": 3
   },
   "file_extension": ".py",
   "mimetype": "text/x-python",
   "name": "python",
   "nbconvert_exporter": "python",
   "pygments_lexer": "ipython3",
   "version": "3.12.4"
  }
 },
 "nbformat": 4,
 "nbformat_minor": 4
}
