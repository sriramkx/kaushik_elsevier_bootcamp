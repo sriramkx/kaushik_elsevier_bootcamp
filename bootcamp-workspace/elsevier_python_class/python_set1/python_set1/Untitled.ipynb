{
 "cells": [
  {
   "cell_type": "code",
   "execution_count": 2,
   "id": "45084768-b6d7-4552-a8e9-3698334ed610",
   "metadata": {},
   "outputs": [
    {
     "data": {
      "text/plain": [
       "[1, 2, 3, 4, 4, 5, 42, 51]"
      ]
     },
     "execution_count": 2,
     "metadata": {},
     "output_type": "execute_result"
    }
   ],
   "source": [
    "a=[2,42,3,4,51,1,4,5]\n",
    "\n",
    "a.sort()\n",
    "a"
   ]
  },
  {
   "cell_type": "code",
   "execution_count": 17,
   "id": "0854449e-f1c1-466c-ac14-93fa83b8fd50",
   "metadata": {},
   "outputs": [
    {
     "name": "stdout",
     "output_type": "stream",
     "text": [
      "[1, 2, 3, 4, 5]\n",
      "[]\n",
      "[5, 6, 7, 8]\n",
      "[5, 6, 7, 8]\n",
      "2\n",
      "[5, 6, 7, 8, 5, 6, 7, 8, 5]\n",
      "[5, 6, 7, 8, 5]\n",
      "[5, 2, 6, 7, 8, 5, 6, 7, 8, 5]\n",
      "[5, 6, 7, 8]\n",
      "[5, 8, 7, 6, 5, 8, 7, 6, 2, 5]\n",
      "[2, 5, 5, 5, 6, 6, 7, 7, 8, 8]\n",
      "[8, 7, 6, 5]\n",
      "(1, 2, 3, 3)\n"
     ]
    }
   ],
   "source": [
    "a=[1,2,3,4]\n",
    "b=[5,6,7,8]\n",
    "a.append(5)\n",
    "print(a)\n",
    "a.clear()\n",
    "print(a)\n",
    "a=b.copy()\n",
    "print(a)\n",
    "print(b)\n",
    "b.append(5)\n",
    "print(b.count(5))\n",
    "a.extend(b)\n",
    "print(a)\n",
    "print(b)\n",
    "a.insert(1, 2)\n",
    "print(a)\n",
    "b.pop()\n",
    "print(b)\n",
    "a.reverse()\n",
    "print(a)\n",
    "a.sort()\n",
    "b.sort(reverse=True)\n",
    "print(a)\n",
    "print(b)\n",
    "\n",
    "t1=(1,2,3,3)\n",
    "print(t1)\n",
    "t1"
   ]
  },
  {
   "cell_type": "code",
   "execution_count": null,
   "id": "622a8cb3-b0cb-4ee8-ad8d-1768798d4baa",
   "metadata": {},
   "outputs": [],
   "source": []
  },
  {
   "cell_type": "code",
   "execution_count": null,
   "id": "453130d8-8a02-4eb8-8180-29fb5101f17f",
   "metadata": {},
   "outputs": [],
   "source": []
  },
  {
   "cell_type": "code",
   "execution_count": null,
   "id": "f4988986-2e28-4fc0-9586-9b7a533d4459",
   "metadata": {},
   "outputs": [],
   "source": []
  },
  {
   "cell_type": "code",
   "execution_count": null,
   "id": "3b24866b-c9db-4a5d-8f9d-a9344f74ee00",
   "metadata": {},
   "outputs": [],
   "source": []
  },
  {
   "cell_type": "code",
   "execution_count": null,
   "id": "e0674f1b-aa79-41cd-a193-d6f3ac9d9d47",
   "metadata": {},
   "outputs": [],
   "source": []
  },
  {
   "cell_type": "code",
   "execution_count": null,
   "id": "2a88beeb-65ff-4ab5-a7af-4f1fe1f3714b",
   "metadata": {},
   "outputs": [],
   "source": []
  },
  {
   "cell_type": "code",
   "execution_count": null,
   "id": "90449b80-a215-46bf-a1ee-de897ac300d7",
   "metadata": {},
   "outputs": [],
   "source": []
  },
  {
   "cell_type": "code",
   "execution_count": null,
   "id": "0b161ab1-68d0-4776-bbbb-7305c5fe5c5e",
   "metadata": {},
   "outputs": [],
   "source": []
  }
 ],
 "metadata": {
  "kernelspec": {
   "display_name": "Python 3 (ipykernel)",
   "language": "python",
   "name": "python3"
  },
  "language_info": {
   "codemirror_mode": {
    "name": "ipython",
    "version": 3
   },
   "file_extension": ".py",
   "mimetype": "text/x-python",
   "name": "python",
   "nbconvert_exporter": "python",
   "pygments_lexer": "ipython3",
   "version": "3.12.4"
  }
 },
 "nbformat": 4,
 "nbformat_minor": 5
}
