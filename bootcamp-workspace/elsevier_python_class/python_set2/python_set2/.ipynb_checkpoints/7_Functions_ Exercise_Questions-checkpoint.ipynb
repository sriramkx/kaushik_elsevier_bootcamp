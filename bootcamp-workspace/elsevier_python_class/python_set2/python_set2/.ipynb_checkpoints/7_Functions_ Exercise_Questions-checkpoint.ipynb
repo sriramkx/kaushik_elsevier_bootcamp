{
 "cells": [
  {
   "cell_type": "code",
   "execution_count": 3,
   "metadata": {},
   "outputs": [],
   "source": [
    "# Write a function to hours to minutes , user should able to give hours as input\n",
    "\n",
    "# your Answer\n",
    "\n",
    "def hrstominscalc(x):\n",
    "    y = x*60\n",
    "    print(x,\"hours equals to\",y,\"minutes\")"
   ]
  },
  {
   "cell_type": "code",
   "execution_count": 4,
   "metadata": {},
   "outputs": [
    {
     "name": "stdin",
     "output_type": "stream",
     "text": [
      "enter the hrs 4\n"
     ]
    },
    {
     "name": "stdout",
     "output_type": "stream",
     "text": [
      "4 hours equals to 240 minutes\n"
     ]
    }
   ],
   "source": [
    "hrs=int(input(\"enter the hrs\"))\n",
    "hrstominscalc(hrs)"
   ]
  },
  {
   "cell_type": "code",
   "execution_count": 6,
   "metadata": {},
   "outputs": [
    {
     "name": "stdin",
     "output_type": "stream",
     "text": [
      "Enter the centimeter :  440\n"
     ]
    },
    {
     "name": "stdout",
     "output_type": "stream",
     "text": [
      "The equivalent meter is 4.4\n"
     ]
    }
   ],
   "source": [
    "# Write a function to convert centimeter to meter , user shoulb be able to give centimeter as input\n",
    "# your Answer\n",
    "\n",
    "def cent_to_met(cm):\n",
    "    \n",
    "    print(\"The equivalent meter is\",cm/100)\n",
    "\n",
    "cm=int(input(\"Enter the centimeter : \"))\n",
    "cent_to_met(cm)\n",
    "\n",
    "\n",
    "\n",
    "\n",
    "\n",
    "\n",
    "\n"
   ]
  },
  {
   "cell_type": "code",
   "execution_count": 7,
   "metadata": {},
   "outputs": [
    {
     "name": "stdin",
     "output_type": "stream",
     "text": [
      "Enter the miles:  1\n"
     ]
    },
    {
     "name": "stdout",
     "output_type": "stream",
     "text": [
      "The equivalent kilometer is 1.609\n"
     ]
    }
   ],
   "source": [
    "# Write a function to convert miles to Kilometer , user shoulb be able to give miles as input\n",
    "\n",
    "# your Answer\n",
    "def mile_to_km(x):\n",
    "    print(\"The equivalent kilometer is\",x*1.609)\n",
    "\n",
    "\n",
    "mile=int(input(\"Enter the miles: \"))\n",
    "mile_to_km(mile)\n",
    "\n",
    "\n",
    "\n",
    "\n",
    "\n",
    "\n",
    "\n"
   ]
  },
  {
   "cell_type": "code",
   "execution_count": 9,
   "metadata": {},
   "outputs": [
    {
     "name": "stdin",
     "output_type": "stream",
     "text": [
      "Enter the pounds:  3\n"
     ]
    },
    {
     "name": "stdout",
     "output_type": "stream",
     "text": [
      "The equivalent kilograms is 1.3607910732105597\n"
     ]
    }
   ],
   "source": [
    "# Write a function to convert pounds to Kilogram , user shoulb be able to give pounds as input\n",
    "# your Answer\n",
    "def pound_to_kg(x):\n",
    "    print(\"The equivalent kilograms is\",x/2.2046)\n",
    "\n",
    "pound=int(input(\"Enter the pounds: \"))\n",
    "pound_to_kg(pound)\n",
    "\n",
    "\n",
    "\n",
    "\n",
    "\n",
    "\n",
    "\n"
   ]
  },
  {
   "cell_type": "code",
   "execution_count": 10,
   "metadata": {},
   "outputs": [
    {
     "name": "stdin",
     "output_type": "stream",
     "text": [
      "enter the pricipal amount 1000\n",
      "enter the rate of interest 5\n",
      "enter the time in years 1\n"
     ]
    },
    {
     "name": "stdout",
     "output_type": "stream",
     "text": [
      "Simple interest is 50.0\n"
     ]
    }
   ],
   "source": [
    "# Write a function to calculate simple interest # all input shoulb be given by the user\n",
    "# your Answer\n",
    "def si_cal(p, n, r):\n",
    "    si=(p*n*r)/100\n",
    "    print(\"Simple interest is\",si)\n",
    "\n",
    "p=int(input(\"enter the pricipal amount\"))\n",
    "r=int(input(\"enter the rate of interest\"))\n",
    "n=int(input(\"enter the time in years\"))\n",
    "si_cal(p, n, r)\n",
    "\n",
    "\n",
    "\n",
    "\n",
    "\n",
    "\n"
   ]
  },
  {
   "cell_type": "code",
   "execution_count": 11,
   "metadata": {},
   "outputs": [
    {
     "name": "stdin",
     "output_type": "stream",
     "text": [
      "enter the radius 3\n"
     ]
    },
    {
     "name": "stdout",
     "output_type": "stream",
     "text": [
      "Area of the Circle is 28.26\n"
     ]
    }
   ],
   "source": [
    "# Write a function to calculate area of circle\n",
    "# your Answer\n",
    "def areaOfCircle(radius):\n",
    "    area=3.14*radius**2\n",
    "    print(\"Area of the Circle is\",area)\n",
    "\n",
    "radius=int(input(\"enter the radius\"))\n",
    "areaOfCircle(radius)\n",
    "\n",
    "\n",
    "\n",
    "\n",
    "\n",
    "\n",
    "\n"
   ]
  },
  {
   "cell_type": "code",
   "execution_count": 12,
   "metadata": {},
   "outputs": [
    {
     "name": "stdin",
     "output_type": "stream",
     "text": [
      "enter the radius 2\n"
     ]
    },
    {
     "name": "stdout",
     "output_type": "stream",
     "text": [
      "Circumference of the Circle is 12.56\n"
     ]
    }
   ],
   "source": [
    "# Write a function to calculate circumference of circle\n",
    "# your Answer\n",
    "def circumferenceOfCircle(radius):\n",
    "    circumference=2*3.14*radius\n",
    "    print(\"Circumference of the Circle is\",circumference)\n",
    "\n",
    "radius=int(input(\"enter the radius\"))\n",
    "circumferenceOfCircle(radius)\n",
    "\n",
    "\n",
    "\n",
    "\n",
    "\n",
    "\n"
   ]
  },
  {
   "cell_type": "code",
   "execution_count": 14,
   "metadata": {},
   "outputs": [
    {
     "name": "stdin",
     "output_type": "stream",
     "text": [
      "enter the side length 4\n"
     ]
    },
    {
     "name": "stdout",
     "output_type": "stream",
     "text": [
      "perimeter of the square is 16\n"
     ]
    }
   ],
   "source": [
    "# Write a function to calculate perimeter of square\n",
    "# your Answer\n",
    "def perimeterOfSquare(side):\n",
    "    perimeter=4*side\n",
    "    print(\"perimeter of the square is\",perimeter)\n",
    "\n",
    "side=int(input(\"enter the side length\"))\n",
    "perimeterOfSquare(side)\n",
    "\n",
    "\n",
    "\n",
    "\n",
    "\n",
    "\n",
    "\n"
   ]
  },
  {
   "cell_type": "code",
   "execution_count": 15,
   "metadata": {},
   "outputs": [
    {
     "name": "stdin",
     "output_type": "stream",
     "text": [
      "enter the side length 4\n"
     ]
    },
    {
     "name": "stdout",
     "output_type": "stream",
     "text": [
      "Area of the square is 16\n"
     ]
    }
   ],
   "source": [
    "# Write a fucntion to calculate area of square\n",
    "# your Answer\n",
    "def areaOfSquare(side):\n",
    "    area=side*side\n",
    "    print(\"Area of the square is\",area)\n",
    "\n",
    "side=int(input(\"enter the side length\"))\n",
    "areaOfSquare(side)\n",
    "\n",
    "\n",
    "\n",
    "\n",
    "\n",
    "\n"
   ]
  },
  {
   "cell_type": "code",
   "execution_count": 16,
   "metadata": {},
   "outputs": [
    {
     "name": "stdin",
     "output_type": "stream",
     "text": [
      "enter the base 2\n",
      "enter the height 4\n"
     ]
    },
    {
     "name": "stdout",
     "output_type": "stream",
     "text": [
      "Area of Triangle is 4.0\n"
     ]
    }
   ],
   "source": [
    "# Write a function to area of traingle\n",
    "# your Answer\n",
    "\n",
    "def areaOfTriangle(base, height):\n",
    "    area=0.5*base*height\n",
    "    print(\"Area of Triangle is\",area)\n",
    "\n",
    "\n",
    "base=int(input(\"enter the base\"))\n",
    "height=int(input(\"enter the height\"))\n",
    "areaOfTriangle(base, height)\n",
    "\n",
    "\n",
    "\n",
    "\n",
    "\n",
    "\n",
    "\n"
   ]
  }
 ],
 "metadata": {
  "kernelspec": {
   "display_name": "Python 3 (ipykernel)",
   "language": "python",
   "name": "python3"
  },
  "language_info": {
   "codemirror_mode": {
    "name": "ipython",
    "version": 3
   },
   "file_extension": ".py",
   "mimetype": "text/x-python",
   "name": "python",
   "nbconvert_exporter": "python",
   "pygments_lexer": "ipython3",
   "version": "3.12.4"
  }
 },
 "nbformat": 4,
 "nbformat_minor": 4
}
