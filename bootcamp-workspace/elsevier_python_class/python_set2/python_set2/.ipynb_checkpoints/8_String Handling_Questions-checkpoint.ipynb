{
 "cells": [
  {
   "cell_type": "raw",
   "metadata": {},
   "source": [
    "Python Program to Replace all Occurrences of ‘a’ with $ in a String\n",
    "\n",
    "Given String = \"apple\""
   ]
  },
  {
   "cell_type": "code",
   "execution_count": 1,
   "metadata": {},
   "outputs": [
    {
     "name": "stdout",
     "output_type": "stream",
     "text": [
      "$pple\n"
     ]
    }
   ],
   "source": [
    "a = \"apple\"\n",
    "b = a.replace(\"a\",\"$\")\n",
    "print(b)"
   ]
  },
  {
   "cell_type": "raw",
   "metadata": {},
   "source": [
    "2.Python Program to Remove the 5th Index Character from a String"
   ]
  },
  {
   "cell_type": "code",
   "execution_count": 5,
   "metadata": {},
   "outputs": [
    {
     "name": "stdout",
     "output_type": "stream",
     "text": [
      "aeropane\n"
     ]
    }
   ],
   "source": [
    "i=\"aeroplane\"\n",
    "o=i.replace(i[5],'')\n",
    "print(o)\n",
    "\n"
   ]
  },
  {
   "cell_type": "raw",
   "metadata": {},
   "source": [
    "3.Python Program to Form a New String where the First Character and the Last Character have been Exchanged"
   ]
  },
  {
   "cell_type": "code",
   "execution_count": 8,
   "metadata": {},
   "outputs": [
    {
     "name": "stdout",
     "output_type": "stream",
     "text": [
      "OELLH\n"
     ]
    }
   ],
   "source": [
    "inputStr=\"HELLO\"\n",
    "firstChar = inputStr[0]\n",
    "lastChar = inputStr[-1]\n",
    "newString = lastChar + inputStr[1:-1] + firstChar\n",
    "print(newString)"
   ]
  },
  {
   "cell_type": "raw",
   "metadata": {},
   "source": [
    "4.Python Program to Count the Number of Vowels in a String"
   ]
  },
  {
   "cell_type": "code",
   "execution_count": 9,
   "metadata": {},
   "outputs": [
    {
     "name": "stdout",
     "output_type": "stream",
     "text": [
      "Number of vowels is 5\n"
     ]
    }
   ],
   "source": [
    "inputString=\"My name is Anthon\"\n",
    "\n",
    "inputString=inputString.lower()\n",
    "vowelCount=0\n",
    "\n",
    "for i in inputString:\n",
    "    if i=='a' or i=='e' or i=='i' or i=='o' or i=='u':\n",
    "        vowelCount+=1\n",
    "\n",
    "print('Number of vowels is',vowelCount)\n",
    "        "
   ]
  },
  {
   "cell_type": "raw",
   "metadata": {},
   "source": [
    "5.Python Program to Take in a String and Replace Every Blank Space with Hyphen"
   ]
  },
  {
   "cell_type": "code",
   "execution_count": 11,
   "metadata": {},
   "outputs": [
    {
     "name": "stdout",
     "output_type": "stream",
     "text": [
      "cool-as-a-cucumber\n"
     ]
    }
   ],
   "source": [
    "inputStr='cool as a cucumber'\n",
    "inputStr=inputStr.replace(' ','-')\n",
    "print(inputStr)"
   ]
  },
  {
   "cell_type": "raw",
   "metadata": {},
   "source": [
    "6.Python Program to Calculate the Length of a String Without Using a Library Function"
   ]
  },
  {
   "cell_type": "code",
   "execution_count": 14,
   "metadata": {},
   "outputs": [
    {
     "name": "stdout",
     "output_type": "stream",
     "text": [
      "Length of the string is 8\n"
     ]
    }
   ],
   "source": [
    "inputString='Umbrella'\n",
    "count=0\n",
    "for i in inputString:\n",
    "    count+=1\n",
    "print('Length of the string is',count)"
   ]
  },
  {
   "cell_type": "raw",
   "metadata": {},
   "source": [
    "7.Python Program to Remove the Characters of Odd Index Values in a String"
   ]
  },
  {
   "cell_type": "code",
   "execution_count": 16,
   "metadata": {},
   "outputs": [
    {
     "name": "stdout",
     "output_type": "stream",
     "text": [
      "Esve\n"
     ]
    }
   ],
   "source": [
    "inputString='Elsevier'\n",
    "outputString=''\n",
    "for i in range(len(inputString)):\n",
    "    if i%2==0:\n",
    "        outputString+=inputString[i]\n",
    "print(outputString)"
   ]
  },
  {
   "cell_type": "raw",
   "metadata": {},
   "source": [
    "8.Python Program to Calculate the Number of Words and the Number of Characters Present in a String"
   ]
  },
  {
   "cell_type": "code",
   "execution_count": 20,
   "metadata": {},
   "outputs": [
    {
     "name": "stdout",
     "output_type": "stream",
     "text": [
      "number of words is 4\n",
      "number of characters is 18\n"
     ]
    }
   ],
   "source": [
    "inputString='Cool as a cucumber'\n",
    "noOfWords=len(inputString.split())\n",
    "noOfCharacters = len(inputString)\n",
    "print('number of words is',noOfWords)\n",
    "print('number of characters is',noOfCharacters)"
   ]
  },
  {
   "cell_type": "raw",
   "metadata": {},
   "source": [
    "9.Python Program to Take in Two Strings and Display the Larger String without Using Built-in Functions"
   ]
  },
  {
   "cell_type": "code",
   "execution_count": 23,
   "metadata": {},
   "outputs": [
    {
     "name": "stdout",
     "output_type": "stream",
     "text": [
      "String 2 is larger\n"
     ]
    }
   ],
   "source": [
    "inputStr1='python'\n",
    "inputStr2='javascript'\n",
    "count1=0\n",
    "count2=0\n",
    "for i in inputStr1:\n",
    "    count1+=1\n",
    "for i in inputStr2:\n",
    "    count2+=1\n",
    "if count>count2:\n",
    "    print('String 1 is larger')\n",
    "else:\n",
    "    print('String 2 is larger')"
   ]
  },
  {
   "cell_type": "raw",
   "metadata": {},
   "source": [
    "10.Python Program to Count Number of Lowercase Characters in a String"
   ]
  },
  {
   "cell_type": "code",
   "execution_count": 24,
   "metadata": {},
   "outputs": [
    {
     "name": "stdout",
     "output_type": "stream",
     "text": [
      "Number of lowercase characters is 6\n"
     ]
    }
   ],
   "source": [
    "inputString='BirthDay'\n",
    "count=0\n",
    "for i in inputString:\n",
    "    if i.islower():\n",
    "        count+=1\n",
    "\n",
    "print('Number of lowercase characters is',count)"
   ]
  },
  {
   "cell_type": "raw",
   "metadata": {},
   "source": [
    "11.Python Program to Check if a String is a Palindrome or Not"
   ]
  },
  {
   "cell_type": "code",
   "execution_count": 26,
   "metadata": {},
   "outputs": [
    {
     "name": "stdin",
     "output_type": "stream",
     "text": [
      "Enter a string salary\n"
     ]
    },
    {
     "name": "stdout",
     "output_type": "stream",
     "text": [
      "Given String is not a palindrone\n"
     ]
    }
   ],
   "source": [
    "inputString=input(\"Enter a string\")\n",
    "reverseSting=inputString[::-1]\n",
    "if inputString==reverseSting:\n",
    "    print(\"Given String a palindrone\")\n",
    "else:\n",
    "    print('Given String is not a palindrone')"
   ]
  },
  {
   "cell_type": "raw",
   "metadata": {},
   "source": [
    "12.Python Program to Calculate the Number of Upper Case Letters and Lower Case Letters in a String"
   ]
  },
  {
   "cell_type": "code",
   "execution_count": 28,
   "metadata": {},
   "outputs": [
    {
     "name": "stdout",
     "output_type": "stream",
     "text": [
      "Number of lowercase letters is 6\n",
      "Number of uppercase letters is 2\n"
     ]
    }
   ],
   "source": [
    "inputString='MedicinE'\n",
    "lowerCount=0\n",
    "upperCount=0\n",
    "for i in inputString:\n",
    "    if i.islower():\n",
    "        lowerCount+=1\n",
    "    else:\n",
    "        upperCount+=1\n",
    "print('Number of lowercase letters is',lowerCount)\n",
    "print('Number of uppercase letters is',upperCount)"
   ]
  },
  {
   "cell_type": "raw",
   "metadata": {},
   "source": [
    "13.Python Program to Calculate the Number of Digits and Letters in a String"
   ]
  },
  {
   "cell_type": "code",
   "execution_count": null,
   "metadata": {},
   "outputs": [],
   "source": [
    "inputString=\"python1234\"\n",
    "letters=0\n",
    "for i in inputString:\n",
    "\tif (i.isalpha()):\n",
    "\t\tletters+=1\n",
    "print(\"Number of Digit is\", len(inputString)-letters)\n",
    "print(\"Number of Alphabets is\", letters)"
   ]
  },
  {
   "cell_type": "raw",
   "metadata": {},
   "source": [
    "14.Python Program to Form a New String Made of the First 2 and Last 2 characters From a Given String"
   ]
  },
  {
   "cell_type": "code",
   "execution_count": 31,
   "metadata": {},
   "outputs": [
    {
     "name": "stdout",
     "output_type": "stream",
     "text": [
      "New string is Cuer\n"
     ]
    }
   ],
   "source": [
    "inputString='Cucumber'\n",
    "outputString=''\n",
    "outputString=inputString[:2]+inputString[-2:]\n",
    "print('New string is',outputString)"
   ]
  },
  {
   "cell_type": "raw",
   "metadata": {},
   "source": [
    "15.Python Program to Count the Occurrences of Each Word in a Given String Sentence\n",
    "\n",
    "\"Everybody is selfish , the ratio diferrs , time to time , person to to person\"\n",
    "\n",
    "count the occurance of \"time\""
   ]
  },
  {
   "cell_type": "code",
   "execution_count": 32,
   "metadata": {},
   "outputs": [
    {
     "name": "stdout",
     "output_type": "stream",
     "text": [
      "Number of occurance of \"time\" is 2\n"
     ]
    }
   ],
   "source": [
    "sentence=\"Everybody is selfish , the ratio diferrs , time to time , person to to person\"\n",
    "\n",
    "cleaned_sentence = sentence.replace(\",\", \"\").lower()\n",
    "words = cleaned_sentence.split()\n",
    "word_count = {}\n",
    "for word in words:\n",
    "    if word in word_count:\n",
    "        word_count[word] += 1\n",
    "    else:\n",
    "        word_count[word] = 1\n",
    "print('Number of occurance of \\\"time\\\" is',word_count[\"time\"])"
   ]
  }
 ],
 "metadata": {
  "kernelspec": {
   "display_name": "Python 3 (ipykernel)",
   "language": "python",
   "name": "python3"
  },
  "language_info": {
   "codemirror_mode": {
    "name": "ipython",
    "version": 3
   },
   "file_extension": ".py",
   "mimetype": "text/x-python",
   "name": "python",
   "nbconvert_exporter": "python",
   "pygments_lexer": "ipython3",
   "version": "3.12.4"
  }
 },
 "nbformat": 4,
 "nbformat_minor": 4
}
