{
 "cells": [
  {
   "cell_type": "markdown",
   "metadata": {},
   "source": [
    "# List Hard Questions"
   ]
  },
  {
   "cell_type": "code",
   "execution_count": null,
   "metadata": {},
   "outputs": [],
   "source": [
    "''' 1. Write a Python program to rotate a given list by specified number of items to the right or left direction.\n",
    "    Data:\n",
    "        [1, 2, 3, 4, 5, 6, 7, 8, 9, 10]\n",
    "    Expected Output:\n",
    "        Rotate the said list in left direction by 4:\n",
    "        [4, 5, 6, 7, 8, 9, 10, 1, 2, 3, 4]\n",
    "        Rotate the said list in left direction by 2:\n",
    "        [3, 4, 5, 6, 7, 8, 9, 10, 1, 2]\n",
    "        Rotate the said list in Right direction by 4:\n",
    "        [8, 9, 10, 1, 2, 3, 4, 5, 6]\n",
    "        Rotate the said list in Right direction by 2:\n",
    "        [9, 10, 1, 2, 3, 4, 5, 6, 7, 8]  '''\n",
    "        \n",
    "        \n",
    "        \n",
    "        "
   ]
  },
  {
   "cell_type": "code",
   "execution_count": null,
   "metadata": {},
   "outputs": [],
   "source": [
    "''' 2. Write a Python program to find an element which has maximum occurrences in a given list. \n",
    "    Data:\n",
    "        [2,3,8,4,7,9,9,2,6,5,1,6,1,3,3,4,6,9,1,2]\n",
    "    Expected Output:\n",
    "        Item with maximum occurrences of the said list:\n",
    "            2 '''\n",
    "            \n",
    "            \n",
    "            \n",
    "            "
   ]
  },
  {
   "cell_type": "code",
   "execution_count": null,
   "metadata": {},
   "outputs": [],
   "source": [
    "''' 3. Write a Python program to access multiple elements of specified index from a given list. \n",
    "    Data:\n",
    "        [2,3,8,4,7,9,7,2,6,5,1,5,1,2,3,4,6,9,3,2]\n",
    "    Expected Output:\n",
    "        Index list:\n",
    "        [0, 3, 5, 7, 10]\n",
    "\n",
    "        Items with specified index of the said list:\n",
    "        [2, 4, 9, 2, 1] '''\n",
    "        \n",
    "        \n",
    "        \n",
    "        "
   ]
  },
  {
   "cell_type": "code",
   "execution_count": 1,
   "metadata": {},
   "outputs": [],
   "source": [
    "''' 4. Write a Python program to check whether the given list is sorted or not. Return True if yes, false if not.\n",
    "    Data:\n",
    "        Original list:\n",
    "        [1, 2, 4, 6, 8, 10, 12, 14, 16, 17]\n",
    "        [2, 3, 8, 4, 7, 9, 8, 2, 6, 5, 1, 6, 1, 2, 3, 4, 6, 9, 1, 2]\n",
    "    Expected Output:\n",
    "        Is the said list is sorted!\n",
    "        True\n",
    "        Is the said list is sorted!\n",
    "        False '''\n",
    "        \n",
    "        \n",
    "        \n",
    "        "
   ]
  },
  {
   "cell_type": "code",
   "execution_count": null,
   "metadata": {},
   "outputs": [],
   "source": [
    "''' 5. Write a Python program to remove duplicate dictionary from a given list. \n",
    "    Data:\n",
    "        l = [{'Black': 'Cotton'}, {'Red': 'Pulses'}, {'Laterite': 'Cashews'}, {'Black': 'Cotton'}, {'Alluvial': 'Rice'}]\n",
    "    Expected Output:\n",
    "        After removing duplicate dictionary of the said list:\n",
    "        [{'Black': 'Cotton'}, {'Red': 'Pulses'}, {'Laterite': 'Cashews'}, {'Alluvial': 'Rice'}] '''\n",
    "        \n",
    "        \n",
    "        \n",
    "        "
   ]
  },
  {
   "cell_type": "code",
   "execution_count": null,
   "metadata": {},
   "outputs": [],
   "source": [
    "''' 6. Write a Python program to extract the nth element from a given list of tuples. \n",
    "    Data:\n",
    "        [('boss', 98, 99), ('kumar', 97, 96), ('karthi', 91, 94), ('siva', 94, 98)]\n",
    "    Expected Output:\n",
    "        Extract nth element ( n = 0 ) from the said list of tuples:\n",
    "        ['boss', 'kumar', 'karthi', 'siva']\n",
    "\n",
    "        Extract nth element ( n = 2 ) from the said list of tuples:\n",
    "        [99, 96, 94, 98] '''\n",
    "        \n",
    "        \n",
    "        \n",
    "        "
   ]
  },
  {
   "cell_type": "code",
   "execution_count": null,
   "metadata": {},
   "outputs": [],
   "source": [
    "''' 7. Write a Python program to check whether the elements of a given list are unique or not.\n",
    "    Data:\n",
    "        [3, 7, 4, 6, 8, 2, 1, 4, 10, 11, 14, 12, 16, 17]\n",
    "        [2, 4, 6, 8, 10, 12, 14]\n",
    "    Expected Output:\n",
    "        Is the said list contains all unique elements!\n",
    "        False\n",
    "        Is the said list contains all unique elements!\n",
    "        True '''\n",
    "        \n",
    "        \n",
    "        \n",
    "        "
   ]
  },
  {
   "cell_type": "code",
   "execution_count": null,
   "metadata": {},
   "outputs": [],
   "source": [
    "''' 8. Write a Python program to sort a list of lists by a given index of the inner list. \n",
    "    Data:\n",
    "        [('siva', 98, 99), ('bala', 97, 96), ('kumar', 91, 94), ('boss', 94, 98)]\n",
    "    Expected Output:\n",
    "        Sort the said list of lists by a given index ( Index =  0 ) of the inner list\n",
    "        [('bala', 97, 96), ('boss', 94, 98), ('kumar', 91, 94), ('siva', 98, 99)]\n",
    "\n",
    "        Sort the said list of lists by a given index ( Index =  2 ) of the inner list\n",
    "        [('kumar', 91, 94), ('bala', 97, 96), ('boss', 94, 98), ('siva', 98, 99)] '''\n",
    "        \n",
    "        \n",
    "        \n",
    "        "
   ]
  },
  {
   "cell_type": "code",
   "execution_count": null,
   "metadata": {},
   "outputs": [],
   "source": [
    "''' 9. Write a Python program to remove those elements from a given list that are present in the another list. \n",
    "    Data:\n",
    "        x: [1, 2, 3, 4, 5, 6, 7, 8, 9, 10]\n",
    "        y: [5, 4, 7, 9]\n",
    "    Expected Output:\n",
    "        Remove all elements from 'x' present in 'y:\n",
    "        [1, 2, 3, 6, 8, 10] '''\n",
    "        \n",
    "        \n",
    "        \n",
    "        "
   ]
  },
  {
   "cell_type": "code",
   "execution_count": null,
   "metadata": {},
   "outputs": [],
   "source": [
    "''' 10. Write a Python program to find the difference between elements (n+1th - nth) from a given list. \n",
    "    Data:\n",
    "        x1 = [3, 6, 2, 7, 9, 23, 6, 12, 24]\n",
    "    Expected Output:\n",
    "        Difference between elements (n+1th – nth) of the said list :\n",
    "        [3, -4, 5, 2, 14, -17, 6, 12] '''\n",
    "        \n",
    "        \n",
    "        \n",
    "        "
   ]
  },
  {
   "cell_type": "code",
   "execution_count": null,
   "metadata": {},
   "outputs": [],
   "source": [
    "''' 11. Write a Python program to check whether a substring presents in the given list. \n",
    "    Data:\n",
    "        ['Kannada', 'Telugu', 'Hindi', 'Tamizh', 'Odia']\n",
    "    Expected Output:\n",
    "        Substring to search: ugu\n",
    "        Check if a substring presents in the said list of string values: True\n",
    "        \n",
    "        Substring to search: alaya\n",
    "        Check if a substring presents in the said list of string values: False '''\n",
    "        \n",
    "        \n",
    "        \n",
    "        "
   ]
  },
  {
   "cell_type": "code",
   "execution_count": null,
   "metadata": {},
   "outputs": [],
   "source": [
    "''' 12. Write a Python program to create a new list by taking alternate elements from a given list.\n",
    "    Data:\n",
    "        ['Soverign', 'Socialist', 'Secular', 'Democratic', 'Republic']\n",
    "    Expected Output:\n",
    "        ['Soverign', 'Secular', 'Republic'] '''\n",
    "        \n",
    "        \n",
    "        \n",
    "        "
   ]
  },
  {
   "cell_type": "code",
   "execution_count": null,
   "metadata": {},
   "outputs": [],
   "source": [
    "''' 13. Write a Python program to find the nested lists elements which are present in another list. \n",
    "    Data:\n",
    "        [1, 2, 3, 4, 5, 6, 7, 8, 9, 10, 11, 12, 13, 14]\n",
    "        [[11, 18, 23, 25, 42], [7, 11, 18, 24, 28], [1, 5, 8, 18, 15, 16]]\n",
    "    Expected Output:\n",
    "        Intersection of said nested lists:\n",
    "        [[11], [7, 11], [1, 5, 8]] '''\n",
    "        \n",
    "        \n",
    "        \n",
    "        "
   ]
  },
  {
   "cell_type": "code",
   "execution_count": null,
   "metadata": {},
   "outputs": [],
   "source": [
    "''' 14. Write a Python program to find common element(s) from the given nested lists. \n",
    "    Data:\n",
    "        Original lists:\n",
    "        [[11, 18, 23, 25, 42], [7, 11, 18, 24, 28], [1, 5, 8, 18, 15, 16]]\n",
    "    Expected Output:\n",
    "        Common element(s) in nested lists:\n",
    "        [18] '''\n",
    "        \n",
    "        \n",
    "        \n"
   ]
  },
  {
   "cell_type": "code",
   "execution_count": null,
   "metadata": {},
   "outputs": [],
   "source": [
    "''' 15. Write a Python program to print reverse strings of strings that are present in the given list. \n",
    "    Data:\n",
    "        ['suresk', 'kumar', 'siva', 'boss', 'bala']\n",
    "    Expected Output:\n",
    "        Reverse strings of the said given list:\n",
    "        ['kserus', 'ramuk', 'avis', 'ssob', 'alab'] '''\n",
    "        \n",
    "        \n",
    "        \n",
    "        "
   ]
  },
  {
   "cell_type": "code",
   "execution_count": null,
   "metadata": {},
   "outputs": [],
   "source": [
    "''' 16. Write a Python program to find the maximum and minimum product from the pairs of tuple in a given list. \n",
    "    Data:\n",
    "        [(2, 7), (2, 6), (1, 8), (4, 9)]\n",
    "    Expected Output:\n",
    "        Maximum and minimum product from the pairs of the said tuple of list:\n",
    "        (36, 8) '''\n",
    "    \n",
    "    \n",
    "    \n",
    "    "
   ]
  },
  {
   "cell_type": "code",
   "execution_count": null,
   "metadata": {},
   "outputs": [],
   "source": [
    "''' 17. Write a Python program to calculate the product of the unique numbers from the given list. \n",
    "    Data:\n",
    "        [10, 20, 30, 40, 30, 50, 50, 40]\n",
    "    Expected Output:\n",
    "        Product of the unique numbers of the said list:  12000000 '''\n",
    "            \n",
    "            \n",
    "            \n",
    "            "
   ]
  },
  {
   "cell_type": "code",
   "execution_count": null,
   "metadata": {},
   "outputs": [],
   "source": [
    "''' 18. Write a Python program to interleave multiple lists of same length. \n",
    "    Data:\n",
    "        x: [1, 2, 3, 4, 5, 6, 7]\n",
    "        y: [10, 20, 30, 40, 50, 60, 70]\n",
    "        z: [100, 200, 300, 400, 500, 600, 700]\n",
    "    Expected Output:\n",
    "        Interleave multiple lists:\n",
    "        [1, 10, 100, 2, 20, 200, 3, 30, 300, 4, 40, 400, 5, 50, 500, 6, 60, 600, 7, 70, 700] '''\n",
    "        \n",
    "        \n",
    "        \n",
    "        "
   ]
  },
  {
   "cell_type": "code",
   "execution_count": null,
   "metadata": {},
   "outputs": [],
   "source": [
    "''' 19. Write a Python program to remove those words from the given list which contains a special character or a specified string. \n",
    "    Data:\n",
    "        ['suresk', 'kumar#', 'siva', 'boss@', 'bala']\n",
    "    Expected Output:\n",
    "        Character list:\n",
    "        ['#', 'color', '@']\n",
    "\n",
    "        New list:\n",
    "        ['suresk', '', 'siva', '', 'bala'] '''\n",
    "        \n",
    "        \n",
    "        \n",
    "        "
   ]
  },
  {
   "cell_type": "code",
   "execution_count": null,
   "metadata": {},
   "outputs": [],
   "source": [
    "''' 20. Write a Python program to calculate the sum of the numbers in a list between the indices of a specified range. \n",
    "    Data:\n",
    "        [4, 1, 9, 6, 8, 3, 1, 9, 10, 11, 8, 12]\n",
    "    Expected Output:\n",
    "        Range: 8 , 10\n",
    "        Sum of the specified range:\n",
    "        29 '''\n",
    "        \n",
    "        \n",
    "        \n",
    "        "
   ]
  }
 ],
 "metadata": {
  "kernelspec": {
   "display_name": "Python 3",
   "language": "python",
   "name": "python3"
  },
  "language_info": {
   "codemirror_mode": {
    "name": "ipython",
    "version": 3
   },
   "file_extension": ".py",
   "mimetype": "text/x-python",
   "name": "python",
   "nbconvert_exporter": "python",
   "pygments_lexer": "ipython3",
   "version": "3.8.5"
  }
 },
 "nbformat": 4,
 "nbformat_minor": 4
}
