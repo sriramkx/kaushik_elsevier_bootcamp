{
 "cells": [
  {
   "cell_type": "markdown",
   "metadata": {},
   "source": [
    "## List Simple - Questions"
   ]
  },
  {
   "cell_type": "code",
   "execution_count": 8,
   "metadata": {},
   "outputs": [
    {
     "name": "stdout",
     "output_type": "stream",
     "text": [
      "List is not empty\n"
     ]
    }
   ],
   "source": [
    "# 1. Write a Python program to check whether the list is empty or not.\n",
    "inputList = [1,2,3,4,5]\n",
    "count=0\n",
    "for i in inputList:\n",
    "    count+=1\n",
    "if count>=1:\n",
    "    print(\"List is not empty\")\n",
    "else:\n",
    "    print(\"List is empty\")\n"
   ]
  },
  {
   "cell_type": "code",
   "execution_count": 16,
   "metadata": {},
   "outputs": [
    {
     "name": "stdout",
     "output_type": "stream",
     "text": [
      "0 5\n",
      "1 15\n",
      "2 35\n",
      "3 8\n",
      "4 98\n"
     ]
    }
   ],
   "source": [
    "# 2. Write a Python program to access the index of all the elements in a list.\n",
    " #       Data:\n",
    "  #          x = [5, 15, 35, 8, 98]\n",
    "   #     Expected Output:\n",
    "    #        0 5\n",
    "     #       1 15\n",
    "      #      2 35\n",
    "       #     3 8\n",
    "        #    4 98 '''\n",
    "x = [5, 15, 35, 8, 98]\n",
    "for i in x:\n",
    "    print(x.index(i), i)\n"
   ]
  },
  {
   "cell_type": "code",
   "execution_count": 20,
   "metadata": {},
   "outputs": [
    {
     "name": "stdout",
     "output_type": "stream",
     "text": [
      "abcd\n"
     ]
    }
   ],
   "source": [
    "#''' 3. Write a Python program to convert a list of characters into a string.\n",
    " #       Data:\n",
    "   #         x = ['a', 'b', 'c', 'd']\n",
    "    #    Expected Output:\n",
    "     #       abcd '''\n",
    "x = ['a', 'b', 'c', 'd']\n",
    "newString=''\n",
    "for i in x:\n",
    "    newString+=i\n",
    "print(newString)"
   ]
  },
  {
   "cell_type": "code",
   "execution_count": 22,
   "metadata": {},
   "outputs": [
    {
     "name": "stdout",
     "output_type": "stream",
     "text": [
      "Index of 4 is 2\n"
     ]
    }
   ],
   "source": [
    "#''' 4. Write a Python program to find the index of specified item in a list.\n",
    " #       Data:\n",
    "  #          x = [10, 30, 4, -6]\n",
    "   #     Expected Output:\n",
    "    #        Index of 4 is 2 '''\n",
    "x = [10, 30, 4, -6]\n",
    "expectedIndexFor=4\n",
    "print('Index of', expectedIndexFor, 'is', x.index(expectedIndexFor))\n"
   ]
  },
  {
   "cell_type": "code",
   "execution_count": 23,
   "metadata": {},
   "outputs": [
    {
     "name": "stdout",
     "output_type": "stream",
     "text": [
      "sum is -5\n"
     ]
    }
   ],
   "source": [
    "#''' 5. Write a Python program to print the sum of all the items in a list.\n",
    " #   Data:\n",
    "  #      lt = [1, 2, -8]\n",
    "   # Expected Output:\n",
    "    #    sum is -5 '''\n",
    "lt = [1, 2, -8]\n",
    "sum=0;\n",
    "for i in lt:\n",
    "    sum+=i\n",
    "print('sum is',sum)\n"
   ]
  },
  {
   "cell_type": "code",
   "execution_count": 24,
   "metadata": {},
   "outputs": [
    {
     "name": "stdout",
     "output_type": "stream",
     "text": [
      "-16\n"
     ]
    }
   ],
   "source": [
    "#''' 6. Write a Python program to multiply all the items in a list.\n",
    " #       Data:\n",
    "  #          [1, 2, -8]\n",
    "   #     Expected Output:\n",
    "    #        -16 '''\n",
    "x=[1, 2, -8]\n",
    "prod=1;\n",
    "for i in x:\n",
    "    prod*=i\n",
    "print(prod)\n"
   ]
  },
  {
   "cell_type": "code",
   "execution_count": 25,
   "metadata": {},
   "outputs": [
    {
     "name": "stdout",
     "output_type": "stream",
     "text": [
      "2\n"
     ]
    }
   ],
   "source": [
    "#''' 7. Write a Python program to get the largest number from a list.\n",
    " #       Data:\n",
    "  #          [1, 2, -8, 0]\n",
    "   #     Expected Output:\n",
    "    #        2 '''\n",
    "x=[1, 2, -8, 0]\n",
    "x.sort(reverse=True)\n",
    "print(x[0])\n",
    "\n"
   ]
  },
  {
   "cell_type": "code",
   "execution_count": 26,
   "metadata": {},
   "outputs": [
    {
     "name": "stdout",
     "output_type": "stream",
     "text": [
      "-8\n"
     ]
    }
   ],
   "source": [
    "#''' 8. Write a Python program to get the smallest number from a list. \n",
    " #       Data:\n",
    "  #          [1, 2, -8, 0]\n",
    "   #     Expected Output:\n",
    "    #        -8 '''\n",
    "x=[1, 2, -8, 0]\n",
    "x.sort()\n",
    "print(x[0])\n"
   ]
  },
  {
   "cell_type": "code",
   "execution_count": 34,
   "metadata": {},
   "outputs": [
    {
     "name": "stdout",
     "output_type": "stream",
     "text": [
      "{40, 10, 80, 50, 20, 60, 30}\n"
     ]
    }
   ],
   "source": [
    "#''' 9. Write a Python program to remove duplicate items from a list.\n",
    " #       Data:\n",
    "  #          a = [10,20,30,20,10,50,60,40,80,50,40]\n",
    "   #     Expected Output:\n",
    "    #        [10, 20, 30, 50, 60, 40, 80] '''\n",
    "a = [10,20,30,20,10,50,60,40,80,50,40]\n",
    "print(set(a))\n"
   ]
  },
  {
   "cell_type": "code",
   "execution_count": 35,
   "metadata": {},
   "outputs": [
    {
     "name": "stdout",
     "output_type": "stream",
     "text": [
      "X - [10, 22, 44, 23, 4]\n",
      "Y - [10, 22, 44, 23, 4]\n"
     ]
    }
   ],
   "source": [
    "#''' 10. Write a Python program to clone or copy a list.\n",
    " #       Data:\n",
    "  #          x = [10, 22, 44, 23, 4]\n",
    "   #     Expected Output:\n",
    "    #        X - [10, 22, 44, 23, 4]\n",
    "     #       Y - [10, 22, 44, 23, 4] '''\n",
    "x = [10, 22, 44, 23, 4]\n",
    "y=x.copy()\n",
    "print('X -', x)\n",
    "print('Y -',y)\n"
   ]
  },
  {
   "cell_type": "code",
   "execution_count": 36,
   "metadata": {},
   "outputs": [
    {
     "name": "stdout",
     "output_type": "stream",
     "text": [
      "(1, 2, 3, 4, 5)\n",
      "[1, 2, 3, 4, 5]\n"
     ]
    }
   ],
   "source": [
    "#''' 11. Write a Python program to convert a tuple into a List.\n",
    " #       Data:\n",
    "  #          x = (1,2,3,4,5)\n",
    "   #     Expected Output:\n",
    "    #        (1, 2, 3, 4, 5)\n",
    "     #       [1, 2, 3, 4, 5] '''\n",
    "x = (1,2,3,4,5)\n",
    "newList = list(x)\n",
    "print(x)\n",
    "print(newList)\n"
   ]
  },
  {
   "cell_type": "code",
   "execution_count": 39,
   "metadata": {},
   "outputs": [
    {
     "name": "stdout",
     "output_type": "stream",
     "text": [
      "[7, 25, 27]\n"
     ]
    }
   ],
   "source": [
    "#''' 12. Write a Python program to print the numbers of a specified list after removing even numbers from it.\n",
    " #       Data:\n",
    "  #          x = [7, 8, 120, 25, 44, 20, 27]\n",
    "   #     Expected Output:\n",
    "   #         [7, 25, 27] '''\n",
    "x = [7, 8, 120, 25, 44, 20, 27]\n",
    "y = []\n",
    "for i in x:\n",
    "    if i%2==1:\n",
    "        y.append(i)\n",
    "print(y)\n"
   ]
  },
  {
   "cell_type": "code",
   "execution_count": 44,
   "metadata": {},
   "outputs": [
    {
     "name": "stdout",
     "output_type": "stream",
     "text": [
      "['Green', 'White', 'Red', 'Black', 'Pink', 'Yellow']\n"
     ]
    }
   ],
   "source": [
    "#''' 13. Write a Python program to shuffle and print a specified list. \n",
    " #       Data:\n",
    "  #          x = ['Red', 'Green', 'White', 'Black', 'Pink', 'Yellow']\n",
    "   #     Expected Output:\n",
    "    #        ['Pink', 'Black', 'Red', 'Yellow', 'White', 'Green'] '''\n",
    "\n",
    "x = ['Red', 'Green', 'White', 'Black', 'Pink', 'Yellow']\n",
    "print(list(set(x)))\n"
   ]
  },
  {
   "cell_type": "code",
   "execution_count": 47,
   "metadata": {},
   "outputs": [
    {
     "name": "stdout",
     "output_type": "stream",
     "text": [
      "[1, 2, 3, 0, 'Red', 'Green', 'Black']\n"
     ]
    }
   ],
   "source": [
    "#''' 14. Write a Python program to append the second list to the first list.\n",
    " #       Data:\n",
    "  #          x = [1, 2, 3, 0]\n",
    "   #         y = ['Red', 'Green', 'Black']\n",
    "    #    Expected Output:\n",
    "     #       [1, 2, 3, 0, 'Red', 'Green', 'Black'] '''\n",
    "x = [1, 2, 3, 0]\n",
    "y = ['Red', 'Green', 'Black']\n",
    "x.extend(y)\n",
    "print(x)\n"
   ]
  },
  {
   "cell_type": "code",
   "execution_count": 67,
   "metadata": {},
   "outputs": [
    {
     "name": "stdout",
     "output_type": "stream",
     "text": [
      "Black\n"
     ]
    }
   ],
   "source": [
    "#''' 15. Write a Python program to select an item randomly from a list.\n",
    " #       Data:\n",
    "  #          x = ['Red', 'Blue', 'Green', 'White', 'Black']\n",
    "   #     Expected Output:\n",
    "    #        White '''\n",
    "import random \n",
    "x = ['Red', 'Blue', 'Green', 'White', 'Black']\n",
    "randomIndex = random.randint(0, len(x)-1)\n",
    "print(x[randomIndex])"
   ]
  },
  {
   "cell_type": "code",
   "execution_count": 50,
   "metadata": {},
   "outputs": [
    {
     "name": "stdout",
     "output_type": "stream",
     "text": [
      "[10, 20, 30, 40, 50, 60]\n"
     ]
    }
   ],
   "source": [
    "#''' 16. Write a Python program to get unique values from a list.\n",
    " #       Data:\n",
    "  #          Original List :  [10, 20, 30, 40, 20, 50, 60, 40]\n",
    "   #     Expected Output:\n",
    "    #        List of unique numbers :  [40, 10, 50, 20, 60, 30] '''\n",
    "inputList = [10, 20, 30, 40, 20, 50, 60, 40]\n",
    "newList=[]\n",
    "for i in inputList:\n",
    "    if newList.count(i)==0:\n",
    "        newList.append(i)\n",
    "print(newList)\n"
   ]
  },
  {
   "cell_type": "code",
   "execution_count": 81,
   "metadata": {},
   "outputs": [
    {
     "ename": "TypeError",
     "evalue": "replace expected at least 2 arguments, got 1",
     "output_type": "error",
     "traceback": [
      "\u001b[1;31m---------------------------------------------------------------------------\u001b[0m",
      "\u001b[1;31mTypeError\u001b[0m                                 Traceback (most recent call last)",
      "Cell \u001b[1;32mIn[81], line 13\u001b[0m\n\u001b[0;32m     10\u001b[0m \u001b[38;5;66;03m#unique_id = uuid.uuid4()\u001b[39;00m\n\u001b[0;32m     11\u001b[0m \u001b[38;5;66;03m#print(unique_id)\u001b[39;00m\n\u001b[0;32m     12\u001b[0m var1 \u001b[38;5;241m=\u001b[39m \u001b[38;5;124m\"\u001b[39m\u001b[38;5;124mPython\u001b[39m\u001b[38;5;124m\"\u001b[39m\n\u001b[1;32m---> 13\u001b[0m unique_id \u001b[38;5;241m=\u001b[39m \u001b[38;5;28mstr\u001b[39m(uuid\u001b[38;5;241m.\u001b[39muuid4())\u001b[38;5;241m.\u001b[39mreplace(\u001b[38;5;124m'\u001b[39m\u001b[38;5;124m-\u001b[39m\u001b[38;5;124m'\u001b[39m)\n\u001b[0;32m     14\u001b[0m \u001b[38;5;28mprint\u001b[39m(id1)\n\u001b[0;32m     16\u001b[0m var2 \u001b[38;5;241m=\u001b[39m \u001b[38;5;241m123\u001b[39m\n",
      "\u001b[1;31mTypeError\u001b[0m: replace expected at least 2 arguments, got 1"
     ]
    }
   ],
   "source": [
    "#''' 17. Write a Python program to get variable unique identification number or string.\n",
    " #       Data:\n",
    "  #          var1 = 'Python'\n",
    "   #         var2 = 123\n",
    "    #    Expected Output:\n",
    "     #       186756869b0\n",
    "      #      7ffea3a83660 '''\n",
    "import uuid\n",
    "\n",
    "#unique_id = uuid.uuid4()\n",
    "#print(unique_id)\n",
    "var1 = \"Python\"\n",
    "unique_id = str(uuid.uuid4()).replace('-')\n",
    "print(id1)\n",
    "\n",
    "var2 = 123\n",
    "unique_id = str(uuid.uuid4()).replace('-')\n",
    "print(id2)\n",
    "\n"
   ]
  },
  {
   "cell_type": "code",
   "execution_count": 71,
   "metadata": {},
   "outputs": [
    {
     "name": "stdout",
     "output_type": "stream",
     "text": [
      "{'Green', 'White', 'Red', 'Pink', 'Black', 'Orange'}\n"
     ]
    }
   ],
   "source": [
    "#''' 18. Write a Python program to print common elements from two lists using set().\n",
    " #       Data:\n",
    "  #          x = (\"Red\", \"Green\", \"Orange\", \"White\")\n",
    "   #         y = (\"Black\", \"Green\", \"White\", \"Pink\")\n",
    "    #    Expected Output:\n",
    "     #       {'White', 'Green'} '''\n",
    "x = (\"Red\", \"Green\", \"Orange\", \"White\")\n",
    "y = (\"Black\", \"Green\", \"White\", \"Pink\")\n",
    "a=set(x)\n",
    "b=set(y)\n",
    "print(a.intersection(b))\n"
   ]
  },
  {
   "cell_type": "code",
   "execution_count": 75,
   "metadata": {},
   "outputs": [
    {
     "name": "stdout",
     "output_type": "stream",
     "text": [
      "112233\n"
     ]
    }
   ],
   "source": [
    "#''' 19. Write a Python program to convert a list of multiple integers into a single integer.\n",
    " #       Data:\n",
    "  #          x = [11, 22, 33]\n",
    "   #     Expected Output:\n",
    "    #        112233 '''\n",
    "x = [11, 22, 33]\n",
    "newString=''\n",
    "for i in x:\n",
    "    newString+=str(i)\n",
    "print(newString)\n"
   ]
  },
  {
   "cell_type": "code",
   "execution_count": 1,
   "metadata": {},
   "outputs": [
    {
     "name": "stdout",
     "output_type": "stream",
     "text": [
      "{1: [], 2: [], 3: [], 4: [], 5: [], 6: [], 7: [], 8: [], 9: [], 10: []}\n"
     ]
    }
   ],
   "source": [
    "#''' 20. Write a Python program to create multiple lists.\n",
    " #       Data:\n",
    "x = {}\n",
    "for i in range(1,11):\n",
    "    x[i]=[]\n",
    "print(x)\n",
    "    \n",
    "   #     Expected Output:\n",
    "    #        {'1': [], '2': [], '3': [], '4': [], '5': [], '6': [], '7': [], '8': [], '9': []} '''"
   ]
  },
  {
   "cell_type": "code",
   "execution_count": null,
   "metadata": {},
   "outputs": [],
   "source": []
  }
 ],
 "metadata": {
  "kernelspec": {
   "display_name": "Python 3 (ipykernel)",
   "language": "python",
   "name": "python3"
  },
  "language_info": {
   "codemirror_mode": {
    "name": "ipython",
    "version": 3
   },
   "file_extension": ".py",
   "mimetype": "text/x-python",
   "name": "python",
   "nbconvert_exporter": "python",
   "pygments_lexer": "ipython3",
   "version": "3.12.4"
  }
 },
 "nbformat": 4,
 "nbformat_minor": 4
}
