{
 "cells": [
  {
   "cell_type": "markdown",
   "metadata": {},
   "source": [
    "# Dictionary Simple Questions"
   ]
  },
  {
   "cell_type": "code",
   "execution_count": 70,
   "metadata": {},
   "outputs": [
    {
     "name": "stdout",
     "output_type": "stream",
     "text": [
      "{0: 10, 1: 20, 2: 30}\n",
      "{0: 10, 1: 20, 2: 30}\n"
     ]
    }
   ],
   "source": [
    "#1. Write a Python program to add a new key to the dictionary.\n",
    " #   Data:\n",
    "x = {0: 10, 1: 20}\n",
    "y = {2:30}\n",
    "for i in y.keys():\n",
    "    x[i]=y.get(i)\n",
    "print(x)\n",
    "  #  Expected Output:\n",
    "   #     {0: 10, 1: 20, 2: 30} \n",
    "        \n",
    "        \n",
    "        \n",
    "        "
   ]
  },
  {
   "cell_type": "code",
   "execution_count": 6,
   "metadata": {},
   "outputs": [
    {
     "name": "stdout",
     "output_type": "stream",
     "text": [
      "a -> 10\n",
      "b -> 20\n",
      "c -> 30\n"
     ]
    }
   ],
   "source": [
    "#2. Write a Python program to iterate over dictionaries using for loops.\n",
    " #   Data:\n",
    "d = {\"a\":10, \"b\":20, \"c\":30,}\n",
    "for k,v in d.items():\n",
    "    print(k,'->', v)\n",
    "\n",
    "\n",
    " #   Expected Output:\n",
    "  #      a -> 10\n",
    "   #     b -> 20\n",
    "    #    c -> 30\n",
    "        \n",
    "        \n",
    "        \n",
    "        "
   ]
  },
  {
   "cell_type": "code",
   "execution_count": 11,
   "metadata": {},
   "outputs": [
    {
     "name": "stdout",
     "output_type": "stream",
     "text": [
      "250\n"
     ]
    }
   ],
   "source": [
    "#3. Write a Python program to sum all the values in a dictionary. \n",
    " #   Data:\n",
    "d = {\"data1\":100, \"data2\":-50, \"data3\":200}\n",
    "sum=0\n",
    "for i in d.values():\n",
    "    sum+=i\n",
    "print(sum)\n",
    "  #  Expected Output:\n",
    "   #     250\n",
    "        \n",
    "        \n",
    "        \n",
    "        "
   ]
  },
  {
   "cell_type": "code",
   "execution_count": 13,
   "metadata": {},
   "outputs": [
    {
     "name": "stdout",
     "output_type": "stream",
     "text": [
      "-1000000\n"
     ]
    }
   ],
   "source": [
    "#4. Write a Python program to multiply all the values in a dictionary.\n",
    " #   Data:\n",
    "d={\"data1\":100, \"data2\":-50, \"data3\":200}\n",
    "prod=1\n",
    "for i in d.values():\n",
    "    prod*=i\n",
    "print(prod)\n",
    "  #  Expected Output:\n",
    "   #     -1000000        "
   ]
  },
  {
   "cell_type": "code",
   "execution_count": 21,
   "metadata": {},
   "outputs": [
    {
     "name": "stdout",
     "output_type": "stream",
     "text": [
      "{'a': 1, 'b': 2, 'c': 3, 'd': 4}\n",
      "{'b': 2, 'c': 3, 'd': 4}\n"
     ]
    }
   ],
   "source": [
    "#5. Write a Python program to remove a key from a dictionary.\n",
    " #   Data:\n",
    "d={\"a\":1,\"b\":2,\"c\":3,\"d\":4}\n",
    "print(d)\n",
    "d.pop('a')\n",
    "print(d)\n",
    "  #  Expected Output:\n",
    "   #     {'a': 1, 'b': 2, 'c': 3, 'd': 4}\n",
    "    #    {'b': 2, 'c': 3, 'd': 4}\n",
    "        \n",
    "        \n",
    "        \n",
    "        "
   ]
  },
  {
   "cell_type": "code",
   "execution_count": 29,
   "metadata": {},
   "outputs": [
    {
     "name": "stdout",
     "output_type": "stream",
     "text": [
      "{'Chandler': 'Sarcasm', 'Monica': 'Chef', 'Joey': 'Food'}\n"
     ]
    }
   ],
   "source": [
    "#6. Write a Python program to map two lists into a dictionary.\n",
    " #   Data:\n",
    "keys = [\"Chandler\", \"Monica\", \"Joey\"]\n",
    "values = [\"Sarcasm\", \"Chef\", \"Food\"]\n",
    "newObj={}\n",
    "for i in keys:\n",
    "    for j in values:\n",
    "        newObj[i] = j\n",
    "        values.remove(j)\n",
    "        break\n",
    "print(newObj)\n",
    "  #  Expected Output:\n",
    "   #     {'Chandler': 'Sarcasm', 'Monica': 'Chef', 'Joey': 'Food'}\n",
    "        \n",
    "        \n",
    "        \n"
   ]
  },
  {
   "cell_type": "code",
   "execution_count": 40,
   "metadata": {},
   "outputs": [
    {
     "name": "stdout",
     "output_type": "stream",
     "text": [
      "Chandler: Sarcasm\n",
      "Joey: Food\n",
      "Monica: Chef\n",
      "Rachel: Fashion\n",
      "Ross: Dinosaur\n"
     ]
    }
   ],
   "source": [
    "#7. Write a Python program to sort a dictionary by key. \n",
    " #   Data:\n",
    "dict = {'Chandler': 'Sarcasm', 'Monica': 'Chef', 'Joey': 'Food', 'Ross': 'Dinosaur', 'Rachel': 'Fashion'}\n",
    "newObj = {}\n",
    "keyList = list(dict.keys())\n",
    "keyList.sort()\n",
    "for key in keyList:\n",
    "    newObj[key] = dict.get(key)\n",
    "    print(key+':', newObj.get(key))\n",
    "    \n",
    "\n",
    "  #  Expected Output:\n",
    "   #     Chandler: Sarcasm\n",
    "    #    Joey: Food\n",
    "     #   Monica: Chef\n",
    "      #  Rachel: Fashion\n",
    "       # Ross: Dinosaur\n",
    "            \n",
    "            \n",
    "            \n"
   ]
  },
  {
   "cell_type": "code",
   "execution_count": 42,
   "metadata": {},
   "outputs": [
    {
     "name": "stdout",
     "output_type": "stream",
     "text": [
      "Dictionary is empty\n"
     ]
    }
   ],
   "source": [
    "#8. Write a Python program to check whether a dictionary is empty or not.\n",
    " #   Data:\n",
    "dict={}\n",
    "keyList = list(dict.keys())\n",
    "if len(keyList) == 0:\n",
    "    print(\"Dictionary is empty\")\n",
    "  #  Expected Output:\n",
    "   #     Dictionary is empty\n",
    "        \n",
    "        "
   ]
  },
  {
   "cell_type": "code",
   "execution_count": 44,
   "metadata": {},
   "outputs": [
    {
     "name": "stdout",
     "output_type": "stream",
     "text": [
      "physics\n",
      "math\n",
      "chemistry\n"
     ]
    }
   ],
   "source": [
    "#9. Write a Python program to print the keys by index in a dictionary.\n",
    " #   Data:\n",
    "d = {'physics': 90, 'math': 100, 'chemistry': 96}\n",
    "for key in d.keys():\n",
    "    print(key)\n",
    "  #  Expected Output:\n",
    "   #     physics\n",
    "    #    math\n",
    "     #   chemistry\n",
    "        \n",
    "        \n",
    "        \n",
    "        "
   ]
  },
  {
   "cell_type": "code",
   "execution_count": 45,
   "metadata": {},
   "outputs": [
    {
     "name": "stdout",
     "output_type": "stream",
     "text": [
      "{1: 10, 2: 20, 3: 30, 4: 40, 5: 50, 6: 60}\n"
     ]
    }
   ],
   "source": [
    "#10. Write a Python program to concatenate following dictionaries to create a new one.\n",
    " #   Data:\n",
    "d1={1:10, 2:20} \n",
    "d2={3:30, 4:40} \n",
    "d3={5:50, 6:60}\n",
    "newObj = {}\n",
    "for d in (d1, d2, d3):\n",
    "    newObj.update(d)\n",
    "print(newObj)\n",
    "  #  Expected Output:\n",
    "   #     {1: 10, 2: 20, 3: 30, 4: 40, 5: 50, 6: 60}\n",
    "        \n",
    "        \n",
    "        \n"
   ]
  },
  {
   "cell_type": "code",
   "execution_count": 10,
   "metadata": {},
   "outputs": [
    {
     "name": "stdout",
     "output_type": "stream",
     "text": [
      "{1: 1, 2: 4, 3: 9, 4: 16, 5: 25, 6: 36}\n"
     ]
    }
   ],
   "source": [
    "#11. Write a Python program to generate a dictionary that has length n and the elements in the format of {x: x*x}. \n",
    " #   Data:\n",
    "n = 6\n",
    "newObj={}\n",
    "i=1\n",
    "for i in range(i,n+1):\n",
    "    newObj.update({i:i*i})   \n",
    "print(newObj)\n",
    "  #  Expected Output:\n",
    "   #     {1: 1, 2: 4, 3: 9, 4: 16, 5: 25, 6: 36}\n",
    "\n",
    "        \n",
    "        \n",
    "        "
   ]
  },
  {
   "cell_type": "code",
   "execution_count": 11,
   "metadata": {},
   "outputs": [
    {
     "name": "stdout",
     "output_type": "stream",
     "text": [
      "{1: 1, 2: 4, 3: 9, 4: 16, 5: 25, 6: 36, 7: 49, 8: 64, 9: 81, 10: 100, 11: 121, 12: 144, 13: 169, 14: 196, 15: 225}\n"
     ]
    }
   ],
   "source": [
    "#12. Write a Python program to print a dictionary where the keys are numbers between 1 and 15 (both included) and \n",
    " #   the values are square of keys.\n",
    "n = 15\n",
    "newObj={}\n",
    "i=1\n",
    "for i in range(i,n+1):\n",
    "    newObj.update({i:i*i})   \n",
    "print(newObj)\n",
    "\n",
    "  #  Expected Output:\n",
    "   #     {1: 1, 2: 4, 3: 9, 4: 16, 5: 25, 6: 36, 7: 49, 8: 64, 9: 81, 10: 100, 11: 121, 12: 144, 13: 169, 14: 196, 15: 225}\n",
    "\n",
    "        \n",
    "        \n",
    "        "
   ]
  },
  {
   "cell_type": "code",
   "execution_count": 13,
   "metadata": {},
   "outputs": [
    {
     "name": "stdout",
     "output_type": "stream",
     "text": [
      "{'a': 10, 'b': 20, 'x': 30, 'y': 40}\n"
     ]
    }
   ],
   "source": [
    "#13. Write a Python program to merge two dictionaries. \n",
    " #   Data:\n",
    "d1 = {\"a\":10, \"b\":20}\n",
    "d2 = {\"x\":30, \"y\":40}\n",
    "newObj={}\n",
    "for d in (d1, d2):\n",
    "    newObj.update(d)\n",
    "print(newObj)\n",
    "  #  Expected Output:\n",
    "   #     {'a': 10, 'b': 20, 'x': 30, 'y': 40}\n",
    "        \n",
    "        \n",
    "        \n",
    "        "
   ]
  },
  {
   "cell_type": "code",
   "execution_count": 14,
   "metadata": {},
   "outputs": [
    {
     "name": "stdout",
     "output_type": "stream",
     "text": [
      "Bihar   Patna\n",
      "Sikkim   Gangtok\n",
      "Goa   Panaji\n"
     ]
    }
   ],
   "source": [
    "#14. Write a Python program to iterate over a dictionary and print all the keys and values using for loops.\n",
    " #   Data:\n",
    "d = {\"Bihar\":'Patna', \"Sikkim\":'Gangtok', \"Goa\":'Panaji'}\n",
    "for k,v in d.items():\n",
    "        print(k+\"   \"+v)\n",
    "    \n",
    "  #  Expected Output:\n",
    "   #     Bihar   Patna\n",
    "    #    Sikkim  Gangtok\n",
    "     #   Goa     Panaji\n",
    "\n",
    "        \n",
    "        \n",
    "        "
   ]
  },
  {
   "cell_type": "code",
   "execution_count": 69,
   "metadata": {},
   "outputs": [
    {
     "name": "stdout",
     "output_type": "stream",
     "text": [
      "{'a': 40, 'b': 40, 'c': 30, 'd': 40}\n"
     ]
    }
   ],
   "source": [
    "##15. Write a Python program to add the values of common keys by combining two dictionaries.\n",
    " #   Data:\n",
    "#d1 = {'a': 10, 'b': 20, 'c':30}\n",
    "#d2 = {'a': 30, 'b': 20, 'd':40}\n",
    "#d={}\n",
    "#type(list(d1.keys()))\n",
    "#for i in list(d1.keys()):\n",
    " #   if list(d2.keys()).includes(i):\n",
    "  #      d[i] = d1.get(i)+d2.get(i)\n",
    "#print(d)\n",
    "  #  Expected Output:    \n",
    "   #     Counter({'a': 40, 'b': 40, 'd': 40, 'c': 30})\n",
    "\n",
    "def merge_and_sum_dicts(dict1, dict2):\n",
    "    # Create a new dictionary to store the result\n",
    "    result = {}\n",
    "\n",
    "    # Add all keys and values from dict1 to the result\n",
    "    for key in dict1:\n",
    "        result[key] = dict1[key]\n",
    "\n",
    "    # Add all keys and values from dict2 to the result\n",
    "    for key in dict2:\n",
    "        if key in result:\n",
    "            # If key exists in both dictionaries, sum the values\n",
    "            result[key] += dict2[key]\n",
    "        else:\n",
    "            # If key does not exist in the result dictionary, just add it\n",
    "            result[key] = dict2[key]\n",
    "\n",
    "    return result\n",
    "\n",
    "# Example usage\n",
    "d1 = {'a': 10, 'b': 20, 'c':30}\n",
    "d2 = {'a': 30, 'b': 20, 'd':40}\n",
    "\n",
    "merged_dict = merge_and_sum_dicts(d1, d2)\n",
    "print(merged_dict)\n",
    "        \n",
    "    "
   ]
  },
  {
   "cell_type": "code",
   "execution_count": 27,
   "metadata": {},
   "outputs": [
    {
     "name": "stdout",
     "output_type": "stream",
     "text": [
      "ac\n",
      "ad\n",
      "bc\n",
      "bd\n"
     ]
    }
   ],
   "source": [
    "#16. Write a Python program to create and display all combinations of letters, selecting each letter from a different key in a dictionary.\n",
    " #   Data:\n",
    "d={'1':['a','b'], '2':['c','d']}\n",
    "arr = list(d.values())\n",
    "for i in arr[0]:\n",
    "    for j in arr[1]:\n",
    "        print(i+j)\n",
    "#    Expected Output: \n",
    "#        ac\n",
    "#        ad\n",
    "#        bc\n",
    "#        bd\n",
    "        \n",
    "        \n",
    "        \n",
    "        "
   ]
  },
  {
   "cell_type": "code",
   "execution_count": 62,
   "metadata": {},
   "outputs": [
    {
     "name": "stdout",
     "output_type": "stream",
     "text": [
      "a\n",
      "a\n",
      "c\n",
      "d\n",
      "e\n",
      "f\n"
     ]
    }
   ],
   "source": [
    "#17. Write a Python program to find the highest 3 values and print the corresponding keys from a dictionary.\n",
    "#    Data:\n",
    "d = {'a':500, 'b':5874, 'c': 560,'d':400, 'e':5874, 'f': 20} \n",
    "keyList=list(d.keys())\n",
    "valList=list(d.values())\n",
    "valList.sort(reverse=True)\n",
    "for i in valList:\n",
    "    pos = valList.index(i)    \n",
    "    print(keyList[pos])\n",
    "\n",
    "#    Expected Output: \n",
    "#        ['b', 'e', 'c']\n",
    "        \n",
    "        \n",
    "        \n"
   ]
  },
  {
   "cell_type": "code",
   "execution_count": 50,
   "metadata": {},
   "outputs": [
    {
     "name": "stdout",
     "output_type": "stream",
     "text": [
      "C1 C2 C3 \n",
      "1  5  9  \n",
      "2  6  10  \n",
      "3  7  11  \n"
     ]
    }
   ],
   "source": [
    "#18. Write a Python program to print the dictionary in a table format.\n",
    " #   Data:\n",
    "d = {'C1':[1,2,3], 'C2':[5,6,7], 'C3':[9,10,11]}\n",
    "for i in d.keys():\n",
    "    print(i, end =\" \")\n",
    "print()\n",
    "arr = list(d.values())\n",
    "for j in (0,1,2):\n",
    "    for i in arr:    \n",
    "        print(i[j], end=\"  \")\n",
    "    print()\n",
    "    \n",
    "  #  Expected Output:\n",
    "   #     C1 C2 C3\n",
    "    #    1  5  9\n",
    "     #   2  6  10\n",
    "      #  3  7  11\n",
    "        \n",
    "        \n",
    "        \n",
    "        "
   ]
  },
  {
   "cell_type": "code",
   "execution_count": 65,
   "metadata": {},
   "outputs": [
    {
     "name": "stdout",
     "output_type": "stream",
     "text": [
      "{1: {2: {3: {4: {}}}}}\n"
     ]
    }
   ],
   "source": [
    "#19. Write a Python program to convert a list into a nested dictionary of keys.\n",
    " #   Data:\n",
    "d = [1, 2, 3, 4]\n",
    "\n",
    "def list_to_nested_dict(d):\n",
    "    if not d:\n",
    "        return {}\n",
    "    key = d[0]\n",
    "    rest_of_list = d[1:]    \n",
    "    return {key: list_to_nested_dict(rest_of_list)}\n",
    "\n",
    "d = [1, 2, 3, 4]\n",
    "nested_dict = list_to_nested_dict(d)\n",
    "print(nested_dict)\n",
    "  #  Expected Output:\n",
    "   #     {1: {2: {3: {4: {}}}}} \n",
    "        \n",
    "        \n",
    "        \n",
    "        "
   ]
  },
  {
   "cell_type": "code",
   "execution_count": 36,
   "metadata": {
    "scrolled": true
   },
   "outputs": [
    {
     "name": "stdout",
     "output_type": "stream",
     "text": [
      "{'n1': [1, 2, 3], 'n2': [1, 2, 5], 'n3': [2, 3, 4]}\n"
     ]
    }
   ],
   "source": [
    "#20. Write a Python program to sort a list of values alphabetically in a dictionary.\n",
    " #   Data:\n",
    "d = {'n1': [2, 3, 1], 'n2': [5, 1, 2], 'n3': [3, 2, 4]}\n",
    "for i in list(d.values()):\n",
    "    i.sort()\n",
    "print(d)\n",
    "\n",
    "  #  Expected Output:\n",
    "   #     {'n1': [1, 2, 3], 'n2': [1, 2, 5], 'n3': [2, 3, 4]}\n",
    "          \n",
    "            \n",
    "            \n",
    "            "
   ]
  }
 ],
 "metadata": {
  "kernelspec": {
   "display_name": "Python 3 (ipykernel)",
   "language": "python",
   "name": "python3"
  },
  "language_info": {
   "codemirror_mode": {
    "name": "ipython",
    "version": 3
   },
   "file_extension": ".py",
   "mimetype": "text/x-python",
   "name": "python",
   "nbconvert_exporter": "python",
   "pygments_lexer": "ipython3",
   "version": "3.12.4"
  }
 },
 "nbformat": 4,
 "nbformat_minor": 4
}
