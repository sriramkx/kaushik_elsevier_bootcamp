{
 "cells": [
  {
   "cell_type": "markdown",
   "metadata": {},
   "source": [
    "# Dictionary Hard Questions"
   ]
  },
  {
   "cell_type": "code",
   "execution_count": null,
   "metadata": {},
   "outputs": [],
   "source": [
    "1. Write a Python program to get the maximum and minimum value from a dictionary. \n",
    "    Data:\n",
    "        d1 = {'x':500, 'y':5874, 'z': 560}\n",
    "    Expected Output:\n",
    "        Maximum Value:  5874\n",
    "        Minimum Value:  500\n",
    "            \n",
    "            \n",
    "            \n",
    "            "
   ]
  },
  {
   "cell_type": "code",
   "execution_count": null,
   "metadata": {},
   "outputs": [],
   "source": [
    "2. Write a Python program to remove duplicate key value from the given dictionary.\n",
    "    Data:\n",
    "        student_data = {'id1': \n",
    "   {'name': ['Boss'], \n",
    "    'class': ['V'], \n",
    "    'subject_integration': ['english, math, science']\n",
    "   },\n",
    " 'id2': \n",
    "  {'name': ['Suresh'], \n",
    "    'class': ['V'], \n",
    "    'subject_integration': ['english, math, science']\n",
    "   },\n",
    " 'id3': \n",
    "    {'name': ['Siva'], \n",
    "    'class': ['V'], \n",
    "    'subject_integration': ['english, math, science']\n",
    "   },\n",
    " 'id2': \n",
    "  {'name': ['Suresh'], \n",
    "    'class': ['V'], \n",
    "    'subject_integration': ['english, math, science']\n",
    "   },\n",
    " 'id4': \n",
    "   {'name': ['Surya'], \n",
    "    'class': ['V'], \n",
    "    'subject_integration': ['english, math, science']\n",
    "   },\n",
    "}\n",
    "    Expected Output:\n",
    "        {'id1': {'name': ['Boss'], 'class': ['V'], 'subject_integration': ['english, math, science']}, \n",
    "         'id2': {'name': ['Suresh'], 'class': ['V'], 'subject_integration': ['english, math, science']}, \n",
    "         'id3': {'name': ['Siva'], 'class': ['V'], 'subject_integration': ['english, math, science']}, \n",
    "         'id4': {'name': ['Surya'], 'class': ['V'], 'subject_integration': ['english, math, science']}}\n",
    "        \n",
    "        \n",
    "        \n",
    "        "
   ]
  },
  {
   "cell_type": "code",
   "execution_count": null,
   "metadata": {},
   "outputs": [],
   "source": [
    "3. Write a Python program to create a dictionary from two lists without losing duplicate values.\n",
    "    Data:\n",
    "        lists: ['Class-V', 'Class-VI', 'Class-VII', 'Class-VIII'], [1, 2, 2, 3]\n",
    "    Expected Output:\n",
    "        defaultdict(<class 'set'>, {'Class-V': {1}, 'Class-VI': {2}, 'Class-VII': {2}, 'Class-VIII': {3}})\n",
    "        \n",
    "        \n",
    "        \n",
    "        "
   ]
  },
  {
   "cell_type": "code",
   "execution_count": null,
   "metadata": {},
   "outputs": [],
   "source": [
    "4. Write a Python program to replace dictionary values with their average.\n",
    "    Data:\n",
    "        student= [\n",
    "                   {'id' : 1, 'subject' : 'math', 'V' : 70, 'VI' : 82},\n",
    "                   {'id' : 2, 'subject' : 'math', 'V' : 73, 'VI' : 74},\n",
    "                   {'id' : 3, 'subject' : 'math', 'V' : 75, 'VI' : 86}\n",
    "                                                                       ]\n",
    "    Expected Output:\n",
    "        [{'id': 1, 'subject': 'math', 'V+VI': 76.0}, \n",
    "         {'id': 2, 'subject': 'math', 'V+VI': 73.5}, \n",
    "         {'id': 3, 'subject': 'math', 'V+VI': 80.5}]\n",
    "        \n",
    "        \n",
    "        \n",
    "        "
   ]
  },
  {
   "cell_type": "code",
   "execution_count": null,
   "metadata": {},
   "outputs": [],
   "source": [
    "5. Write a Python program to store a given dictionary in a json file.\n",
    "    Data:\n",
    "        d = {'students': [{'firstName': 'Boss', 'lastName': 'King'}, \n",
    "                  {'firstName': 'Siva', 'lastName': 'Raj'}, \n",
    "                  {'firstName': 'suresh', 'lastName': 'kumar'}], \n",
    "            'teachers': [{'firstName': 'Kumar', 'lastName': 'Samy'},\n",
    "                   {'firstName': 'Dinesh', 'lastName': 'Kumar'}]}\n",
    "    Expected Output:\n",
    "        The output displayed from json file.\n",
    "        {'students': [{'firstName': 'Boss', 'lastName': 'King'}, \n",
    "                      {'firstName': 'Siva', 'lastName': 'Raj'}, \n",
    "                      {'firstName': 'suresh', 'lastName': 'kumar'}],\n",
    "         'teachers': [{'firstName': 'Kumar', 'lastName': 'Samy'}, \n",
    "                      {'firstName': 'Dinesh', 'lastName': 'Kumar'}]}\n",
    "        \n",
    "        \n",
    "        \n",
    "        "
   ]
  },
  {
   "cell_type": "code",
   "execution_count": null,
   "metadata": {},
   "outputs": [],
   "source": [
    "6. Write a Python program to convert more than one list to nested dictionary. \n",
    "    Data:\n",
    "        student_id = [\"R1\", \"R2\", \"R3\", \"R4\"] \n",
    "        student_name = [\"Saravana\", \"Shreya\", \"Shakthi\", \"Shwetha\"] \n",
    "        student_grade = [85, 98, 89, 92]\n",
    "    Expected Output:\n",
    "        Nested dictionary:\n",
    "            [{'R1': {'Saravana': 85}}, {'R2': {'Shreya': 98}}, {'R3': {'Shakthi': 89}}, {'R4': {'Shwetha': 92}}] \n",
    "            \n",
    "        "
   ]
  },
  {
   "cell_type": "code",
   "execution_count": null,
   "metadata": {},
   "outputs": [],
   "source": [
    "7. Write a Python program to filter those students whose height > 5.5 and weight > 65 from the given dictionary.\n",
    "    Data:\n",
    "        {'Varun': (6.2, 70), 'Tharun': (5.9, 60), 'Arun': (6.0, 68), 'Suran': (5.8, 66)}\n",
    "    Expected Output:  \n",
    "        Height > 5.5 and weight > 65:\n",
    "            {'Varun': (6.2, 70), 'Arun': (6.0, 68), 'Suran': (5.8, 66)}\n",
    "        \n",
    "        \n",
    "        \n",
    "        "
   ]
  },
  {
   "cell_type": "code",
   "execution_count": null,
   "metadata": {},
   "outputs": [],
   "source": [
    "8. Write a Python program to check all values in a dictionary are same.\n",
    "    Data:\n",
    "        {'dinesh': 12, 'boss': 12, 'siva': 12, 'suresh': 12}\n",
    "    Expected Output:   \n",
    "        Check all are  12 in the dictionary.\n",
    "        True\n",
    "        Check all are  10 in the dictionary.\n",
    "        False\n",
    "        \n",
    "        \n",
    "        \n",
    "        "
   ]
  },
  {
   "cell_type": "code",
   "execution_count": null,
   "metadata": {},
   "outputs": [],
   "source": [
    "9. Write a Python program to extract a list of values from a specified key('Maths'), from a given list of dictionaries.\n",
    "    Data:\n",
    "        [{'Math': 90, 'Science': 92}, {'Math': 89, 'Science': 94}, {'Math': 92, 'Science': 88}]\n",
    "    Expected Output:\n",
    "        Extract a list of values from said list of dictonaries where subject =  Math[90, 89, 92]\n",
    "        \n",
    "        \n",
    "        \n",
    "        "
   ]
  },
  {
   "cell_type": "code",
   "execution_count": null,
   "metadata": {},
   "outputs": [],
   "source": [
    "10. Write a Python program to find the length of each value in a dictionary and display the value and length of the value in a separate dictionary.\n",
    "    Data:\n",
    "        color = {1 : 'red', 2 : 'green', 3 : 'black', 4 : 'white', 5 : 'black'}\n",
    "        name = {'1' : 'Boss', '2' : 'Siva', '3' : 'Suresh', '4' : 'Kumar'}\n",
    "    Expected Output:\n",
    "        length of dictionary values:\n",
    "        {'red': 3, 'green': 5, 'black': 5, 'white': 5}\n",
    "        {'Boss': 4, 'Siva': 4, 'Suresh': 6, 'Kumar': 5}\n",
    "\n",
    "            \n",
    "            \n",
    "            "
   ]
  },
  {
   "cell_type": "code",
   "execution_count": null,
   "metadata": {},
   "outputs": [],
   "source": [
    "11. Write a Python program to convert a given dictionary into a list of lists.\n",
    "    Data:\n",
    "        color = {1 : 'red', 2 : 'green', 3 : 'black', 4 : 'white', 5 : 'black'}\n",
    "        name = {'1' : 'Boss', '2' : 'Siva', '3' : 'Suresh', '4' : 'Kumar'\n",
    "    Expected Output:\n",
    "        Convert the said dictionary into a list of lists:\n",
    "        [[1, 'red'], [2, 'green'], [3, 'black'], [4, 'white'], [5, 'black']]\n",
    "        [['1', 'Boss'], ['2', 'Siva'], ['3', 'Suresh'], ['4', 'Kumar']]\n",
    "                \n",
    "                \n",
    "                \n",
    "                "
   ]
  },
  {
   "cell_type": "code",
   "execution_count": null,
   "metadata": {},
   "outputs": [],
   "source": [
    "12. Write a Python program to filter even numbers from a given dictionary values.\n",
    "    Data:\n",
    "        students = {'V' : [1, 4, 6, 10], 'VI' : [1, 4, 12], 'VII' : [1, 3, 8]} \n",
    "        students = {'V' : [1, 3, 5], 'VI' : [1, 5], 'VII' : [2, 7, 9]} \n",
    "    Expected Output:\n",
    "        Filter even numbers from said dictionary values:\n",
    "        {'V': [4, 6, 10], 'VI': [4, 12], 'VII': [8]}\n",
    "        {'V': [], 'VI': [], 'VII': [2]}\n",
    "        \n",
    "        \n",
    "        \n",
    "        "
   ]
  },
  {
   "cell_type": "code",
   "execution_count": null,
   "metadata": {},
   "outputs": [],
   "source": [
    "13. Write a python function to return the keys from a dictionary. The function should take two arguments, \n",
    "                a list and a number of highest values to be displayed.\n",
    "    Data:\n",
    "        dictt = {'a':5, 'b':14, 'c': 32, 'd':35, 'e':24, 'f': 100, 'g':57, 'h':8, 'i': 100}\n",
    "    Expected Output:\n",
    "        When n = 2,\n",
    "        Top 2 highest values' key are: ['f', 'i']\n",
    "        Top 5 highest values' key are: ['f', 'i', 'g', 'd', 'c']\n",
    "        \n",
    "        \n",
    "        \n",
    "        "
   ]
  },
  {
   "cell_type": "code",
   "execution_count": null,
   "metadata": {},
   "outputs": [],
   "source": [
    "14. Write a Python function to return the keys of shortest list of values from the given dictionary.\n",
    "    Data:\n",
    "        {'V': [10, 12], 'VI': [10], 'VII': [10, 20, 30, 40], 'VIII': [20], 'IX': [10, 30, 50, 70], 'X': [80]}\n",
    "    Expected Output:\n",
    "        Keys of shortest list of values are: ['VI', 'VIII', 'X']\n",
    "        \n",
    "        \n",
    "        \n",
    "        "
   ]
  },
  {
   "cell_type": "code",
   "execution_count": null,
   "metadata": {},
   "outputs": [],
   "source": [
    "15. Write a python program to count the frequency of values from a given dictionary. \n",
    "                    Print the values and its count as a separate dictionary.\n",
    "Write a Python program to count the frequency in a given dictionary.\n",
    "    Data:\n",
    "        {'V': 10, 'VI': 10, 'VII': 40, 'VIII': 20, 'IX': 70, 'X': 80, 'XI': 40, 'XII': 20}\n",
    "    Expected Output:\n",
    "        Counter({10: 2, 40: 2, 20: 2, 70: 1, 80: 1})\n",
    "        \n",
    "        \n",
    "        \n",
    "        "
   ]
  },
  {
   "cell_type": "code",
   "execution_count": null,
   "metadata": {},
   "outputs": [],
   "source": [
    "16. Write a Python program to extract values from a given dictionaries and create a list of lists from those values.\n",
    "    Data:\n",
    "        students = [\n",
    "        {'student_id': 1, 'name': 'Basakr', 'class': 'V'}, \n",
    "        {'student_id': 2, 'name': 'Suresh', 'class': 'V'},\n",
    "        {'student_id': 3, 'name': 'Siva', 'class': 'VI'}, \n",
    "        {'student_id': 4, 'name': 'Karthi', 'class': 'VI'}, \n",
    "        {'student_id': 5, 'name': 'Dinesh', 'class': 'VII'}\n",
    "        ]\n",
    "    Expected Output:\n",
    "         [[1, 'Basakr', 'V'], [2, 'Suresh', 'V'], [3, 'Siva', 'VI'], [4, 'Karthi', 'VI'], [5, 'Dinesh', 'VII']]\n",
    "         [[1, 'Basakr'], [2, 'Suresh'], [3, 'Siva'], [4, 'Karthi'], [5, 'Dinesh']]\n",
    "         [['Basakr', 'V'], ['Suresh', 'V'], ['Siva', 'VI'], ['Karthi', 'VI'], ['Dinesh', 'VII']]\n",
    "            \n",
    "            \n",
    "            \n"
   ]
  },
  {
   "cell_type": "code",
   "execution_count": null,
   "metadata": {},
   "outputs": [],
   "source": [
    "17. Write a Python program to convert a given list of lists into a dictionary.\n",
    "    Data:\n",
    "        students = [[1, 'Basakr', 'V'], [2, 'Suresh', 'V'], [3, 'Siva', 'VI'], [4, 'Karthi', 'VI'], [5, 'Dinesh', 'VII']]\n",
    "    Expected Output:\n",
    "        {1: ['Basakr', 'V'], 2: ['Suresh', 'V'], 3: ['Siva', 'VI'], 4: ['Karthi', 'VI'], 5: ['Dinesh', 'VII']}\n",
    "        \n",
    "        \n",
    "        \n",
    "        "
   ]
  },
  {
   "cell_type": "code",
   "execution_count": null,
   "metadata": {},
   "outputs": [],
   "source": [
    "18. Write a Python program to print the total length of all values of a given dictionary.\n",
    "    Data:\n",
    "        name = {'#FF0000':'Boss', '#800000':'Siva', '#FFFF00':'Kumar', '#808000':'Suresh'}\n",
    "    Expected Output:\n",
    "        Total length of all values of the said dictionary: 19\n",
    "        \n",
    "        \n",
    "        \n",
    "        "
   ]
  },
  {
   "cell_type": "code",
   "execution_count": null,
   "metadata": {},
   "outputs": [],
   "source": [
    "19. Write a Python program to check whether a specified Key and a value exists in a dictionary. Return True if present, false if not.\n",
    "    Data:\n",
    "         students = [\n",
    "        {'student_id': 1, 'name': 'Basakr', 'class': 'V'}, \n",
    "        {'student_id': 2, 'name': 'Suresh', 'class': 'V'},\n",
    "        {'student_id': 3, 'name': 'Siva', 'class': 'VI'}, \n",
    "        {'student_id': 4, 'name': 'Karthi', 'class': 'VI'}, \n",
    "        {'student_id': 5, 'name': 'Dinesh', 'class': 'VII'}\n",
    "        ]\n",
    "    Expected Output:\n",
    "            Check if a specific Key and a value exist in the said dictionary:\n",
    "                True\n",
    "                False\n",
    "                True\n",
    "                False\n",
    "                False\n",
    "                False\n",
    "                \n",
    "                \n",
    "                \n",
    "        "
   ]
  },
  {
   "cell_type": "code",
   "execution_count": null,
   "metadata": {},
   "outputs": [],
   "source": [
    "20. Write a Python program to check all values are same in a dictionary.\n",
    "    Data:\n",
    "        {'dinesh': 45, 'boss': 45, 'siva': 45, 'suresh': 45}\n",
    "    Expected Output:\n",
    "        Check all are  12 in the dictionary.\n",
    "        False\n",
    "        Check all are  45 in the dictionary.\n",
    "        True\n",
    "        \n",
    "        \n",
    "        \n",
    "        "
   ]
  }
 ],
 "metadata": {
  "kernelspec": {
   "display_name": "Python 3",
   "language": "python",
   "name": "python3"
  },
  "language_info": {
   "codemirror_mode": {
    "name": "ipython",
    "version": 3
   },
   "file_extension": ".py",
   "mimetype": "text/x-python",
   "name": "python",
   "nbconvert_exporter": "python",
   "pygments_lexer": "ipython3",
   "version": "3.8.5"
  }
 },
 "nbformat": 4,
 "nbformat_minor": 4
}
