{
 "cells": [
  {
   "cell_type": "markdown",
   "metadata": {},
   "source": [
    "# Set Intermediate Questions"
   ]
  },
  {
   "cell_type": "code",
   "execution_count": null,
   "metadata": {},
   "outputs": [],
   "source": [
    "1. Write a Python program to check if two given sets have no elements in common. Return True if no common element, False if has common elements.\n",
    "    Data:\n",
    "        a = {1,2,3,4}\n",
    "        b = {4,5,6,7}\n",
    "        c = {8}\n",
    "    Expected Output:\n",
    "        Compare a and b: False\n",
    "        Compare a and c: True\n",
    "        Compare b and c: True    \n",
    "            \n",
    "            \n",
    "            \n",
    "            "
   ]
  },
  {
   "cell_type": "code",
   "execution_count": null,
   "metadata": {},
   "outputs": [],
   "source": [
    "2. Write a Python program to check if a given value is present in a set or not. \n",
    "    Data:\n",
    "        {1, 4, 5, 6, 11, 80, 20, 23} \n",
    "    Expected Output:\n",
    "        Test if 11 exists in nums: True\n",
    "        Test if 6 is not in nums:  True\n",
    "        Test if 7 exists in nums:  False\n",
    "            \n",
    "            \n",
    "            "
   ]
  },
  {
   "cell_type": "code",
   "execution_count": null,
   "metadata": {},
   "outputs": [],
   "source": [
    "3. Write a Python program to print the following output from the given list x, y using frozenset().\n",
    "    Data:\n",
    "        x =[1, 2, 3, 4, 5]\n",
    "        y =[3, 4, 5, 6, 7]\n",
    "    Expected Output:\n",
    "        False\n",
    "        frozenset({1, 2})\n",
    "        frozenset({1, 2, 3, 4, 5, 6, 7})\n",
    "        \n",
    "        "
   ]
  },
  {
   "cell_type": "code",
   "execution_count": null,
   "metadata": {},
   "outputs": [],
   "source": [
    "''' 4. Write a Python program to print the following output from given set x={5, 7}, y={3, 2}, z=set() find the Expected Output.\n",
    "    Expected Output:\n",
    "        {(8, 3), (6, 3), (7, 2), (5, 2)} '''\n",
    "\n",
    "#Didnt understand the question \n",
    "\n"
   ]
  },
  {
   "cell_type": "code",
   "execution_count": null,
   "metadata": {},
   "outputs": [],
   "source": [
    "''' 5. Write a Python program to count the elements in a list until an element is a set.\n",
    "    Data:\n",
    "        x = [10,20,30,(10,20),40]\n",
    "    Expected Output:\n",
    "        2 '''\n",
    "        \n",
    "# The question has no set only tuple in it. Error displayed 'unhashable type set' if tried to execute     \n",
    "        \n",
    "        "
   ]
  },
  {
   "cell_type": "code",
   "execution_count": null,
   "metadata": {},
   "outputs": [],
   "source": [
    "6. Write a Python program to multiply all the elements in a given set.\n",
    "    Data:\n",
    "        x = {4, 3, 2, 2, -1, 18}\n",
    "    Expected Output:\n",
    "        Original set : {2, 3, 4, 18, -1}\n",
    "        Product - multiplying all the numbers of the said set: -432           \n",
    "            \n",
    "            \n",
    "            "
   ]
  },
  {
   "cell_type": "code",
   "execution_count": null,
   "metadata": {},
   "outputs": [],
   "source": [
    "7. Write a Python program to compute element-wise sum of given sets.\n",
    "    Data: \n",
    "        x = {1, 2, 3, 4}\n",
    "        y = {3, 5, 2, 1}\n",
    "        z = {2, 2, 3, 1}\n",
    "    Expected Output:\n",
    "        Original sets:\n",
    "            {1, 2, 3, 4}\n",
    "            {1, 2, 3, 5}\n",
    "            {1, 2, 3}\n",
    "        Element-wise sum of the said sets:\n",
    "            {9, 3, 6} \n",
    "        \n",
    "        "
   ]
  },
  {
   "cell_type": "code",
   "execution_count": null,
   "metadata": {},
   "outputs": [],
   "source": [
    "8. Write a Python program to sum of all counts in a collections.\n",
    "    Data:\n",
    "        x = {2, 2, 4, 6, 6, 8, 6, 10, 4}\n",
    "    Expected Output:\n",
    "        5\n",
    "        \n",
    "        "
   ]
  },
  {
   "cell_type": "code",
   "execution_count": null,
   "metadata": {},
   "outputs": [],
   "source": [
    "9. Write a Python program to create a bytearray from a set.\n",
    "    Data:\n",
    "        x = {10, 20, 56, 35, 17, 99}\n",
    "    Expected Output:\n",
    "        35\n",
    "        99\n",
    "        10\n",
    "        17\n",
    "        20\n",
    "        56\n",
    "        \n",
    "        \n",
    "        \n",
    "        "
   ]
  },
  {
   "cell_type": "code",
   "execution_count": null,
   "metadata": {},
   "outputs": [],
   "source": [
    "''' 10. Write a Python program to create the combinations of 3 digit combo to following given range(1000).\n",
    "    Expected Output:\n",
    "        999 '''\n",
    "\n",
    "#Didnt understand the question       \n",
    "        \n",
    "        "
   ]
  },
  {
   "cell_type": "code",
   "execution_count": null,
   "metadata": {},
   "outputs": [],
   "source": [
    "11. Write a Python program to add two positive integers without using the '+' operator.\n",
    "    Data:\n",
    "        (2, 10)\n",
    "        (10, -20)\n",
    "        (-10, -20)\n",
    "    Expected Output:\n",
    "         12\n",
    "        -10\n",
    "        -30\n",
    "        \n",
    "# But the question doesn't have any set items.\n",
    "        "
   ]
  },
  {
   "cell_type": "code",
   "execution_count": null,
   "metadata": {},
   "outputs": [],
   "source": [
    "''' 12. Write a Python program to find the digits which are absent in a given mobile number.\n",
    "    Data:\n",
    "        x = [0, 1, 2, 3, 4, 5, 6, 7, 8, 9]\n",
    "    Expected Output:\n",
    "        [1, 4, 5] '''\n",
    "        \n",
    "# Didnt understand the question        \n",
    "        "
   ]
  },
  {
   "cell_type": "code",
   "execution_count": null,
   "metadata": {},
   "outputs": [],
   "source": [
    "''' 13. Write a Python program to compute the digit number of sum of two given integers.\n",
    "    Data:\n",
    "        (a, b)=(5, 7)\n",
    "    Expected Output:\n",
    "        2 '''\n",
    "        \n",
    "# Didnt understand the question   \n",
    "        \n",
    "        "
   ]
  },
  {
   "cell_type": "code",
   "execution_count": null,
   "metadata": {},
   "outputs": [],
   "source": [
    "14. Write a Python program to create set difference. \n",
    "    Data:\n",
    "        x = {\"apple\", \"orange\", \"mango\", \"kiwi\"}\n",
    "        y = {\"orange\", \"mango\", \"watermelon\"}\n",
    "    Expected Output:\n",
    "        Difference between x & y is : {'orange', 'mango'}\n",
    "        Difference between x - z is : {'apple', 'kiwi'}\n",
    "        \n",
    "        "
   ]
  },
  {
   "cell_type": "code",
   "execution_count": null,
   "metadata": {},
   "outputs": [],
   "source": [
    "15. Write a Python program to find the difference between two given sets using difference() and - operator.\n",
    "    Data:\n",
    "        sn1 = {1, 2, 3, 4, 5}\n",
    "        sn2 = {4, 5, 6, 7, 8}\n",
    "    Expected Output:\n",
    "        Difference of sn1 and sn2 using difference(): {1, 2, 3}\n",
    "        Difference of sn2 and sn1 using difference(): {8, 6, 7}\n",
    "        Difference of sn1 and sn2 using - operator: {1, 2, 3}\n",
    "        Difference of sn2 and sn1 using - operator: {8, 6, 7}\n",
    "    \n",
    "        "
   ]
  },
  {
   "cell_type": "code",
   "execution_count": null,
   "metadata": {},
   "outputs": [],
   "source": [
    "16. Write a Python program to check whether a given set has no elements in common with another given set using isdisjoint().\n",
    "    Data:\n",
    "        {1, 2, 3}\n",
    "        {4, 5, 6}\n",
    "        {3}\n",
    "    Expected Output:\n",
    "        Check sn1 set has no elements in common with sn2 set:\n",
    "        True\n",
    "        Check sn1 set has no elements in common with sn3 set:\n",
    "        False\n",
    "        \n",
    "        "
   ]
  },
  {
   "cell_type": "code",
   "execution_count": null,
   "metadata": {},
   "outputs": [],
   "source": [
    "17. Write a  Python Program to print the common letters present in the two given strings using set().\n",
    "    Data:\n",
    "        x = \"Hello\"\n",
    "        y = \"World\"\n",
    "    Expected Output:\n",
    "        The common letters are:\n",
    "            o\n",
    "            l\n",
    "        \n",
    "        "
   ]
  },
  {
   "cell_type": "code",
   "execution_count": null,
   "metadata": {},
   "outputs": [],
   "source": [
    "18. Write a  Python Program to display the letters which are in the first string but not in the second string using set(). \n",
    "    Data:\n",
    "        x = \"Hello\"\n",
    "        y = \"World\"\n",
    "    Expected Output:\n",
    "        The letters are:\n",
    "            H\n",
    "            e\n",
    "        \n",
    "        "
   ]
  },
  {
   "cell_type": "code",
   "execution_count": null,
   "metadata": {},
   "outputs": [],
   "source": [
    "19. Write Python Program to display the letters which are not in common from both the given strings using set(). \n",
    "    Data:\n",
    "        x = \"Hello\"\n",
    "        y = \"World\"\n",
    "    Expected Output:\n",
    "        The letters are:\n",
    "            W\n",
    "            H\n",
    "            d\n",
    "            e\n",
    "            r\n",
    "            \n",
    "        "
   ]
  },
  {
   "cell_type": "code",
   "execution_count": null,
   "metadata": {},
   "outputs": [],
   "source": [
    "20. Write a Python program to check if a set is a subset of another set.\n",
    "    Data:\n",
    "        1:  {'green', 'blue'}\n",
    "        2:  {'blue', 'red'}\n",
    "        3:  {'blue'}\n",
    "    Expected Output:\n",
    "        If 1 is subset of 2\n",
    "        False\n",
    "        False\n",
    "        If 2 is subset of 1\n",
    "        False\n",
    "        False\n",
    "        \n",
    "        \n",
    "        \n",
    "        "
   ]
  },
  {
   "cell_type": "code",
   "execution_count": null,
   "metadata": {},
   "outputs": [],
   "source": [
    "# Doubt Questions\n",
    "\n",
    "#4 - Didnt understand the question \n",
    "#5 - The question has no set only tuple in it. Error displayed 'unhashable type set' if tried to execute     \n",
    "#10 - Didnt understand the question\n",
    "#11 - But the question doesn't have any set items.\n",
    "#12 - Didnt understand the question \n",
    "#13 - Didnt understand the question "
   ]
  }
 ],
 "metadata": {
  "kernelspec": {
   "display_name": "Python 3",
   "language": "python",
   "name": "python3"
  },
  "language_info": {
   "codemirror_mode": {
    "name": "ipython",
    "version": 3
   },
   "file_extension": ".py",
   "mimetype": "text/x-python",
   "name": "python",
   "nbconvert_exporter": "python",
   "pygments_lexer": "ipython3",
   "version": "3.8.5"
  }
 },
 "nbformat": 4,
 "nbformat_minor": 4
}
