{
 "cells": [
  {
   "cell_type": "code",
   "execution_count": 1,
   "metadata": {},
   "outputs": [],
   "source": [
    "1. Write a Python program to unzip a list of tuples into individual lists.\n",
    "    Data:\n",
    "        x = [(1,2), (3,4), (8,9)]\n",
    "    Expected Output:\n",
    "        [(1, 3, 8), (2, 4, 9)]\n",
    "        \n",
    "        "
   ]
  },
  {
   "cell_type": "code",
   "execution_count": 2,
   "metadata": {},
   "outputs": [],
   "source": [
    "2. Write a Python program to print a tuple with string formatting.\n",
    "    Data:\n",
    "        x = (10, 20, 30)\n",
    "    Expected Output:\n",
    "        This is a tuple (10, 20, 30)\n",
    "        \n",
    "        "
   ]
  },
  {
   "cell_type": "code",
   "execution_count": 3,
   "metadata": {},
   "outputs": [],
   "source": [
    "3. Write a Python program to replace last values of tuples in a list.\n",
    "    Data:\n",
    "        x= [(80, 60, 40), (40, 90, 60), (20, 40, 90)]\n",
    "    Expected Output:\n",
    "        [(80, 60, 100), (40, 90, 100), (20, 40, 100)]\n",
    "        \n",
    "        "
   ]
  },
  {
   "cell_type": "code",
   "execution_count": 4,
   "metadata": {},
   "outputs": [],
   "source": [
    "4. Write a Python program to remove an empty tuple(s) from a list of tuples.\n",
    "    Data:\n",
    "        X = [(), (), ('',), ('a', 'b'), ('c', 'd', 'e'), ('f')] \n",
    "    Expected Output:\n",
    "        [('',), ('a', 'b'), ('c', 'd', 'e'), 'f']        \n",
    "        \n",
    "        "
   ]
  },
  {
   "cell_type": "code",
   "execution_count": 5,
   "metadata": {},
   "outputs": [],
   "source": [
    "5. Write a Python program to sort a tuple by its element specified in float.\n",
    "    Data:\n",
    "        x = [('item1', '29.20'), ('item2', '49.10'), ('item3', '33.5')]\n",
    "    Expected Output:\n",
    "        [('item2', '49.10'), ('item3', '33.5'), ('item1', '29.20')]\n",
    "        \n",
    "        "
   ]
  },
  {
   "cell_type": "code",
   "execution_count": 2,
   "metadata": {},
   "outputs": [],
   "source": [
    "6. Write a Python program to count the elements in a list until an element is a tuple.\n",
    "    Data:\n",
    "        x = [10,20,30,(10,20),40]\n",
    "        y = 0\n",
    "    Expected Output:\n",
    "        3\n",
    "        \n",
    "        "
   ]
  },
  {
   "cell_type": "code",
   "execution_count": 3,
   "metadata": {},
   "outputs": [],
   "source": [
    "7. Write a Python program to Sort a tuple of tuples by 2nd item.\n",
    "    Data:\n",
    "        x = (('a', 23),('b', 37),('c', 11), ('d',29))\n",
    "    Expected Output:\n",
    "        (('c', 11), ('a', 23), ('d', 29), ('b', 37))\n",
    "        \n",
    "        "
   ]
  },
  {
   "cell_type": "code",
   "execution_count": 4,
   "metadata": {},
   "outputs": [],
   "source": [
    "8. Write a Python program to Check whether all items in a tuple are the same.\n",
    "    Data:\n",
    "        y = (45, 45, 45, 45)\n",
    "    Expected Output:\n",
    "        True\n",
    "        \n",
    "        "
   ]
  },
  {
   "cell_type": "code",
   "execution_count": 5,
   "metadata": {},
   "outputs": [],
   "source": [
    "9. Write a Python program to calculate the area of a circle by sending the value of radius in a tuple.\n",
    "    Data:\n",
    "        a = (5)\n",
    "    Expected Output:\n",
    "        78.57142857142857\n",
    "        \n",
    "        "
   ]
  },
  {
   "cell_type": "code",
   "execution_count": 6,
   "metadata": {},
   "outputs": [],
   "source": [
    "10. Write a Python program to calculate the circumference of a circle by sending the value of radius in a tuple.\n",
    "    Data:\n",
    "        a = (2)\n",
    "    Expected Output:\n",
    "        12.571428571428571        \n",
    "        \n",
    "        "
   ]
  },
  {
   "cell_type": "code",
   "execution_count": 7,
   "metadata": {},
   "outputs": [],
   "source": [
    "11. Write a Python program to calculate the perimeter of a square by sending the value of side in a tuple.\n",
    "    Data:\n",
    "        a = (3)\n",
    "    Expected Output:\n",
    "        12\n",
    "        \n",
    "        "
   ]
  },
  {
   "cell_type": "code",
   "execution_count": 8,
   "metadata": {},
   "outputs": [],
   "source": [
    "12. Write a Python program to calculate the area of a traingle by sending the value of height and base in a tuple.\n",
    "    Data:\n",
    "        h = (23)\n",
    "        b = (34)\n",
    "    Expected Output:\n",
    "        391.0\n",
    "        \n",
    "        "
   ]
  },
  {
   "cell_type": "code",
   "execution_count": 9,
   "metadata": {},
   "outputs": [],
   "source": [
    "13. Write a Python program to create a tuple with elements of different data types.\n",
    "    Expected Output:\n",
    "        ()\n",
    "        (1, 2, 3)\n",
    "        (1, 'Hello', 3.4)\n",
    "        ('HI', [8, 4, 6], (1, 2, 3))\n",
    "        \n",
    "        "
   ]
  },
  {
   "cell_type": "code",
   "execution_count": 10,
   "metadata": {},
   "outputs": [],
   "source": [
    "14. Write a Python program to unpack a tuple in several variables.\n",
    "    Data:\n",
    "        x = 3, 4.6, \"dog\"\n",
    "    Expected Output:\n",
    "        (3, 4.6, 'dog')\n",
    "        3\n",
    "        4.6\n",
    "        dog\n",
    "        \n",
    "        "
   ]
  },
  {
   "cell_type": "code",
   "execution_count": 1,
   "metadata": {},
   "outputs": [],
   "source": [
    "15. Write a Python program to update the value \"6\" to \"9\" which is present in a tuple using index. \n",
    "    Data:\n",
    "        x = (4, 2, 3, [6, 5])\n",
    "    Expected Output:\n",
    "        (4, 2, 3, [9, 5])\n",
    "        \n",
    "        "
   ]
  },
  {
   "cell_type": "code",
   "execution_count": 2,
   "metadata": {},
   "outputs": [],
   "source": [
    "16. Write a Python program to check whether an element is present in a given tuple using the keyword in. Print the elements of a tuple one by one.\n",
    "    Data:\n",
    "        x = (\"Bihar\", \"Odisha\", \"Assam\") \n",
    "    Expected Output:\n",
    "        yes Bihar is present in the given tuple\n",
    "\n",
    "        Bihar\n",
    "        Odisha\n",
    "        Assam\n",
    "        \n",
    "        "
   ]
  },
  {
   "cell_type": "code",
   "execution_count": 3,
   "metadata": {},
   "outputs": [],
   "source": [
    "17. Write a Python program to check whether an element is not present in a given tuple using the keyword not in. Print the elements of a tuple one by one.\n",
    "    Data:\n",
    "        x = (\"Bihar\", \"Odisha\", \"Assam\")\n",
    "    Expected Output:\n",
    "        False\n",
    "        True        \n",
    "        \n",
    "        "
   ]
  },
  {
   "cell_type": "code",
   "execution_count": 4,
   "metadata": {},
   "outputs": [],
   "source": [
    "''' 18. Write a Python program to print the following output from given tuple (5 > 3 and 5 < 10 )and (5 > 3 or 5 > 10) is True or False.\n",
    "    Expected Output:\n",
    "        Both statements are True\n",
    "        any one statements are True '''\n",
    "\n",
    "#Doubt:- There is no tuple here. Question not understood.       \n",
    "        "
   ]
  },
  {
   "cell_type": "code",
   "execution_count": 5,
   "metadata": {},
   "outputs": [],
   "source": [
    "19. Write a Python program to print an element from a given tuple using index and negative index.\n",
    "    Data:\n",
    "        x = (\"boss\", \"bala\", \"suresh\")\n",
    "    Expected Output:\n",
    "        bala\n",
    "        suresh\n",
    "        \n",
    "        "
   ]
  },
  {
   "cell_type": "code",
   "execution_count": null,
   "metadata": {},
   "outputs": [],
   "source": [
    "20. Write a Python program to print the elements of a given tuple using range of indices and range of negative indices.\n",
    "    Data:\n",
    "        x = (\"Magnum\", \"Pistah\", \"Strawberry\", \"Vennila\", \"Chocobar\", \"Blackberry\", \"Salad\")\n",
    "    Range of Indexes,Range of Negative Indexes.\n",
    "    Expected Output:\n",
    "        ('Strawberry', 'Vennila', 'Chocobar', 'Blackberry', 'Salad')\n",
    "        ('Vennila', 'Chocobar', 'Blackberry')        \n",
    "        \n",
    "        "
   ]
  },
  {
   "cell_type": "code",
   "execution_count": null,
   "metadata": {},
   "outputs": [],
   "source": [
    "#Doubt:- There is no tuple here. Question not understood.  #Question number 18"
   ]
  }
 ],
 "metadata": {
  "kernelspec": {
   "display_name": "Python 3",
   "language": "python",
   "name": "python3"
  },
  "language_info": {
   "codemirror_mode": {
    "name": "ipython",
    "version": 3
   },
   "file_extension": ".py",
   "mimetype": "text/x-python",
   "name": "python",
   "nbconvert_exporter": "python",
   "pygments_lexer": "ipython3",
   "version": "3.8.5"
  }
 },
 "nbformat": 4,
 "nbformat_minor": 4
}
